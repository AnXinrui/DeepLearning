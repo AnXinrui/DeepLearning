{
 "cells": [
  {
   "cell_type": "markdown",
   "id": "8f7434d3-5641-4c58-aadf-64474154bb38",
   "metadata": {},
   "source": [
    "目标：\n",
    "设计一个5层全连接网络是实下函数 $:y=x^2+2x-$3"
   ]
  },
  {
   "cell_type": "markdown",
   "id": "e9eab0d1-577e-4cd1-85b9-8e368eb578a1",
   "metadata": {},
   "source": [
    "# 无框架"
   ]
  },
  {
   "cell_type": "code",
   "execution_count": 35,
   "id": "b05a02e6-18ca-4e0d-90b6-1fec54d71158",
   "metadata": {},
   "outputs": [],
   "source": [
    "import numpy as np\n",
    "import matplotlib.pyplot as plt"
   ]
  },
  {
   "cell_type": "code",
   "execution_count": 2,
   "id": "be2937e1-70e6-4137-bb60-800056020cb3",
   "metadata": {},
   "outputs": [],
   "source": [
    "class NeuralNetwork:\n",
    "    def __init__(self, learning_rate = 0.01):\n",
    "        self.learning_rate = learning_rate\n",
    "        # np.random.seed(5201314)\n",
    "        # x(1, 20) w(10, 1) -> (10, 20)\n",
    "        self.W1 = np.random.randn(10, 1) * np.sqrt(2.0 / 1)  \n",
    "        self.b1 = np.zeros((10, 1))\n",
    "        # x2(10, 10) w2(10, 10) -> (10, 10)\n",
    "        self.W2 = np.random.randn(10, 10) * np.sqrt(2.0 / 10)\n",
    "        self.b2 = np.zeros((10, 1))\n",
    "        self.W3 = np.random.randn(10, 10) * np.sqrt(2.0 / 10)\n",
    "        self.b3 = np.zeros((10, 1))\n",
    "        self.W4 = np.random.randn(10, 10) * np.sqrt(2.0 / 10)\n",
    "        self.b4 = np.zeros((10, 1))\n",
    "        self.W5 = np.random.randn(1, 10) * np.sqrt(2.0 / 10)\n",
    "        self.b5 = np.zeros((1, 1))\n",
    "        \n",
    "    def activation(self, x):\n",
    "        return np.maximum(0, x)\n",
    "\n",
    "    def activation_derivative(self, x):\n",
    "        return np.where(x > 0, 1, 0)\n",
    "\n",
    "    def dense(self, a_in, W, b):\n",
    "        Z = np.matmul(W, a_in) + b\n",
    "        a_out = self.activation(Z)\n",
    "        return Z, a_out\n",
    "\n",
    "    def sequential(self, x):\n",
    "        self.z1, self.a1 = self.dense(x, self.W1, self.b1)\n",
    "        self.z2, self.a2 = self.dense(self.a1, self.W2, self.b2)\n",
    "        self.z3, self.a3 = self.dense(self.a2, self.W3, self.b3)\n",
    "        self.z4, self.a4 = self.dense(self.a3, self.W4, self.b4)\n",
    "        self.z5 = np.dot(self.W5, self.a4) + self.b5\n",
    "        self.a5 = self.z5  # 直接作为输出\n",
    "        return self.a5\n",
    "\n",
    "    def backward(self, X, y, output):\n",
    "        m = X.shape[1]\n",
    "        # 计算输出层的误差\n",
    "        delta5 = (output - y)\n",
    "        delta4 = np.dot(self.W5.T, delta5) * self.activation_derivative(self.z4)\n",
    "        delta3 = np.dot(self.W4.T, delta4) * self.activation_derivative(self.z3)\n",
    "        delta2 = np.dot(self.W3.T, delta3) * self.activation_derivative(self.z2)\n",
    "        delta1 = np.dot(self.W2.T, delta2) * self.activation_derivative(self.z1)\n",
    "\n",
    "        dW5 = (1 / m) * np.dot(delta5, self.a4.T)\n",
    "        db5 = (1 / m) * np.sum(delta5, axis=1, keepdims=True)\n",
    "        dW4 = (1 / m) * np.dot(delta4, self.a3.T)\n",
    "        db4 = (1 / m) * np.sum(delta4, axis=1, keepdims=True)\n",
    "        dW3 = (1 / m) * np.dot(delta3, self.a2.T)\n",
    "        db3 = (1 / m) * np.sum(delta3, axis=1, keepdims=True)\n",
    "        dW2 = (1 / m) * np.dot(delta2, self.a1.T)\n",
    "        db2 = (1 / m) * np.sum(delta2, axis=1, keepdims=True)\n",
    "        dW1 = (1 / m) * np.dot(delta1, X.T)\n",
    "        db1 = (1 / m) * np.sum(delta1, axis=1, keepdims=True)\n",
    "\n",
    "        return dW5, db5, dW4, db4, dW3, db3, dW2, db2, dW1, db1\n",
    "\n",
    "    def update_parameters(self, dW5, db5, dW4, db4, dW3, db3, dW2, db2, dW1, db1):\n",
    "        self.W5 -= self.learning_rate * dW5\n",
    "        self.b5 -= self.learning_rate * db5\n",
    "        self.W4 -= self.learning_rate * dW4\n",
    "        self.b4 -= self.learning_rate * db4\n",
    "        self.W3 -= self.learning_rate * dW3\n",
    "        self.b3 -= self.learning_rate * db3\n",
    "        self.W2 -= self.learning_rate * dW2\n",
    "        self.b2 -= self.learning_rate * db2\n",
    "        self.W1 -= self.learning_rate * dW1\n",
    "        self.b1 -= self.learning_rate * db1\n",
    "\n",
    "    def fit(self, X, y, epochs=100000):\n",
    "        for i in range(epochs):\n",
    "            output = self.sequential(X)\n",
    "            dW5, db5, dW4, db4, dW3, db3, dW2, db2, dW1, db1 = self.backward(X, y, output)\n",
    "            self.update_parameters(dW5, db5, dW4, db4, dW3, db3, dW2, db2, dW1, db1)\n",
    "            if i % 1000 == 0:\n",
    "                print(f'Epoch {i}: Loss {np.mean((output - y)**2)}')"
   ]
  },
  {
   "cell_type": "code",
   "execution_count": 3,
   "id": "98324caa-6c23-4e4b-9b3d-51cdd4ee868a",
   "metadata": {
    "scrolled": true
   },
   "outputs": [
    {
     "name": "stdout",
     "output_type": "stream",
     "text": [
      "(1, 200)\n",
      "Epoch 0: Loss 2423.8942557514574\n",
      "Epoch 1000: Loss 1124.7175985320366\n",
      "Epoch 2000: Loss 108.92923835545992\n",
      "Epoch 3000: Loss 89.07359459360647\n",
      "Epoch 4000: Loss 44.44948770112182\n",
      "Epoch 5000: Loss 23.823115270000862\n",
      "Epoch 6000: Loss 18.773809080611933\n",
      "Epoch 7000: Loss 16.89674660969606\n",
      "Epoch 8000: Loss 12.753836475862979\n",
      "Epoch 9000: Loss 9.174673036692877\n",
      "Epoch 10000: Loss 4.161490394815696\n",
      "Epoch 11000: Loss 5.982745606190174\n",
      "Epoch 12000: Loss 4.292706752121765\n",
      "Epoch 13000: Loss 2.0777968072875206\n",
      "Epoch 14000: Loss 2.0036689614527132\n",
      "Epoch 15000: Loss 1.6364359630204235\n",
      "Epoch 16000: Loss 1.9917047790838094\n",
      "Epoch 17000: Loss 1.3841705917983496\n",
      "Epoch 18000: Loss 10.279579523858809\n",
      "Epoch 19000: Loss 3.3629879481102467\n",
      "Epoch 20000: Loss 0.5653940092672886\n",
      "Epoch 21000: Loss 2.8151890656104865\n",
      "Epoch 22000: Loss 1.1950486970832908\n",
      "Epoch 23000: Loss 2.747201842666955\n",
      "Epoch 24000: Loss 0.40429734240024373\n",
      "Epoch 25000: Loss 1.1045944156238017\n",
      "Epoch 26000: Loss 1.038746185587388\n",
      "Epoch 27000: Loss 0.28831364237864165\n",
      "Epoch 28000: Loss 2.3234042482097204\n",
      "Epoch 29000: Loss 0.49966673262837447\n",
      "Epoch 30000: Loss 1.0585358042250477\n",
      "Epoch 31000: Loss 0.1948202332668476\n",
      "Epoch 32000: Loss 0.14760960473995388\n",
      "Epoch 33000: Loss 0.2290373193987422\n",
      "Epoch 34000: Loss 2.1369765781104566\n",
      "Epoch 35000: Loss 0.1876054675980112\n",
      "Epoch 36000: Loss 0.6502394632267321\n",
      "Epoch 37000: Loss 0.25946277159849607\n",
      "Epoch 38000: Loss 0.4870949545952412\n",
      "Epoch 39000: Loss 1.3479824532536069\n",
      "Epoch 40000: Loss 0.3223903798057462\n",
      "Epoch 41000: Loss 1.2407227532411285\n",
      "Epoch 42000: Loss 0.2080394037316433\n",
      "Epoch 43000: Loss 0.6895420689061633\n",
      "Epoch 44000: Loss 0.2456134966701712\n",
      "Epoch 45000: Loss 0.7817015777324454\n",
      "Epoch 46000: Loss 0.27480049873777784\n",
      "Epoch 47000: Loss 0.7722091840584251\n",
      "Epoch 48000: Loss 1.6349606383556476\n",
      "Epoch 49000: Loss 0.23789284065488694\n",
      "Epoch 50000: Loss 1.401351331198307\n",
      "Epoch 51000: Loss 1.7430526301075167\n",
      "Epoch 52000: Loss 0.30691570035309207\n",
      "Epoch 53000: Loss 0.8074591912910847\n",
      "Epoch 54000: Loss 0.1760322419186368\n",
      "Epoch 55000: Loss 0.27730935835796366\n",
      "Epoch 56000: Loss 0.2029369065235815\n",
      "Epoch 57000: Loss 0.6275704315904486\n",
      "Epoch 58000: Loss 0.3717617505026049\n",
      "Epoch 59000: Loss 0.06659022632101237\n",
      "Epoch 60000: Loss 0.07804789326248512\n",
      "Epoch 61000: Loss 0.6340406335161242\n",
      "Epoch 62000: Loss 0.07988512031944706\n",
      "Epoch 63000: Loss 0.07326951345228885\n",
      "Epoch 64000: Loss 0.5953971942937518\n",
      "Epoch 65000: Loss 0.210420237706537\n",
      "Epoch 66000: Loss 0.09794634101552407\n",
      "Epoch 67000: Loss 0.21522381497728965\n",
      "Epoch 68000: Loss 0.2093029808178514\n",
      "Epoch 69000: Loss 0.2546650759560359\n",
      "Epoch 70000: Loss 0.07501014797011905\n",
      "Epoch 71000: Loss 0.14878424166155085\n",
      "Epoch 72000: Loss 0.6352576410629298\n",
      "Epoch 73000: Loss 0.24123072272507076\n",
      "Epoch 74000: Loss 0.2004672738231377\n",
      "Epoch 75000: Loss 0.6250801297643429\n",
      "Epoch 76000: Loss 3.6388486549729167\n",
      "Epoch 77000: Loss 1.0282396392536712\n",
      "Epoch 78000: Loss 0.08160470800720805\n",
      "Epoch 79000: Loss 0.06358838736865648\n",
      "Epoch 80000: Loss 0.4649608592868818\n",
      "Epoch 81000: Loss 0.14298499572270723\n",
      "Epoch 82000: Loss 0.0668731341805123\n",
      "Epoch 83000: Loss 0.4886641847852642\n",
      "Epoch 84000: Loss 0.39899162002133015\n",
      "Epoch 85000: Loss 0.08685690068031324\n",
      "Epoch 86000: Loss 0.3277721765666085\n",
      "Epoch 87000: Loss 0.3067146947917774\n",
      "Epoch 88000: Loss 0.19450538292882727\n",
      "Epoch 89000: Loss 0.24862886970109435\n",
      "Epoch 90000: Loss 0.605313121520478\n",
      "Epoch 91000: Loss 0.2760725548439892\n",
      "Epoch 92000: Loss 0.3041159204766829\n",
      "Epoch 93000: Loss 0.6453690677627617\n",
      "Epoch 94000: Loss 0.07555169157158975\n",
      "Epoch 95000: Loss 0.1592296745098699\n",
      "Epoch 96000: Loss 0.253073916283954\n",
      "Epoch 97000: Loss 0.16600711474578517\n",
      "Epoch 98000: Loss 3.1185482796955455\n",
      "Epoch 99000: Loss 0.04840110720377902\n"
     ]
    }
   ],
   "source": [
    "# 生成样本数据\n",
    "X = np.linspace(-10, 10, 200).reshape(-1, 1)\n",
    "y = X**2 + 2*X - 3\n",
    "\n",
    "# 创建并训练神经网络\n",
    "nn = NeuralNetwork(learning_rate=0.001)\n",
    "print(X.T.shape)\n",
    "nn.fit(X.T, y.T)"
   ]
  },
  {
   "cell_type": "code",
   "execution_count": 4,
   "id": "8d126084-e2d1-4b25-ae8a-24c7f8fa4adc",
   "metadata": {},
   "outputs": [
    {
     "data": {
      "image/png": "[encoded data removed]",
      "text/plain": [
       "<Figure size 640x480 with 1 Axes>"
      ]
     },
     "metadata": {},
     "output_type": "display_data"
    }
   ],
   "source": [
    "# 生成测试样本数据\n",
    "X_test = np.linspace(-10, 10, 200).reshape(-1, 1)\n",
    "y_test = X**2 + 2*X - 3\n",
    "\n",
    "# 可视化结果\n",
    "plt.scatter(X_test, y_test)\n",
    "plt.plot(X_test, nn.sequential(X_test.T).flatten(), color='red')\n",
    "plt.xlabel('X')\n",
    "plt.ylabel('y')\n",
    "plt.title('Neural Network Regression')\n",
    "plt.show()"
   ]
  },
  {
   "cell_type": "markdown",
   "id": "ac867e92-5e25-4b02-ae38-2af8fae5ed20",
   "metadata": {},
   "source": [
    "# Pytorch 版本"
   ]
  },
  {
   "cell_type": "code",
   "execution_count": 23,
   "id": "000c074e-2937-4465-9ebf-fe2325a0d578",
   "metadata": {},
   "outputs": [],
   "source": [
    "# Numerical Operations\n",
    "import math\n",
    "import numpy as np\n",
    "\n",
    "# Reading/Writing Data\n",
    "import pandas as pd\n",
    "import os\n",
    "import csv\n",
    "\n",
    "# For Progress Bar\n",
    "from tqdm import tqdm\n",
    "\n",
    "# Pytorch\n",
    "import torch\n",
    "import torch.nn as nn\n",
    "from torch.utils.data import Dataset, DataLoader, random_split\n",
    "\n",
    "# For plotting learning curve\n",
    "from torch.utils.tensorboard import SummaryWriter"
   ]
  },
  {
   "cell_type": "code",
   "execution_count": 33,
   "id": "7f2dd477-d776-437b-816c-6d36bcec9731",
   "metadata": {},
   "outputs": [],
   "source": [
    "def train_valid_split(data_set, valid_ratio, seed):\n",
    "    '''Split provided training data into training set and validation set'''\n",
    "    valid_set_size = int(valid_ratio * len(data_set))\n",
    "    train_set_size = len(data_set) - valid_set_size\n",
    "    train_set, valid_set = random_split(data_set, [train_set_size, valid_set_size], generator=torch.Generator().manual_seed(seed))\n",
    "    return np.array(train_set), np.array(valid_set)\n",
    "\n",
    "def predict(test_loader, model, device):\n",
    "    model.eval() # Set your model to evaluation mode.\n",
    "    preds = []\n",
    "    for x in tqdm(test_loader):\n",
    "        x = x.to(device)\n",
    "        with torch.no_grad():\n",
    "            pred = model(x)\n",
    "            preds.append(pred.detach().cpu())\n",
    "    preds = torch.cat(preds, dim=0).numpy()\n",
    "    return preds"
   ]
  },
  {
   "cell_type": "code",
   "execution_count": 25,
   "id": "4c5cef8b-8395-4b66-816b-4ce8dfc7addc",
   "metadata": {},
   "outputs": [],
   "source": [
    "class MyDataset(Dataset):\n",
    "    '''\n",
    "    x: Features.\n",
    "    y: Targets, if none, do prediction.\n",
    "    '''\n",
    "    def __init__(self, x, y=None):\n",
    "        if y is None:\n",
    "            self.y = y\n",
    "        else:\n",
    "            self.y = torch.FloatTensor(y)\n",
    "        self.x = torch.FloatTensor(x)\n",
    "\n",
    "    def __getitem__(self, idx):\n",
    "        if self.y is None:\n",
    "            return self.x[idx]\n",
    "        else:\n",
    "            return self.x[idx], self.y[idx]\n",
    "\n",
    "    def __len__(self):\n",
    "        return len(self.x)"
   ]
  },
  {
   "cell_type": "code",
   "execution_count": 26,
   "id": "a6e16f09-3375-48a6-8a6c-5cb61c251f83",
   "metadata": {},
   "outputs": [],
   "source": [
    "class My_Model(nn.Module):\n",
    "    def __init__(self, input_dim):\n",
    "        super(My_Model, self).__init__()\n",
    "        # print(input_dim)\n",
    "        # TODO: modify model's structure, be aware of dimensions.\n",
    "        self.layers = nn.Sequential(\n",
    "            nn.Linear(input_dim, 16),\n",
    "            nn.ReLU(),\n",
    "            nn.Linear(16, 8),\n",
    "            nn.ReLU(),\n",
    "            nn.Linear(8, 10),\n",
    "            nn.ReLU(),\n",
    "            nn.Linear(10, 8),\n",
    "            nn.ReLU(),\n",
    "            nn.Linear(8, 1)\n",
    "        )\n",
    "\n",
    "    def forward(self, x):\n",
    "        x = self.layers(x)\n",
    "        x = x.squeeze(1) # (B, 1) -> (B)\n",
    "        return x"
   ]
  },
  {
   "cell_type": "code",
   "execution_count": 27,
   "id": "7138756b-ffd4-4cc9-a51a-9caf68f88ea8",
   "metadata": {},
   "outputs": [],
   "source": [
    "def trainer(train_loader, valid_loader, model, config, device):\n",
    "\n",
    "    criterion = nn.MSELoss(reduction='mean') # Define your loss function, do not modify this.\n",
    "\n",
    "    # Define your optimization algorithm.\n",
    "    # TODO: Please check https://pytorch.org/docs/stable/optim.html to get more available algorithms.\n",
    "    # TODO: L2 regularization (optimizer(weight decay...) or implement by your self).\n",
    "    optimizer = torch.optim.SGD(model.parameters(), lr=config['learning_rate'], momentum=0.9)\n",
    "\n",
    "    writer = SummaryWriter() # Writer of tensoboard.\n",
    "\n",
    "    if not os.path.isdir('./models'):\n",
    "        os.mkdir('./models') # Create directory of saving models.\n",
    "\n",
    "    n_epochs, best_loss, step, early_stop_count = config['n_epochs'], math.inf, 0, 0\n",
    "\n",
    "    for epoch in range(n_epochs):\n",
    "        model.train() # Set your model to train mode.\n",
    "        loss_record = []\n",
    "\n",
    "        # tqdm is a package to visualize your training progress.\n",
    "        train_pbar = tqdm(train_loader, position=0, leave=True)\n",
    "\n",
    "        for x, y in train_pbar:\n",
    "            optimizer.zero_grad()               # Set gradient to zero.\n",
    "            x, y = x.to(device), y.to(device)   # Move your data to device.\n",
    "            pred = model(x)\n",
    "            loss = criterion(pred, y)\n",
    "            loss.backward()                     # Compute gradient(backpropagation).\n",
    "            optimizer.step()                    # Update parameters.\n",
    "            step += 1\n",
    "            loss_record.append(loss.detach().item())\n",
    "\n",
    "            # Display current epoch number and loss on tqdm progress bar.\n",
    "            train_pbar.set_description(f'Epoch [{epoch+1}/{n_epochs}]')\n",
    "            train_pbar.set_postfix({'loss': loss.detach().item()})\n",
    "\n",
    "        mean_train_loss = sum(loss_record)/len(loss_record)\n",
    "        writer.add_scalar('Loss/train', mean_train_loss, step)\n",
    "\n",
    "        model.eval() # Set your model to evaluation mode.\n",
    "        loss_record = []\n",
    "        for x, y in valid_loader:\n",
    "            x, y = x.to(device), y.to(device)\n",
    "            with torch.no_grad():\n",
    "                pred = model(x)\n",
    "                loss = criterion(pred, y)\n",
    "\n",
    "            loss_record.append(loss.item())\n",
    "\n",
    "        mean_valid_loss = sum(loss_record)/len(loss_record)\n",
    "        print(f'Epoch [{epoch+1}/{n_epochs}]: Train loss: {mean_train_loss:.4f}, Valid loss: {mean_valid_loss:.4f}')\n",
    "        writer.add_scalar('Loss/valid', mean_valid_loss, step)\n",
    "\n",
    "        if mean_valid_loss < best_loss:\n",
    "            best_loss = mean_valid_loss\n",
    "            torch.save(model.state_dict(), config['save_path']) # Save your best model\n",
    "            print('Saving model with loss {:.3f}...'.format(best_loss))\n",
    "            early_stop_count = 0\n",
    "        else:\n",
    "            early_stop_count += 1\n",
    "\n",
    "        if early_stop_count >= config['early_stop']:\n",
    "            print('\\nModel is not improving, so we halt the training session.')\n",
    "            return"
   ]
  },
  {
   "cell_type": "markdown",
   "id": "d5fd00b5-0061-4918-b802-2e9335d45453",
   "metadata": {
    "id": "0pgkOh2e9UjE",
    "jp-MarkdownHeadingCollapsed": true
   },
   "source": [
    "\n",
    "`config` contains hyper-parameters for training and the path to save your model."
   ]
  },
  {
   "cell_type": "code",
   "execution_count": 28,
   "id": "0daee12c-5302-4c61-8414-d7d3925da9e2",
   "metadata": {},
   "outputs": [],
   "source": [
    "device = 'cuda' if torch.cuda.is_available() else 'cpu'\n",
    "config = {\n",
    "    'seed': 5201314,      # Your seed number, you can pick your lucky number. :)\n",
    "    'select_all': True,   # Whether to use all features.\n",
    "    'valid_ratio': 0.2,   # validation_size = train_size * valid_ratio\n",
    "    'n_epochs': 3000,     # Number of epochs.\n",
    "    'batch_size': 256,\n",
    "    'learning_rate': 1e-5,\n",
    "    'early_stop': 400,    # If model has not improved for this many consecutive epochs, stop training.\n",
    "    'save_path': './models/model.ckpt'  # Your model will be saved here.\n",
    "}"
   ]
  },
  {
   "cell_type": "code",
   "execution_count": 29,
   "id": "7375198a-cd82-47da-810b-536ce5f87105",
   "metadata": {},
   "outputs": [
    {
     "name": "stdout",
     "output_type": "stream",
     "text": [
      "train_data size: (1760, 2)\n",
      "valid_data size: (440, 2)\n",
      "test_data size: (2000, 1)\n"
     ]
    }
   ],
   "source": [
    "X = np.linspace(-500, 500, 2200).reshape(-1, 1)\n",
    "y = X**2 + 2*X - 3\n",
    "data = np.append(X, y, axis=1)\n",
    "train_data, valid_data = train_valid_split(data, config['valid_ratio'], config['seed'])\n",
    "X_test = np.linspace(-500, 500, 2000).reshape(-1, 1)\n",
    "x_train, x_valid = train_data[:,:-1], valid_data[:,:-1]\n",
    "y_train, y_valid = train_data[:,-1], valid_data[:,-1]\n",
    "\n",
    "print(f\"\"\"train_data size: {train_data.shape}\n",
    "valid_data size: {valid_data.shape}\n",
    "test_data size: {X_test.shape}\"\"\")\n",
    "\n",
    "train_dataset, valid_dataset, test_dataset =MyDataset(x_train, y_train), \\\n",
    "                                            MyDataset(x_valid, y_valid), \\\n",
    "                                        MyDataset(X_test)\n",
    "\n",
    "# Pytorch data loader loads pytorch dataset into batches.\n",
    "train_loader = DataLoader(train_dataset, batch_size=config['batch_size'], shuffle=True, pin_memory=True)\n",
    "valid_loader = DataLoader(valid_dataset, batch_size=config['batch_size'], shuffle=True, pin_memory=True)\n",
    "test_loader = DataLoader(test_dataset, batch_size=config['batch_size'], shuffle=False, pin_memory=True)"
   ]
  },
  {
   "cell_type": "code",
   "execution_count": 30,
   "id": "661efc45-185a-421e-8ee2-136f366d86e4",
   "metadata": {
    "scrolled": true
   },
   "outputs": [
    {
     "name": "stderr",
     "output_type": "stream",
     "text": [
      "Epoch [1/3000]: 100%|██████████████████████| 7/7 [00:00<00:00, 65.43it/s, loss=4.24e+14]\n"
     ]
    },
    {
     "name": "stdout",
     "output_type": "stream",
     "text": [
      "Epoch [1/3000]: Train loss: 32548837412297863331840.0000, Valid loss: 598439402405888.0000\n",
      "Saving model with loss 598439402405888.000...\n"
     ]
    },
    {
     "name": "stderr",
     "output_type": "stream",
     "text": [
      "Epoch [2/3000]: 100%|█████████████████████| 7/7 [00:00<00:00, 103.51it/s, loss=1.67e+15]\n"
     ]
    },
    {
     "name": "stdout",
     "output_type": "stream",
     "text": [
      "Epoch [2/3000]: Train loss: 1143598374153654.7500, Valid loss: 1823024168828928.0000\n"
     ]
    },
    {
     "name": "stderr",
     "output_type": "stream",
     "text": [
      "Epoch [3/3000]: 100%|█████████████████████| 7/7 [00:00<00:00, 114.80it/s, loss=2.55e+15]\n"
     ]
    },
    {
     "name": "stdout",
     "output_type": "stream",
     "text": [
      "Epoch [3/3000]: Train loss: 2210968997649261.7500, Valid loss: 2640574616174592.0000\n"
     ]
    },
    {
     "name": "stderr",
     "output_type": "stream",
     "text": [
      "Epoch [4/3000]: 100%|█████████████████████| 7/7 [00:00<00:00, 140.16it/s, loss=3.04e+15]\n"
     ]
    },
    {
     "name": "stdout",
     "output_type": "stream",
     "text": [
      "Epoch [4/3000]: Train loss: 2853893830606848.0000, Valid loss: 3080819769868288.0000\n"
     ]
    },
    {
     "name": "stderr",
     "output_type": "stream",
     "text": [
      "Epoch [5/3000]: 100%|██████████████████████| 7/7 [00:00<00:00, 47.07it/s, loss=3.28e+15]\n"
     ]
    },
    {
     "name": "stdout",
     "output_type": "stream",
     "text": [
      "Epoch [5/3000]: Train loss: 3187833443450880.0000, Valid loss: 3298902908338176.0000\n"
     ]
    },
    {
     "name": "stderr",
     "output_type": "stream",
     "text": [
      "Epoch [6/3000]: 100%|██████████████████████| 7/7 [00:00<00:00, 97.62it/s, loss=3.39e+15]\n"
     ]
    },
    {
     "name": "stdout",
     "output_type": "stream",
     "text": [
      "Epoch [6/3000]: Train loss: 3349644265539876.5000, Valid loss: 3400785975050240.0000\n"
     ]
    },
    {
     "name": "stderr",
     "output_type": "stream",
     "text": [
      "Epoch [7/3000]: 100%|█████████████████████| 7/7 [00:00<00:00, 157.49it/s, loss=3.44e+15]\n"
     ]
    },
    {
     "name": "stdout",
     "output_type": "stream",
     "text": [
      "Epoch [7/3000]: Train loss: 3423609086129883.5000, Valid loss: 3444966021922816.0000\n"
     ]
    },
    {
     "name": "stderr",
     "output_type": "stream",
     "text": [
      "Epoch [8/3000]: 100%|█████████████████████| 7/7 [00:00<00:00, 158.39it/s, loss=3.46e+15]\n"
     ]
    },
    {
     "name": "stdout",
     "output_type": "stream",
     "text": [
      "Epoch [8/3000]: Train loss: 3454250955084361.0000, Valid loss: 3461254416957440.0000\n"
     ]
    },
    {
     "name": "stderr",
     "output_type": "stream",
     "text": [
      "Epoch [9/3000]: 100%|█████████████████████| 7/7 [00:00<00:00, 167.10it/s, loss=3.47e+15]\n"
     ]
    },
    {
     "name": "stdout",
     "output_type": "stream",
     "text": [
      "Epoch [9/3000]: Train loss: 3463903165471597.5000, Valid loss: 3463988834729984.0000\n"
     ]
    },
    {
     "name": "stderr",
     "output_type": "stream",
     "text": [
      "Epoch [10/3000]: 100%|████████████████████| 7/7 [00:00<00:00, 162.91it/s, loss=3.46e+15]\n"
     ]
    },
    {
     "name": "stdout",
     "output_type": "stream",
     "text": [
      "Epoch [10/3000]: Train loss: 3463456680612425.0000, Valid loss: 3460297578774528.0000\n"
     ]
    },
    {
     "name": "stderr",
     "output_type": "stream",
     "text": [
      "Epoch [11/3000]: 100%|████████████████████| 7/7 [00:00<00:00, 165.41it/s, loss=3.45e+15]\n"
     ]
    },
    {
     "name": "stdout",
     "output_type": "stream",
     "text": [
      "Epoch [11/3000]: Train loss: 3458189133311415.0000, Valid loss: 3453491800440832.0000\n"
     ]
    },
    {
     "name": "stderr",
     "output_type": "stream",
     "text": [
      "Epoch [12/3000]: 100%|████████████████████| 7/7 [00:00<00:00, 157.69it/s, loss=3.45e+15]\n"
     ]
    },
    {
     "name": "stdout",
     "output_type": "stream",
     "text": [
      "Epoch [12/3000]: Train loss: 3450623625115355.5000, Valid loss: 3445089368014848.0000\n"
     ]
    },
    {
     "name": "stderr",
     "output_type": "stream",
     "text": [
      "Epoch [13/3000]: 100%|████████████████████| 7/7 [00:00<00:00, 164.34it/s, loss=3.44e+15]\n"
     ]
    },
    {
     "name": "stdout",
     "output_type": "stream",
     "text": [
      "Epoch [13/3000]: Train loss: 3441969534449371.5000, Valid loss: 3436111409971200.0000\n"
     ]
    },
    {
     "name": "stderr",
     "output_type": "stream",
     "text": [
      "Epoch [14/3000]: 100%|████████████████████| 7/7 [00:00<00:00, 167.72it/s, loss=3.43e+15]\n"
     ]
    },
    {
     "name": "stdout",
     "output_type": "stream",
     "text": [
      "Epoch [14/3000]: Train loss: 3432823171505005.5000, Valid loss: 3426869177221120.0000\n"
     ]
    },
    {
     "name": "stderr",
     "output_type": "stream",
     "text": [
      "Epoch [15/3000]: 100%|████████████████████| 7/7 [00:00<00:00, 165.79it/s, loss=3.42e+15]\n"
     ]
    },
    {
     "name": "stdout",
     "output_type": "stream",
     "text": [
      "Epoch [15/3000]: Train loss: 3423417576605988.5000, Valid loss: 3417403069300736.0000\n"
     ]
    },
    {
     "name": "stderr",
     "output_type": "stream",
     "text": [
      "Epoch [16/3000]: 100%|████████████████████| 7/7 [00:00<00:00, 154.91it/s, loss=3.41e+15]\n"
     ]
    },
    {
     "name": "stdout",
     "output_type": "stream",
     "text": [
      "Epoch [16/3000]: Train loss: 3413967229681664.0000, Valid loss: 3407794153717760.0000\n"
     ]
    },
    {
     "name": "stderr",
     "output_type": "stream",
     "text": [
      "Epoch [17/3000]: 100%|█████████████████████| 7/7 [00:00<00:00, 168.32it/s, loss=3.4e+15]\n"
     ]
    },
    {
     "name": "stdout",
     "output_type": "stream",
     "text": [
      "Epoch [17/3000]: Train loss: 3404455871212983.0000, Valid loss: 3398193693851648.0000\n"
     ]
    },
    {
     "name": "stderr",
     "output_type": "stream",
     "text": [
      "Epoch [18/3000]: 100%|████████████████████| 7/7 [00:00<00:00, 160.63it/s, loss=3.39e+15]\n"
     ]
    },
    {
     "name": "stdout",
     "output_type": "stream",
     "text": [
      "Epoch [18/3000]: Train loss: 3394933736978139.5000, Valid loss: 3388749597638656.0000\n"
     ]
    },
    {
     "name": "stderr",
     "output_type": "stream",
     "text": [
      "Epoch [19/3000]: 100%|████████████████████| 7/7 [00:00<00:00, 163.42it/s, loss=3.38e+15]\n"
     ]
    },
    {
     "name": "stdout",
     "output_type": "stream",
     "text": [
      "Epoch [19/3000]: Train loss: 3385434726540434.5000, Valid loss: 3379290334822400.0000\n"
     ]
    },
    {
     "name": "stderr",
     "output_type": "stream",
     "text": [
      "Epoch [20/3000]: 100%|████████████████████| 7/7 [00:00<00:00, 160.12it/s, loss=3.37e+15]\n"
     ]
    },
    {
     "name": "stdout",
     "output_type": "stream",
     "text": [
      "Epoch [20/3000]: Train loss: 3375963671738075.5000, Valid loss: 3370019647913984.0000\n"
     ]
    },
    {
     "name": "stderr",
     "output_type": "stream",
     "text": [
      "Epoch [21/3000]: 100%|████████████████████| 7/7 [00:00<00:00, 166.74it/s, loss=3.36e+15]\n"
     ]
    },
    {
     "name": "stdout",
     "output_type": "stream",
     "text": [
      "Epoch [21/3000]: Train loss: 3366512481159460.5000, Valid loss: 3360461466632192.0000\n"
     ]
    },
    {
     "name": "stderr",
     "output_type": "stream",
     "text": [
      "Epoch [22/3000]: 100%|████████████████████| 7/7 [00:00<00:00, 170.06it/s, loss=3.35e+15]\n"
     ]
    },
    {
     "name": "stdout",
     "output_type": "stream",
     "text": [
      "Epoch [22/3000]: Train loss: 3357082880461092.5000, Valid loss: 3351231447695360.0000\n"
     ]
    },
    {
     "name": "stderr",
     "output_type": "stream",
     "text": [
      "Epoch [23/3000]: 100%|████████████████████| 7/7 [00:00<00:00, 118.78it/s, loss=3.34e+15]\n"
     ]
    },
    {
     "name": "stdout",
     "output_type": "stream",
     "text": [
      "Epoch [23/3000]: Train loss: 3347663211874596.5000, Valid loss: 3341634745925632.0000\n"
     ]
    },
    {
     "name": "stderr",
     "output_type": "stream",
     "text": [
      "Epoch [24/3000]: 100%|████████████████████| 7/7 [00:00<00:00, 160.89it/s, loss=3.33e+15]\n"
     ]
    },
    {
     "name": "stdout",
     "output_type": "stream",
     "text": [
      "Epoch [24/3000]: Train loss: 3338298534208658.5000, Valid loss: 3332166624739328.0000\n"
     ]
    },
    {
     "name": "stderr",
     "output_type": "stream",
     "text": [
      "Epoch [25/3000]: 100%|████████████████████| 7/7 [00:00<00:00, 167.36it/s, loss=3.33e+15]\n"
     ]
    },
    {
     "name": "stdout",
     "output_type": "stream",
     "text": [
      "Epoch [25/3000]: Train loss: 3328952608676717.5000, Valid loss: 3322837821554688.0000\n"
     ]
    },
    {
     "name": "stderr",
     "output_type": "stream",
     "text": [
      "Epoch [26/3000]: 100%|████████████████████| 7/7 [00:00<00:00, 166.72it/s, loss=3.32e+15]\n"
     ]
    },
    {
     "name": "stdout",
     "output_type": "stream",
     "text": [
      "Epoch [26/3000]: Train loss: 3319621255355245.5000, Valid loss: 3313616929423360.0000\n"
     ]
    },
    {
     "name": "stderr",
     "output_type": "stream",
     "text": [
      "Epoch [27/3000]: 100%|████████████████████| 7/7 [00:00<00:00, 168.22it/s, loss=3.31e+15]\n"
     ]
    },
    {
     "name": "stdout",
     "output_type": "stream",
     "text": [
      "Epoch [27/3000]: Train loss: 3310319084802633.0000, Valid loss: 3304245042348032.0000\n"
     ]
    },
    {
     "name": "stderr",
     "output_type": "stream",
     "text": [
      "Epoch [28/3000]: 100%|█████████████████████| 7/7 [00:00<00:00, 166.39it/s, loss=3.3e+15]\n"
     ]
    },
    {
     "name": "stdout",
     "output_type": "stream",
     "text": [
      "Epoch [28/3000]: Train loss: 3301041802051584.0000, Valid loss: 3295097835749376.0000\n"
     ]
    },
    {
     "name": "stderr",
     "output_type": "stream",
     "text": [
      "Epoch [29/3000]: 100%|████████████████████| 7/7 [00:00<00:00, 165.42it/s, loss=3.29e+15]\n"
     ]
    },
    {
     "name": "stdout",
     "output_type": "stream",
     "text": [
      "Epoch [29/3000]: Train loss: 3291787029530916.5000, Valid loss: 3285839362654208.0000\n"
     ]
    },
    {
     "name": "stderr",
     "output_type": "stream",
     "text": [
      "Epoch [30/3000]: 100%|████████████████████| 7/7 [00:00<00:00, 163.26it/s, loss=3.28e+15]\n"
     ]
    },
    {
     "name": "stdout",
     "output_type": "stream",
     "text": [
      "Epoch [30/3000]: Train loss: 3282563203783533.5000, Valid loss: 3276698061635584.0000\n"
     ]
    },
    {
     "name": "stderr",
     "output_type": "stream",
     "text": [
      "Epoch [31/3000]: 100%|████████████████████| 7/7 [00:00<00:00, 156.94it/s, loss=3.27e+15]\n"
     ]
    },
    {
     "name": "stdout",
     "output_type": "stream",
     "text": [
      "Epoch [31/3000]: Train loss: 3273384245105225.0000, Valid loss: 3267458915893248.0000\n"
     ]
    },
    {
     "name": "stderr",
     "output_type": "stream",
     "text": [
      "Epoch [32/3000]: 100%|████████████████████| 7/7 [00:00<00:00, 169.98it/s, loss=3.26e+15]\n"
     ]
    },
    {
     "name": "stdout",
     "output_type": "stream",
     "text": [
      "Epoch [32/3000]: Train loss: 3264205209731072.0000, Valid loss: 3258326204809216.0000\n"
     ]
    },
    {
     "name": "stderr",
     "output_type": "stream",
     "text": [
      "Epoch [33/3000]: 100%|████████████████████| 7/7 [00:00<00:00, 160.32it/s, loss=3.25e+15]\n"
     ]
    },
    {
     "name": "stdout",
     "output_type": "stream",
     "text": [
      "Epoch [33/3000]: Train loss: 3255070082727936.0000, Valid loss: 3249293083279360.0000\n"
     ]
    },
    {
     "name": "stderr",
     "output_type": "stream",
     "text": [
      "Epoch [34/3000]: 100%|████████████████████| 7/7 [00:00<00:00, 139.13it/s, loss=3.24e+15]\n"
     ]
    },
    {
     "name": "stdout",
     "output_type": "stream",
     "text": [
      "Epoch [34/3000]: Train loss: 3245956123777901.5000, Valid loss: 3240126146674688.0000\n"
     ]
    },
    {
     "name": "stderr",
     "output_type": "stream",
     "text": [
      "Epoch [35/3000]: 100%|████████████████████| 7/7 [00:00<00:00, 178.53it/s, loss=3.23e+15]\n"
     ]
    },
    {
     "name": "stdout",
     "output_type": "stream",
     "text": [
      "Epoch [35/3000]: Train loss: 3236859728176274.5000, Valid loss: 3231015447298048.0000\n"
     ]
    },
    {
     "name": "stderr",
     "output_type": "stream",
     "text": [
      "Epoch [36/3000]: 100%|████████████████████| 7/7 [00:00<00:00, 187.82it/s, loss=3.22e+15]\n"
     ]
    },
    {
     "name": "stdout",
     "output_type": "stream",
     "text": [
      "Epoch [36/3000]: Train loss: 3227773686513664.0000, Valid loss: 3221946892288000.0000\n"
     ]
    },
    {
     "name": "stderr",
     "output_type": "stream",
     "text": [
      "Epoch [37/3000]: 100%|████████████████████| 7/7 [00:00<00:00, 152.14it/s, loss=3.22e+15]\n"
     ]
    },
    {
     "name": "stdout",
     "output_type": "stream",
     "text": [
      "Epoch [37/3000]: Train loss: 3218752567883483.5000, Valid loss: 3212974974042112.0000\n"
     ]
    },
    {
     "name": "stderr",
     "output_type": "stream",
     "text": [
      "Epoch [38/3000]: 100%|████████████████████| 7/7 [00:00<00:00, 142.59it/s, loss=3.21e+15]\n"
     ]
    },
    {
     "name": "stdout",
     "output_type": "stream",
     "text": [
      "Epoch [38/3000]: Train loss: 3209725582021193.0000, Valid loss: 3204023054237696.0000\n"
     ]
    },
    {
     "name": "stderr",
     "output_type": "stream",
     "text": [
      "Epoch [39/3000]: 100%|█████████████████████| 7/7 [00:00<00:00, 126.53it/s, loss=3.2e+15]\n"
     ]
    },
    {
     "name": "stdout",
     "output_type": "stream",
     "text": [
      "Epoch [39/3000]: Train loss: 3200727088665161.0000, Valid loss: 3194974363451392.0000\n"
     ]
    },
    {
     "name": "stderr",
     "output_type": "stream",
     "text": [
      "Epoch [40/3000]: 100%|████████████████████| 7/7 [00:00<00:00, 163.32it/s, loss=3.19e+15]\n"
     ]
    },
    {
     "name": "stdout",
     "output_type": "stream",
     "text": [
      "Epoch [40/3000]: Train loss: 3191760002257481.0000, Valid loss: 3186041502564352.0000\n"
     ]
    },
    {
     "name": "stderr",
     "output_type": "stream",
     "text": [
      "Epoch [41/3000]: 100%|████████████████████| 7/7 [00:00<00:00, 122.13it/s, loss=3.18e+15]\n"
     ]
    },
    {
     "name": "stdout",
     "output_type": "stream",
     "text": [
      "Epoch [41/3000]: Train loss: 3182830726901175.0000, Valid loss: 3176988785246208.0000\n"
     ]
    },
    {
     "name": "stderr",
     "output_type": "stream",
     "text": [
      "Epoch [42/3000]: 100%|████████████████████| 7/7 [00:00<00:00, 219.03it/s, loss=3.17e+15]\n"
     ]
    },
    {
     "name": "stdout",
     "output_type": "stream",
     "text": [
      "Epoch [42/3000]: Train loss: 3173912495746487.0000, Valid loss: 3168075654365184.0000\n"
     ]
    },
    {
     "name": "stderr",
     "output_type": "stream",
     "text": [
      "Epoch [43/3000]: 100%|████████████████████| 7/7 [00:00<00:00, 247.78it/s, loss=3.16e+15]\n"
     ]
    },
    {
     "name": "stdout",
     "output_type": "stream",
     "text": [
      "Epoch [43/3000]: Train loss: 3165023485708580.5000, Valid loss: 3159343851634688.0000\n"
     ]
    },
    {
     "name": "stderr",
     "output_type": "stream",
     "text": [
      "Epoch [44/3000]: 100%|████████████████████| 7/7 [00:00<00:00, 249.04it/s, loss=3.15e+15]\n"
     ]
    },
    {
     "name": "stdout",
     "output_type": "stream",
     "text": [
      "Epoch [44/3000]: Train loss: 3156149891535433.0000, Valid loss: 3150421459730432.0000\n"
     ]
    },
    {
     "name": "stderr",
     "output_type": "stream",
     "text": [
      "Epoch [45/3000]: 100%|████████████████████| 7/7 [00:00<00:00, 239.64it/s, loss=3.14e+15]\n"
     ]
    },
    {
     "name": "stdout",
     "output_type": "stream",
     "text": [
      "Epoch [45/3000]: Train loss: 3147297542111232.0000, Valid loss: 3141545775595520.0000\n"
     ]
    },
    {
     "name": "stderr",
     "output_type": "stream",
     "text": [
      "Epoch [46/3000]: 100%|████████████████████| 7/7 [00:00<00:00, 239.66it/s, loss=3.14e+15]\n"
     ]
    },
    {
     "name": "stdout",
     "output_type": "stream",
     "text": [
      "Epoch [46/3000]: Train loss: 3138499224909531.5000, Valid loss: 3132769815232512.0000\n"
     ]
    },
    {
     "name": "stderr",
     "output_type": "stream",
     "text": [
      "Epoch [47/3000]: 100%|████████████████████| 7/7 [00:00<00:00, 242.29it/s, loss=3.13e+15]\n"
     ]
    },
    {
     "name": "stdout",
     "output_type": "stream",
     "text": [
      "Epoch [47/3000]: Train loss: 3129716055137133.5000, Valid loss: 3123942315261952.0000\n"
     ]
    },
    {
     "name": "stderr",
     "output_type": "stream",
     "text": [
      "Epoch [48/3000]: 100%|████████████████████| 7/7 [00:00<00:00, 231.97it/s, loss=3.12e+15]\n"
     ]
    },
    {
     "name": "stdout",
     "output_type": "stream",
     "text": [
      "Epoch [48/3000]: Train loss: 3120938062334244.5000, Valid loss: 3115307686166528.0000\n"
     ]
    },
    {
     "name": "stderr",
     "output_type": "stream",
     "text": [
      "Epoch [49/3000]: 100%|████████████████████| 7/7 [00:00<00:00, 232.31it/s, loss=3.11e+15]\n"
     ]
    },
    {
     "name": "stdout",
     "output_type": "stream",
     "text": [
      "Epoch [49/3000]: Train loss: 3112200449893522.5000, Valid loss: 3106515619676160.0000\n"
     ]
    },
    {
     "name": "stderr",
     "output_type": "stream",
     "text": [
      "Epoch [50/3000]: 100%|█████████████████████| 7/7 [00:00<00:00, 248.87it/s, loss=3.1e+15]\n"
     ]
    },
    {
     "name": "stdout",
     "output_type": "stream",
     "text": [
      "Epoch [50/3000]: Train loss: 3103465598503204.5000, Valid loss: 3097788380348416.0000\n"
     ]
    },
    {
     "name": "stderr",
     "output_type": "stream",
     "text": [
      "Epoch [51/3000]: 100%|████████████████████| 7/7 [00:00<00:00, 166.32it/s, loss=3.09e+15]\n"
     ]
    },
    {
     "name": "stdout",
     "output_type": "stream",
     "text": [
      "Epoch [51/3000]: Train loss: 3094777531578075.5000, Valid loss: 3089204619771904.0000\n"
     ]
    },
    {
     "name": "stderr",
     "output_type": "stream",
     "text": [
      "Epoch [52/3000]: 100%|████████████████████| 7/7 [00:00<00:00, 154.59it/s, loss=3.08e+15]\n"
     ]
    },
    {
     "name": "stdout",
     "output_type": "stream",
     "text": [
      "Epoch [52/3000]: Train loss: 3086088007431899.5000, Valid loss: 3080535362502656.0000\n"
     ]
    },
    {
     "name": "stderr",
     "output_type": "stream",
     "text": [
      "Epoch [53/3000]: 100%|████████████████████| 7/7 [00:00<00:00, 158.33it/s, loss=3.07e+15]\n"
     ]
    },
    {
     "name": "stdout",
     "output_type": "stream",
     "text": [
      "Epoch [53/3000]: Train loss: 3077451480114322.5000, Valid loss: 3071883821973504.0000\n"
     ]
    },
    {
     "name": "stderr",
     "output_type": "stream",
     "text": [
      "Epoch [54/3000]: 100%|████████████████████| 7/7 [00:00<00:00, 168.22it/s, loss=3.07e+15]\n"
     ]
    },
    {
     "name": "stdout",
     "output_type": "stream",
     "text": [
      "Epoch [54/3000]: Train loss: 3068840530860909.5000, Valid loss: 3063334421135360.0000\n"
     ]
    },
    {
     "name": "stderr",
     "output_type": "stream",
     "text": [
      "Epoch [55/3000]: 100%|████████████████████| 7/7 [00:00<00:00, 166.05it/s, loss=3.06e+15]\n"
     ]
    },
    {
     "name": "stdout",
     "output_type": "stream",
     "text": [
      "Epoch [55/3000]: Train loss: 3060218537405879.0000, Valid loss: 3054662345293824.0000\n"
     ]
    },
    {
     "name": "stderr",
     "output_type": "stream",
     "text": [
      "Epoch [56/3000]: 100%|████████████████████| 7/7 [00:00<00:00, 158.98it/s, loss=3.05e+15]\n"
     ]
    },
    {
     "name": "stdout",
     "output_type": "stream",
     "text": [
      "Epoch [56/3000]: Train loss: 3051674390233088.0000, Valid loss: 3046172805562368.0000\n"
     ]
    },
    {
     "name": "stderr",
     "output_type": "stream",
     "text": [
      "Epoch [57/3000]: 100%|████████████████████| 7/7 [00:00<00:00, 213.89it/s, loss=3.04e+15]\n"
     ]
    },
    {
     "name": "stdout",
     "output_type": "stream",
     "text": [
      "Epoch [57/3000]: Train loss: 3043120847819337.0000, Valid loss: 3037597634920448.0000\n"
     ]
    },
    {
     "name": "stderr",
     "output_type": "stream",
     "text": [
      "Epoch [58/3000]: 100%|████████████████████| 7/7 [00:00<00:00, 208.03it/s, loss=3.03e+15]\n"
     ]
    },
    {
     "name": "stdout",
     "output_type": "stream",
     "text": [
      "Epoch [58/3000]: Train loss: 3034606573678007.0000, Valid loss: 3029193457664000.0000\n"
     ]
    },
    {
     "name": "stderr",
     "output_type": "stream",
     "text": [
      "Epoch [59/3000]: 100%|████████████████████| 7/7 [00:00<00:00, 162.04it/s, loss=3.02e+15]\n"
     ]
    },
    {
     "name": "stdout",
     "output_type": "stream",
     "text": [
      "Epoch [59/3000]: Train loss: 3026083939689618.5000, Valid loss: 3020599362322432.0000\n"
     ]
    },
    {
     "name": "stderr",
     "output_type": "stream",
     "text": [
      "Epoch [60/3000]: 100%|████████████████████| 7/7 [00:00<00:00, 218.07it/s, loss=3.01e+15]\n"
     ]
    },
    {
     "name": "stdout",
     "output_type": "stream",
     "text": [
      "Epoch [60/3000]: Train loss: 3017597966314935.0000, Valid loss: 3012283634548736.0000\n"
     ]
    },
    {
     "name": "stderr",
     "output_type": "stream",
     "text": [
      "Epoch [61/3000]: 100%|████████████████████| 7/7 [00:00<00:00, 197.70it/s, loss=3.01e+15]\n"
     ]
    },
    {
     "name": "stdout",
     "output_type": "stream",
     "text": [
      "Epoch [61/3000]: Train loss: 3009167328992109.5000, Valid loss: 3003658803347456.0000\n"
     ]
    },
    {
     "name": "stderr",
     "output_type": "stream",
     "text": [
      "Epoch [62/3000]: 100%|███████████████████████| 7/7 [00:00<00:00, 131.41it/s, loss=3e+15]\n"
     ]
    },
    {
     "name": "stdout",
     "output_type": "stream",
     "text": [
      "Epoch [62/3000]: Train loss: 3000752069186121.0000, Valid loss: 2995306836787200.0000\n"
     ]
    },
    {
     "name": "stderr",
     "output_type": "stream",
     "text": [
      "Epoch [63/3000]: 100%|████████████████████| 7/7 [00:00<00:00, 167.84it/s, loss=2.99e+15]\n"
     ]
    },
    {
     "name": "stdout",
     "output_type": "stream",
     "text": [
      "Epoch [63/3000]: Train loss: 2992329139795675.5000, Valid loss: 2986942656413696.0000\n"
     ]
    },
    {
     "name": "stderr",
     "output_type": "stream",
     "text": [
      "Epoch [64/3000]: 100%|████████████████████| 7/7 [00:00<00:00, 172.76it/s, loss=2.98e+15]\n"
     ]
    },
    {
     "name": "stdout",
     "output_type": "stream",
     "text": [
      "Epoch [64/3000]: Train loss: 2983933322386285.5000, Valid loss: 2978444124094464.0000\n"
     ]
    },
    {
     "name": "stderr",
     "output_type": "stream",
     "text": [
      "Epoch [65/3000]: 100%|████████████████████| 7/7 [00:00<00:00, 159.45it/s, loss=2.97e+15]\n"
     ]
    },
    {
     "name": "stdout",
     "output_type": "stream",
     "text": [
      "Epoch [65/3000]: Train loss: 2975587472319634.5000, Valid loss: 2970171345993728.0000\n"
     ]
    },
    {
     "name": "stderr",
     "output_type": "stream",
     "text": [
      "Epoch [66/3000]: 100%|████████████████████| 7/7 [00:00<00:00, 163.83it/s, loss=2.96e+15]\n"
     ]
    },
    {
     "name": "stdout",
     "output_type": "stream",
     "text": [
      "Epoch [66/3000]: Train loss: 2967255926027995.5000, Valid loss: 2961853739171840.0000\n"
     ]
    },
    {
     "name": "stderr",
     "output_type": "stream",
     "text": [
      "Epoch [67/3000]: 100%|████████████████████| 7/7 [00:00<00:00, 156.82it/s, loss=2.96e+15]\n"
     ]
    },
    {
     "name": "stdout",
     "output_type": "stream",
     "text": [
      "Epoch [67/3000]: Train loss: 2958951606761179.5000, Valid loss: 2953618810470400.0000\n"
     ]
    },
    {
     "name": "stderr",
     "output_type": "stream",
     "text": [
      "Epoch [68/3000]: 100%|████████████████████| 7/7 [00:00<00:00, 173.52it/s, loss=2.95e+15]\n"
     ]
    },
    {
     "name": "stdout",
     "output_type": "stream",
     "text": [
      "Epoch [68/3000]: Train loss: 2950649626717623.0000, Valid loss: 2945344690192384.0000\n"
     ]
    },
    {
     "name": "stderr",
     "output_type": "stream",
     "text": [
      "Epoch [69/3000]: 100%|████████████████████| 7/7 [00:00<00:00, 168.19it/s, loss=2.94e+15]\n"
     ]
    },
    {
     "name": "stdout",
     "output_type": "stream",
     "text": [
      "Epoch [69/3000]: Train loss: 2942399876544219.5000, Valid loss: 2937039028748288.0000\n"
     ]
    },
    {
     "name": "stderr",
     "output_type": "stream",
     "text": [
      "Epoch [70/3000]: 100%|████████████████████| 7/7 [00:00<00:00, 155.41it/s, loss=2.93e+15]\n"
     ]
    },
    {
     "name": "stdout",
     "output_type": "stream",
     "text": [
      "Epoch [70/3000]: Train loss: 2934141268000768.0000, Valid loss: 2928814166376448.0000\n"
     ]
    },
    {
     "name": "stderr",
     "output_type": "stream",
     "text": [
      "Epoch [71/3000]: 100%|████████████████████| 7/7 [00:00<00:00, 154.69it/s, loss=2.92e+15]\n"
     ]
    },
    {
     "name": "stdout",
     "output_type": "stream",
     "text": [
      "Epoch [71/3000]: Train loss: 2925917019195684.5000, Valid loss: 2920585814343680.0000\n"
     ]
    },
    {
     "name": "stderr",
     "output_type": "stream",
     "text": [
      "Epoch [72/3000]: 100%|████████████████████| 7/7 [00:00<00:00, 139.14it/s, loss=2.91e+15]\n"
     ]
    },
    {
     "name": "stdout",
     "output_type": "stream",
     "text": [
      "Epoch [72/3000]: Train loss: 2917735221540571.5000, Valid loss: 2912513825964032.0000\n"
     ]
    },
    {
     "name": "stderr",
     "output_type": "stream",
     "text": [
      "Epoch [73/3000]: 100%|████████████████████| 7/7 [00:00<00:00, 164.21it/s, loss=2.91e+15]\n"
     ]
    },
    {
     "name": "stdout",
     "output_type": "stream",
     "text": [
      "Epoch [73/3000]: Train loss: 2909534978534839.0000, Valid loss: 2904297956179968.0000\n"
     ]
    },
    {
     "name": "stderr",
     "output_type": "stream",
     "text": [
      "Epoch [74/3000]: 100%|█████████████████████| 7/7 [00:00<00:00, 186.06it/s, loss=2.9e+15]\n"
     ]
    },
    {
     "name": "stdout",
     "output_type": "stream",
     "text": [
      "Epoch [74/3000]: Train loss: 2901409705717175.0000, Valid loss: 2896104634974208.0000\n"
     ]
    },
    {
     "name": "stderr",
     "output_type": "stream",
     "text": [
      "Epoch [75/3000]: 100%|████████████████████| 7/7 [00:00<00:00, 157.88it/s, loss=2.89e+15]\n"
     ]
    },
    {
     "name": "stdout",
     "output_type": "stream",
     "text": [
      "Epoch [75/3000]: Train loss: 2893273925568804.5000, Valid loss: 2888020969652224.0000\n"
     ]
    },
    {
     "name": "stderr",
     "output_type": "stream",
     "text": [
      "Epoch [76/3000]: 100%|████████████████████| 7/7 [00:00<00:00, 155.35it/s, loss=2.88e+15]\n"
     ]
    },
    {
     "name": "stdout",
     "output_type": "stream",
     "text": [
      "Epoch [76/3000]: Train loss: 2885161537653028.5000, Valid loss: 2880026022248448.0000\n"
     ]
    },
    {
     "name": "stderr",
     "output_type": "stream",
     "text": [
      "Epoch [77/3000]: 100%|████████████████████| 7/7 [00:00<00:00, 146.04it/s, loss=2.87e+15]\n"
     ]
    },
    {
     "name": "stdout",
     "output_type": "stream",
     "text": [
      "Epoch [77/3000]: Train loss: 2877089683491108.5000, Valid loss: 2871802233618432.0000\n"
     ]
    },
    {
     "name": "stderr",
     "output_type": "stream",
     "text": [
      "Epoch [78/3000]: 100%|████████████████████| 7/7 [00:00<00:00, 153.62it/s, loss=2.87e+15]\n"
     ]
    },
    {
     "name": "stdout",
     "output_type": "stream",
     "text": [
      "Epoch [78/3000]: Train loss: 2869019248202313.0000, Valid loss: 2863787019337728.0000\n"
     ]
    },
    {
     "name": "stderr",
     "output_type": "stream",
     "text": [
      "Epoch [79/3000]: 100%|████████████████████| 7/7 [00:00<00:00, 166.36it/s, loss=2.86e+15]\n"
     ]
    },
    {
     "name": "stdout",
     "output_type": "stream",
     "text": [
      "Epoch [79/3000]: Train loss: 2860978800988745.0000, Valid loss: 2855803346223104.0000\n"
     ]
    },
    {
     "name": "stderr",
     "output_type": "stream",
     "text": [
      "Epoch [80/3000]: 100%|████████████████████| 7/7 [00:00<00:00, 175.56it/s, loss=2.85e+15]\n"
     ]
    },
    {
     "name": "stdout",
     "output_type": "stream",
     "text": [
      "Epoch [80/3000]: Train loss: 2852965772539611.5000, Valid loss: 2847706259128320.0000\n"
     ]
    },
    {
     "name": "stderr",
     "output_type": "stream",
     "text": [
      "Epoch [81/3000]: 100%|████████████████████| 7/7 [00:00<00:00, 179.47it/s, loss=2.84e+15]\n"
     ]
    },
    {
     "name": "stdout",
     "output_type": "stream",
     "text": [
      "Epoch [81/3000]: Train loss: 2844993584627712.0000, Valid loss: 2839787547394048.0000\n"
     ]
    },
    {
     "name": "stderr",
     "output_type": "stream",
     "text": [
      "Epoch [82/3000]: 100%|████████████████████| 7/7 [00:00<00:00, 158.96it/s, loss=2.83e+15]\n"
     ]
    },
    {
     "name": "stdout",
     "output_type": "stream",
     "text": [
      "Epoch [82/3000]: Train loss: 2837015721223314.5000, Valid loss: 2831875009675264.0000\n"
     ]
    },
    {
     "name": "stderr",
     "output_type": "stream",
     "text": [
      "Epoch [83/3000]: 100%|████████████████████| 7/7 [00:00<00:00, 162.14it/s, loss=2.83e+15]\n"
     ]
    },
    {
     "name": "stdout",
     "output_type": "stream",
     "text": [
      "Epoch [83/3000]: Train loss: 2829073636430409.0000, Valid loss: 2823984617881600.0000\n"
     ]
    },
    {
     "name": "stderr",
     "output_type": "stream",
     "text": [
      "Epoch [84/3000]: 100%|████████████████████| 7/7 [00:00<00:00, 162.18it/s, loss=2.82e+15]\n"
     ]
    },
    {
     "name": "stdout",
     "output_type": "stream",
     "text": [
      "Epoch [84/3000]: Train loss: 2821144973410304.0000, Valid loss: 2816113016569856.0000\n"
     ]
    },
    {
     "name": "stderr",
     "output_type": "stream",
     "text": [
      "Epoch [85/3000]: 100%|████████████████████| 7/7 [00:00<00:00, 165.69it/s, loss=2.81e+15]\n"
     ]
    },
    {
     "name": "stdout",
     "output_type": "stream",
     "text": [
      "Epoch [85/3000]: Train loss: 2813239587579026.5000, Valid loss: 2808206250213376.0000\n"
     ]
    },
    {
     "name": "stderr",
     "output_type": "stream",
     "text": [
      "Epoch [86/3000]: 100%|█████████████████████| 7/7 [00:00<00:00, 159.30it/s, loss=2.8e+15]\n"
     ]
    },
    {
     "name": "stdout",
     "output_type": "stream",
     "text": [
      "Epoch [86/3000]: Train loss: 2805353222317202.5000, Valid loss: 2800201907568640.0000\n"
     ]
    },
    {
     "name": "stderr",
     "output_type": "stream",
     "text": [
      "Epoch [87/3000]: 100%|████████████████████| 7/7 [00:00<00:00, 157.95it/s, loss=2.79e+15]\n"
     ]
    },
    {
     "name": "stdout",
     "output_type": "stream",
     "text": [
      "Epoch [87/3000]: Train loss: 2797485455797687.0000, Valid loss: 2792377416679424.0000\n"
     ]
    },
    {
     "name": "stderr",
     "output_type": "stream",
     "text": [
      "Epoch [88/3000]: 100%|████████████████████| 7/7 [00:00<00:00, 144.95it/s, loss=2.79e+15]\n"
     ]
    },
    {
     "name": "stdout",
     "output_type": "stream",
     "text": [
      "Epoch [88/3000]: Train loss: 2789664473743360.0000, Valid loss: 2784477495427072.0000\n"
     ]
    },
    {
     "name": "stderr",
     "output_type": "stream",
     "text": [
      "Epoch [89/3000]: 100%|████████████████████| 7/7 [00:00<00:00, 132.05it/s, loss=2.78e+15]\n"
     ]
    },
    {
     "name": "stdout",
     "output_type": "stream",
     "text": [
      "Epoch [89/3000]: Train loss: 2781828842782720.0000, Valid loss: 2776826682277888.0000\n"
     ]
    },
    {
     "name": "stderr",
     "output_type": "stream",
     "text": [
      "Epoch [90/3000]: 100%|████████████████████| 7/7 [00:00<00:00, 160.51it/s, loss=2.77e+15]\n"
     ]
    },
    {
     "name": "stdout",
     "output_type": "stream",
     "text": [
      "Epoch [90/3000]: Train loss: 2774052957885001.0000, Valid loss: 2769045946368000.0000\n"
     ]
    },
    {
     "name": "stderr",
     "output_type": "stream",
     "text": [
      "Epoch [91/3000]: 100%|████████████████████| 7/7 [00:00<00:00, 163.89it/s, loss=2.76e+15]\n"
     ]
    },
    {
     "name": "stdout",
     "output_type": "stream",
     "text": [
      "Epoch [91/3000]: Train loss: 2766269403402825.0000, Valid loss: 2761285208899584.0000\n"
     ]
    },
    {
     "name": "stderr",
     "output_type": "stream",
     "text": [
      "Epoch [92/3000]: 100%|████████████████████| 7/7 [00:00<00:00, 166.69it/s, loss=2.76e+15]\n"
     ]
    },
    {
     "name": "stdout",
     "output_type": "stream",
     "text": [
      "Epoch [92/3000]: Train loss: 2758541415060041.0000, Valid loss: 2753407030919168.0000\n"
     ]
    },
    {
     "name": "stderr",
     "output_type": "stream",
     "text": [
      "Epoch [93/3000]: 100%|████████████████████| 7/7 [00:00<00:00, 169.53it/s, loss=2.75e+15]\n"
     ]
    },
    {
     "name": "stdout",
     "output_type": "stream",
     "text": [
      "Epoch [93/3000]: Train loss: 2750801385469659.5000, Valid loss: 2745905736318976.0000\n"
     ]
    },
    {
     "name": "stderr",
     "output_type": "stream",
     "text": [
      "Epoch [94/3000]: 100%|████████████████████| 7/7 [00:00<00:00, 161.93it/s, loss=2.74e+15]\n"
     ]
    },
    {
     "name": "stdout",
     "output_type": "stream",
     "text": [
      "Epoch [94/3000]: Train loss: 2743099857193252.5000, Valid loss: 2738049838481408.0000\n"
     ]
    },
    {
     "name": "stderr",
     "output_type": "stream",
     "text": [
      "Epoch [95/3000]: 100%|████████████████████| 7/7 [00:00<00:00, 166.97it/s, loss=2.73e+15]\n"
     ]
    },
    {
     "name": "stdout",
     "output_type": "stream",
     "text": [
      "Epoch [95/3000]: Train loss: 2735401741881929.0000, Valid loss: 2730353928175616.0000\n"
     ]
    },
    {
     "name": "stderr",
     "output_type": "stream",
     "text": [
      "Epoch [96/3000]: 100%|████████████████████| 7/7 [00:00<00:00, 174.81it/s, loss=2.72e+15]\n"
     ]
    },
    {
     "name": "stdout",
     "output_type": "stream",
     "text": [
      "Epoch [96/3000]: Train loss: 2727743508409783.0000, Valid loss: 2722806462676992.0000\n"
     ]
    },
    {
     "name": "stderr",
     "output_type": "stream",
     "text": [
      "Epoch [97/3000]: 100%|████████████████████| 7/7 [00:00<00:00, 272.67it/s, loss=2.72e+15]\n"
     ]
    },
    {
     "name": "stdout",
     "output_type": "stream",
     "text": [
      "Epoch [97/3000]: Train loss: 2720115723187931.5000, Valid loss: 2715246783365120.0000\n"
     ]
    },
    {
     "name": "stderr",
     "output_type": "stream",
     "text": [
      "Epoch [98/3000]: 100%|████████████████████| 7/7 [00:00<00:00, 169.32it/s, loss=2.71e+15]\n"
     ]
    },
    {
     "name": "stdout",
     "output_type": "stream",
     "text": [
      "Epoch [98/3000]: Train loss: 2712484563348919.0000, Valid loss: 2707512218353664.0000\n"
     ]
    },
    {
     "name": "stderr",
     "output_type": "stream",
     "text": [
      "Epoch [99/3000]: 100%|█████████████████████| 7/7 [00:00<00:00, 156.49it/s, loss=2.7e+15]\n"
     ]
    },
    {
     "name": "stdout",
     "output_type": "stream",
     "text": [
      "Epoch [99/3000]: Train loss: 2704878789834459.5000, Valid loss: 2699995220279296.0000\n"
     ]
    },
    {
     "name": "stderr",
     "output_type": "stream",
     "text": [
      "Epoch [100/3000]: 100%|███████████████████| 7/7 [00:00<00:00, 171.02it/s, loss=2.69e+15]\n"
     ]
    },
    {
     "name": "stdout",
     "output_type": "stream",
     "text": [
      "Epoch [100/3000]: Train loss: 2697317269822317.5000, Valid loss: 2692409100075008.0000\n"
     ]
    },
    {
     "name": "stderr",
     "output_type": "stream",
     "text": [
      "Epoch [101/3000]: 100%|███████████████████| 7/7 [00:00<00:00, 170.72it/s, loss=2.69e+15]\n"
     ]
    },
    {
     "name": "stdout",
     "output_type": "stream",
     "text": [
      "Epoch [101/3000]: Train loss: 2689747236571428.5000, Valid loss: 2684853581512704.0000\n"
     ]
    },
    {
     "name": "stderr",
     "output_type": "stream",
     "text": [
      "Epoch [102/3000]: 100%|███████████████████| 7/7 [00:00<00:00, 135.79it/s, loss=2.68e+15]\n"
     ]
    },
    {
     "name": "stdout",
     "output_type": "stream",
     "text": [
      "Epoch [102/3000]: Train loss: 2682199866942610.5000, Valid loss: 2677362219024384.0000\n"
     ]
    },
    {
     "name": "stderr",
     "output_type": "stream",
     "text": [
      "Epoch [103/3000]: 100%|███████████████████| 7/7 [00:00<00:00, 141.81it/s, loss=2.67e+15]\n"
     ]
    },
    {
     "name": "stdout",
     "output_type": "stream",
     "text": [
      "Epoch [103/3000]: Train loss: 2674693836374016.0000, Valid loss: 2669861192859648.0000\n"
     ]
    },
    {
     "name": "stderr",
     "output_type": "stream",
     "text": [
      "Epoch [104/3000]: 100%|███████████████████| 7/7 [00:00<00:00, 175.32it/s, loss=2.66e+15]\n"
     ]
    },
    {
     "name": "stdout",
     "output_type": "stream",
     "text": [
      "Epoch [104/3000]: Train loss: 2667220056408064.0000, Valid loss: 2662422443720704.0000\n"
     ]
    },
    {
     "name": "stderr",
     "output_type": "stream",
     "text": [
      "Epoch [105/3000]: 100%|███████████████████| 7/7 [00:00<00:00, 138.19it/s, loss=2.66e+15]\n"
     ]
    },
    {
     "name": "stdout",
     "output_type": "stream",
     "text": [
      "Epoch [105/3000]: Train loss: 2659716748541952.0000, Valid loss: 2654881823326208.0000\n"
     ]
    },
    {
     "name": "stderr",
     "output_type": "stream",
     "text": [
      "Epoch [106/3000]: 100%|███████████████████| 7/7 [00:00<00:00, 156.00it/s, loss=2.65e+15]\n"
     ]
    },
    {
     "name": "stdout",
     "output_type": "stream",
     "text": [
      "Epoch [106/3000]: Train loss: 2652287222078317.5000, Valid loss: 2647511391010816.0000\n"
     ]
    },
    {
     "name": "stderr",
     "output_type": "stream",
     "text": [
      "Epoch [107/3000]: 100%|███████████████████| 7/7 [00:00<00:00, 169.48it/s, loss=2.64e+15]\n"
     ]
    },
    {
     "name": "stdout",
     "output_type": "stream",
     "text": [
      "Epoch [107/3000]: Train loss: 2644853438995309.5000, Valid loss: 2640001506476032.0000\n"
     ]
    },
    {
     "name": "stderr",
     "output_type": "stream",
     "text": [
      "Epoch [108/3000]: 100%|███████████████████| 7/7 [00:00<00:00, 149.99it/s, loss=2.63e+15]\n"
     ]
    },
    {
     "name": "stdout",
     "output_type": "stream",
     "text": [
      "Epoch [108/3000]: Train loss: 2637432732553801.0000, Valid loss: 2632676976623616.0000\n"
     ]
    },
    {
     "name": "stderr",
     "output_type": "stream",
     "text": [
      "Epoch [109/3000]: 100%|███████████████████| 7/7 [00:00<00:00, 158.53it/s, loss=2.63e+15]\n"
     ]
    },
    {
     "name": "stdout",
     "output_type": "stream",
     "text": [
      "Epoch [109/3000]: Train loss: 2630070429997933.5000, Valid loss: 2625247354290176.0000\n"
     ]
    },
    {
     "name": "stderr",
     "output_type": "stream",
     "text": [
      "Epoch [110/3000]: 100%|███████████████████| 7/7 [00:00<00:00, 175.90it/s, loss=2.62e+15]\n"
     ]
    },
    {
     "name": "stdout",
     "output_type": "stream",
     "text": [
      "Epoch [110/3000]: Train loss: 2622700457857609.0000, Valid loss: 2617821355835392.0000\n"
     ]
    },
    {
     "name": "stderr",
     "output_type": "stream",
     "text": [
      "Epoch [111/3000]: 100%|███████████████████| 7/7 [00:00<00:00, 141.42it/s, loss=2.61e+15]\n"
     ]
    },
    {
     "name": "stdout",
     "output_type": "stream",
     "text": [
      "Epoch [111/3000]: Train loss: 2615352535772599.0000, Valid loss: 2610473069445120.0000\n"
     ]
    },
    {
     "name": "stderr",
     "output_type": "stream",
     "text": [
      "Epoch [112/3000]: 100%|████████████████████| 7/7 [00:00<00:00, 143.60it/s, loss=2.6e+15]\n"
     ]
    },
    {
     "name": "stdout",
     "output_type": "stream",
     "text": [
      "Epoch [112/3000]: Train loss: 2608017268501943.0000, Valid loss: 2603263161532416.0000\n"
     ]
    },
    {
     "name": "stderr",
     "output_type": "stream",
     "text": [
      "Epoch [113/3000]: 100%|████████████████████| 7/7 [00:00<00:00, 130.54it/s, loss=2.6e+15]\n"
     ]
    },
    {
     "name": "stdout",
     "output_type": "stream",
     "text": [
      "Epoch [113/3000]: Train loss: 2600712526177426.5000, Valid loss: 2596097142816768.0000\n"
     ]
    },
    {
     "name": "stderr",
     "output_type": "stream",
     "text": [
      "Epoch [114/3000]: 100%|███████████████████| 7/7 [00:00<00:00, 173.82it/s, loss=2.59e+15]\n"
     ]
    },
    {
     "name": "stdout",
     "output_type": "stream",
     "text": [
      "Epoch [114/3000]: Train loss: 2593433170177463.0000, Valid loss: 2588660943814656.0000\n"
     ]
    },
    {
     "name": "stderr",
     "output_type": "stream",
     "text": [
      "Epoch [115/3000]: 100%|███████████████████| 7/7 [00:00<00:00, 169.16it/s, loss=2.58e+15]\n"
     ]
    },
    {
     "name": "stdout",
     "output_type": "stream",
     "text": [
      "Epoch [115/3000]: Train loss: 2586162480807936.0000, Valid loss: 2581480966455296.0000\n"
     ]
    },
    {
     "name": "stderr",
     "output_type": "stream",
     "text": [
      "Epoch [116/3000]: 100%|███████████████████| 7/7 [00:00<00:00, 153.85it/s, loss=2.58e+15]\n"
     ]
    },
    {
     "name": "stdout",
     "output_type": "stream",
     "text": [
      "Epoch [116/3000]: Train loss: 2578929947621083.5000, Valid loss: 2574143283265536.0000\n"
     ]
    },
    {
     "name": "stderr",
     "output_type": "stream",
     "text": [
      "Epoch [117/3000]: 100%|███████████████████| 7/7 [00:00<00:00, 169.41it/s, loss=2.57e+15]\n"
     ]
    },
    {
     "name": "stdout",
     "output_type": "stream",
     "text": [
      "Epoch [117/3000]: Train loss: 2571692889379401.0000, Valid loss: 2566878882955264.0000\n"
     ]
    },
    {
     "name": "stderr",
     "output_type": "stream",
     "text": [
      "Epoch [118/3000]: 100%|███████████████████| 7/7 [00:00<00:00, 149.49it/s, loss=2.56e+15]\n"
     ]
    },
    {
     "name": "stdout",
     "output_type": "stream",
     "text": [
      "Epoch [118/3000]: Train loss: 2564495099410139.5000, Valid loss: 2559892447559680.0000\n"
     ]
    },
    {
     "name": "stderr",
     "output_type": "stream",
     "text": [
      "Epoch [119/3000]: 100%|███████████████████| 7/7 [00:00<00:00, 148.14it/s, loss=2.55e+15]\n"
     ]
    },
    {
     "name": "stdout",
     "output_type": "stream",
     "text": [
      "Epoch [119/3000]: Train loss: 2557297271092955.5000, Valid loss: 2552686431961088.0000\n"
     ]
    },
    {
     "name": "stderr",
     "output_type": "stream",
     "text": [
      "Epoch [120/3000]: 100%|███████████████████| 7/7 [00:00<00:00, 151.91it/s, loss=2.55e+15]\n"
     ]
    },
    {
     "name": "stdout",
     "output_type": "stream",
     "text": [
      "Epoch [120/3000]: Train loss: 2550135106343497.0000, Valid loss: 2545538129985536.0000\n"
     ]
    },
    {
     "name": "stderr",
     "output_type": "stream",
     "text": [
      "Epoch [121/3000]: 100%|███████████████████| 7/7 [00:00<00:00, 165.07it/s, loss=2.54e+15]\n"
     ]
    },
    {
     "name": "stdout",
     "output_type": "stream",
     "text": [
      "Epoch [121/3000]: Train loss: 2542985673104237.5000, Valid loss: 2538313055469568.0000\n"
     ]
    },
    {
     "name": "stderr",
     "output_type": "stream",
     "text": [
      "Epoch [122/3000]: 100%|███████████████████| 7/7 [00:00<00:00, 150.83it/s, loss=2.53e+15]\n"
     ]
    },
    {
     "name": "stdout",
     "output_type": "stream",
     "text": [
      "Epoch [122/3000]: Train loss: 2535862163060443.5000, Valid loss: 2531229983309824.0000\n"
     ]
    },
    {
     "name": "stderr",
     "output_type": "stream",
     "text": [
      "Epoch [123/3000]: 100%|███████████████████| 7/7 [00:00<00:00, 168.93it/s, loss=2.53e+15]\n"
     ]
    },
    {
     "name": "stdout",
     "output_type": "stream",
     "text": [
      "Epoch [123/3000]: Train loss: 2528761546726253.5000, Valid loss: 2524055106224128.0000\n"
     ]
    },
    {
     "name": "stderr",
     "output_type": "stream",
     "text": [
      "Epoch [124/3000]: 100%|███████████████████| 7/7 [00:00<00:00, 176.54it/s, loss=2.52e+15]\n"
     ]
    },
    {
     "name": "stdout",
     "output_type": "stream",
     "text": [
      "Epoch [124/3000]: Train loss: 2521674812339931.5000, Valid loss: 2516906670030848.0000\n"
     ]
    },
    {
     "name": "stderr",
     "output_type": "stream",
     "text": [
      "Epoch [125/3000]: 100%|███████████████████| 7/7 [00:00<00:00, 180.15it/s, loss=2.51e+15]\n"
     ]
    },
    {
     "name": "stdout",
     "output_type": "stream",
     "text": [
      "Epoch [125/3000]: Train loss: 2514611508534125.5000, Valid loss: 2509937414504448.0000\n"
     ]
    },
    {
     "name": "stderr",
     "output_type": "stream",
     "text": [
      "Epoch [126/3000]: 100%|████████████████████| 7/7 [00:00<00:00, 158.98it/s, loss=2.5e+15]\n"
     ]
    },
    {
     "name": "stdout",
     "output_type": "stream",
     "text": [
      "Epoch [126/3000]: Train loss: 2507572785746505.0000, Valid loss: 2502964400881664.0000\n"
     ]
    },
    {
     "name": "stderr",
     "output_type": "stream",
     "text": [
      "Epoch [127/3000]: 100%|████████████████████| 7/7 [00:00<00:00, 149.17it/s, loss=2.5e+15]\n"
     ]
    },
    {
     "name": "stdout",
     "output_type": "stream",
     "text": [
      "Epoch [127/3000]: Train loss: 2500552930136649.0000, Valid loss: 2495935418466304.0000\n"
     ]
    },
    {
     "name": "stderr",
     "output_type": "stream",
     "text": [
      "Epoch [128/3000]: 100%|████████████████████| 7/7 [00:00<00:00, 49.45it/s, loss=2.49e+15]\n"
     ]
    },
    {
     "name": "stdout",
     "output_type": "stream",
     "text": [
      "Epoch [128/3000]: Train loss: 2493550139352210.5000, Valid loss: 2488903214825472.0000\n"
     ]
    },
    {
     "name": "stderr",
     "output_type": "stream",
     "text": [
      "Epoch [129/3000]: 100%|███████████████████| 7/7 [00:00<00:00, 148.50it/s, loss=2.48e+15]\n"
     ]
    },
    {
     "name": "stdout",
     "output_type": "stream",
     "text": [
      "Epoch [129/3000]: Train loss: 2486568478272951.0000, Valid loss: 2481995296800768.0000\n"
     ]
    },
    {
     "name": "stderr",
     "output_type": "stream",
     "text": [
      "Epoch [130/3000]: 100%|███████████████████| 7/7 [00:00<00:00, 165.13it/s, loss=2.48e+15]\n"
     ]
    },
    {
     "name": "stdout",
     "output_type": "stream",
     "text": [
      "Epoch [130/3000]: Train loss: 2479608790553161.0000, Valid loss: 2475093687009280.0000\n"
     ]
    },
    {
     "name": "stderr",
     "output_type": "stream",
     "text": [
      "Epoch [131/3000]: 100%|███████████████████| 7/7 [00:00<00:00, 170.00it/s, loss=2.47e+15]\n"
     ]
    },
    {
     "name": "stdout",
     "output_type": "stream",
     "text": [
      "Epoch [131/3000]: Train loss: 2472645498128676.5000, Valid loss: 2468079468544000.0000\n"
     ]
    },
    {
     "name": "stderr",
     "output_type": "stream",
     "text": [
      "Epoch [132/3000]: 100%|███████████████████| 7/7 [00:00<00:00, 174.73it/s, loss=2.46e+15]\n"
     ]
    },
    {
     "name": "stdout",
     "output_type": "stream",
     "text": [
      "Epoch [132/3000]: Train loss: 2465728414950546.5000, Valid loss: 2461208460394496.0000\n"
     ]
    },
    {
     "name": "stderr",
     "output_type": "stream",
     "text": [
      "Epoch [133/3000]: 100%|███████████████████| 7/7 [00:00<00:00, 180.93it/s, loss=2.46e+15]\n"
     ]
    },
    {
     "name": "stdout",
     "output_type": "stream",
     "text": [
      "Epoch [133/3000]: Train loss: 2458816201958546.5000, Valid loss: 2454324164689920.0000\n"
     ]
    },
    {
     "name": "stderr",
     "output_type": "stream",
     "text": [
      "Epoch [134/3000]: 100%|███████████████████| 7/7 [00:00<00:00, 157.96it/s, loss=2.45e+15]\n"
     ]
    },
    {
     "name": "stdout",
     "output_type": "stream",
     "text": [
      "Epoch [134/3000]: Train loss: 2451918101001947.5000, Valid loss: 2447381886926848.0000\n"
     ]
    },
    {
     "name": "stderr",
     "output_type": "stream",
     "text": [
      "Epoch [135/3000]: 100%|███████████████████| 7/7 [00:00<00:00, 191.16it/s, loss=2.44e+15]\n"
     ]
    },
    {
     "name": "stdout",
     "output_type": "stream",
     "text": [
      "Epoch [135/3000]: Train loss: 2445075988011885.5000, Valid loss: 2440674892840960.0000\n"
     ]
    },
    {
     "name": "stderr",
     "output_type": "stream",
     "text": [
      "Epoch [136/3000]: 100%|███████████████████| 7/7 [00:00<00:00, 196.09it/s, loss=2.43e+15]\n"
     ]
    },
    {
     "name": "stdout",
     "output_type": "stream",
     "text": [
      "Epoch [136/3000]: Train loss: 2438198556585399.0000, Valid loss: 2433753955696640.0000\n"
     ]
    },
    {
     "name": "stderr",
     "output_type": "stream",
     "text": [
      "Epoch [137/3000]: 100%|███████████████████| 7/7 [00:00<00:00, 151.74it/s, loss=2.43e+15]\n"
     ]
    },
    {
     "name": "stdout",
     "output_type": "stream",
     "text": [
      "Epoch [137/3000]: Train loss: 2431362540914980.5000, Valid loss: 2426915294019584.0000\n"
     ]
    },
    {
     "name": "stderr",
     "output_type": "stream",
     "text": [
      "Epoch [138/3000]: 100%|███████████████████| 7/7 [00:00<00:00, 157.45it/s, loss=2.42e+15]\n"
     ]
    },
    {
     "name": "stdout",
     "output_type": "stream",
     "text": [
      "Epoch [138/3000]: Train loss: 2424563300902034.5000, Valid loss: 2420253262872576.0000\n"
     ]
    },
    {
     "name": "stderr",
     "output_type": "stream",
     "text": [
      "Epoch [139/3000]: 100%|███████████████████| 7/7 [00:00<00:00, 150.57it/s, loss=2.42e+15]\n"
     ]
    },
    {
     "name": "stdout",
     "output_type": "stream",
     "text": [
      "Epoch [139/3000]: Train loss: 2417783618329453.5000, Valid loss: 2413284141563904.0000\n"
     ]
    },
    {
     "name": "stderr",
     "output_type": "stream",
     "text": [
      "Epoch [140/3000]: 100%|███████████████████| 7/7 [00:00<00:00, 193.51it/s, loss=2.41e+15]\n"
     ]
    },
    {
     "name": "stdout",
     "output_type": "stream",
     "text": [
      "Epoch [140/3000]: Train loss: 2411027788164535.0000, Valid loss: 2406542787739648.0000\n"
     ]
    },
    {
     "name": "stderr",
     "output_type": "stream",
     "text": [
      "Epoch [141/3000]: 100%|████████████████████| 7/7 [00:00<00:00, 125.32it/s, loss=2.4e+15]\n"
     ]
    },
    {
     "name": "stdout",
     "output_type": "stream",
     "text": [
      "Epoch [141/3000]: Train loss: 2404239554005284.5000, Valid loss: 2399836062089216.0000\n"
     ]
    },
    {
     "name": "stderr",
     "output_type": "stream",
     "text": [
      "Epoch [142/3000]: 100%|███████████████████| 7/7 [00:00<00:00, 170.62it/s, loss=2.39e+15]\n"
     ]
    },
    {
     "name": "stdout",
     "output_type": "stream",
     "text": [
      "Epoch [142/3000]: Train loss: 2397512139650779.5000, Valid loss: 2393174970466304.0000\n"
     ]
    },
    {
     "name": "stderr",
     "output_type": "stream",
     "text": [
      "Epoch [143/3000]: 100%|███████████████████| 7/7 [00:00<00:00, 173.67it/s, loss=2.39e+15]\n"
     ]
    },
    {
     "name": "stdout",
     "output_type": "stream",
     "text": [
      "Epoch [143/3000]: Train loss: 2390813217802532.5000, Valid loss: 2386366105124864.0000\n"
     ]
    },
    {
     "name": "stderr",
     "output_type": "stream",
     "text": [
      "Epoch [144/3000]: 100%|███████████████████| 7/7 [00:00<00:00, 167.13it/s, loss=2.38e+15]\n"
     ]
    },
    {
     "name": "stdout",
     "output_type": "stream",
     "text": [
      "Epoch [144/3000]: Train loss: 2384090060067401.0000, Valid loss: 2379628240961536.0000\n"
     ]
    },
    {
     "name": "stderr",
     "output_type": "stream",
     "text": [
      "Epoch [145/3000]: 100%|███████████████████| 7/7 [00:00<00:00, 158.67it/s, loss=2.37e+15]\n"
     ]
    },
    {
     "name": "stdout",
     "output_type": "stream",
     "text": [
      "Epoch [145/3000]: Train loss: 2377413188274468.5000, Valid loss: 2373133445103616.0000\n"
     ]
    },
    {
     "name": "stderr",
     "output_type": "stream",
     "text": [
      "Epoch [146/3000]: 100%|███████████████████| 7/7 [00:00<00:00, 151.58it/s, loss=2.37e+15]\n"
     ]
    },
    {
     "name": "stdout",
     "output_type": "stream",
     "text": [
      "Epoch [146/3000]: Train loss: 2370756986011648.0000, Valid loss: 2366335182962688.0000\n"
     ]
    },
    {
     "name": "stderr",
     "output_type": "stream",
     "text": [
      "Epoch [147/3000]: 100%|███████████████████| 7/7 [00:00<00:00, 160.89it/s, loss=2.36e+15]\n"
     ]
    },
    {
     "name": "stdout",
     "output_type": "stream",
     "text": [
      "Epoch [147/3000]: Train loss: 2364127090423515.5000, Valid loss: 2359725228294144.0000\n"
     ]
    },
    {
     "name": "stderr",
     "output_type": "stream",
     "text": [
      "Epoch [148/3000]: 100%|███████████████████| 7/7 [00:00<00:00, 174.08it/s, loss=2.36e+15]\n"
     ]
    },
    {
     "name": "stdout",
     "output_type": "stream",
     "text": [
      "Epoch [148/3000]: Train loss: 2357503560590482.5000, Valid loss: 2353208957599744.0000\n"
     ]
    },
    {
     "name": "stderr",
     "output_type": "stream",
     "text": [
      "Epoch [149/3000]: 100%|███████████████████| 7/7 [00:00<00:00, 154.66it/s, loss=2.35e+15]\n"
     ]
    },
    {
     "name": "stdout",
     "output_type": "stream",
     "text": [
      "Epoch [149/3000]: Train loss: 2350878266753024.0000, Valid loss: 2346477938540544.0000\n"
     ]
    },
    {
     "name": "stderr",
     "output_type": "stream",
     "text": [
      "Epoch [150/3000]: 100%|███████████████████| 7/7 [00:00<00:00, 162.68it/s, loss=2.34e+15]\n"
     ]
    },
    {
     "name": "stdout",
     "output_type": "stream",
     "text": [
      "Epoch [150/3000]: Train loss: 2344310916626139.5000, Valid loss: 2340014146977792.0000\n"
     ]
    },
    {
     "name": "stderr",
     "output_type": "stream",
     "text": [
      "Epoch [151/3000]: 100%|███████████████████| 7/7 [00:00<00:00, 156.99it/s, loss=2.34e+15]\n"
     ]
    },
    {
     "name": "stdout",
     "output_type": "stream",
     "text": [
      "Epoch [151/3000]: Train loss: 2337744640241079.0000, Valid loss: 2333439491571712.0000\n"
     ]
    },
    {
     "name": "stderr",
     "output_type": "stream",
     "text": [
      "Epoch [152/3000]: 100%|███████████████████| 7/7 [00:00<00:00, 160.22it/s, loss=2.33e+15]\n"
     ]
    },
    {
     "name": "stdout",
     "output_type": "stream",
     "text": [
      "Epoch [152/3000]: Train loss: 2331195121898057.0000, Valid loss: 2326984155725824.0000\n"
     ]
    },
    {
     "name": "stderr",
     "output_type": "stream",
     "text": [
      "Epoch [153/3000]: 100%|███████████████████| 7/7 [00:00<00:00, 171.74it/s, loss=2.32e+15]\n"
     ]
    },
    {
     "name": "stdout",
     "output_type": "stream",
     "text": [
      "Epoch [153/3000]: Train loss: 2324657989933933.5000, Valid loss: 2320312058249216.0000\n"
     ]
    },
    {
     "name": "stderr",
     "output_type": "stream",
     "text": [
      "Epoch [154/3000]: 100%|███████████████████| 7/7 [00:00<00:00, 256.09it/s, loss=2.31e+15]\n"
     ]
    },
    {
     "name": "stdout",
     "output_type": "stream",
     "text": [
      "Epoch [154/3000]: Train loss: 2318136005399113.0000, Valid loss: 2313925441880064.0000\n"
     ]
    },
    {
     "name": "stderr",
     "output_type": "stream",
     "text": [
      "Epoch [155/3000]: 100%|███████████████████| 7/7 [00:00<00:00, 169.58it/s, loss=2.31e+15]\n"
     ]
    },
    {
     "name": "stdout",
     "output_type": "stream",
     "text": [
      "Epoch [155/3000]: Train loss: 2311660920373248.0000, Valid loss: 2307402460299264.0000\n"
     ]
    },
    {
     "name": "stderr",
     "output_type": "stream",
     "text": [
      "Epoch [156/3000]: 100%|████████████████████| 7/7 [00:00<00:00, 165.25it/s, loss=2.3e+15]\n"
     ]
    },
    {
     "name": "stdout",
     "output_type": "stream",
     "text": [
      "Epoch [156/3000]: Train loss: 2305173295576795.5000, Valid loss: 2300955714387968.0000\n"
     ]
    },
    {
     "name": "stderr",
     "output_type": "stream",
     "text": [
      "Epoch [157/3000]: 100%|████████████████████| 7/7 [00:00<00:00, 154.74it/s, loss=2.3e+15]\n"
     ]
    },
    {
     "name": "stdout",
     "output_type": "stream",
     "text": [
      "Epoch [157/3000]: Train loss: 2298725437575753.0000, Valid loss: 2294459173699584.0000\n"
     ]
    },
    {
     "name": "stderr",
     "output_type": "stream",
     "text": [
      "Epoch [158/3000]: 100%|███████████████████| 7/7 [00:00<00:00, 140.20it/s, loss=2.29e+15]\n"
     ]
    },
    {
     "name": "stdout",
     "output_type": "stream",
     "text": [
      "Epoch [158/3000]: Train loss: 2292277924706011.5000, Valid loss: 2288009340780544.0000\n"
     ]
    },
    {
     "name": "stderr",
     "output_type": "stream",
     "text": [
      "Epoch [159/3000]: 100%|███████████████████| 7/7 [00:00<00:00, 168.34it/s, loss=2.28e+15]\n"
     ]
    },
    {
     "name": "stdout",
     "output_type": "stream",
     "text": [
      "Epoch [159/3000]: Train loss: 2285844600567515.5000, Valid loss: 2281718690086912.0000\n"
     ]
    },
    {
     "name": "stderr",
     "output_type": "stream",
     "text": [
      "Epoch [160/3000]: 100%|███████████████████| 7/7 [00:00<00:00, 159.84it/s, loss=2.28e+15]\n"
     ]
    },
    {
     "name": "stdout",
     "output_type": "stream",
     "text": [
      "Epoch [160/3000]: Train loss: 2279446019646610.5000, Valid loss: 2275332476370944.0000\n"
     ]
    },
    {
     "name": "stderr",
     "output_type": "stream",
     "text": [
      "Epoch [161/3000]: 100%|███████████████████| 7/7 [00:00<00:00, 175.53it/s, loss=2.27e+15]\n"
     ]
    },
    {
     "name": "stdout",
     "output_type": "stream",
     "text": [
      "Epoch [161/3000]: Train loss: 2273054494743405.5000, Valid loss: 2268936867414016.0000\n"
     ]
    },
    {
     "name": "stderr",
     "output_type": "stream",
     "text": [
      "Epoch [162/3000]: 100%|███████████████████| 7/7 [00:00<00:00, 170.01it/s, loss=2.26e+15]\n"
     ]
    },
    {
     "name": "stdout",
     "output_type": "stream",
     "text": [
      "Epoch [162/3000]: Train loss: 2266717884064914.5000, Valid loss: 2262597093031936.0000\n"
     ]
    },
    {
     "name": "stderr",
     "output_type": "stream",
     "text": [
      "Epoch [163/3000]: 100%|███████████████████| 7/7 [00:00<00:00, 175.24it/s, loss=2.26e+15]\n"
     ]
    },
    {
     "name": "stdout",
     "output_type": "stream",
     "text": [
      "Epoch [163/3000]: Train loss: 2260355043407579.5000, Valid loss: 2256216650678272.0000\n"
     ]
    },
    {
     "name": "stderr",
     "output_type": "stream",
     "text": [
      "Epoch [164/3000]: 100%|███████████████████| 7/7 [00:00<00:00, 176.28it/s, loss=2.25e+15]\n"
     ]
    },
    {
     "name": "stdout",
     "output_type": "stream",
     "text": [
      "Epoch [164/3000]: Train loss: 2254017704118564.5000, Valid loss: 2249828222369792.0000\n"
     ]
    },
    {
     "name": "stderr",
     "output_type": "stream",
     "text": [
      "Epoch [165/3000]: 100%|███████████████████| 7/7 [00:00<00:00, 178.66it/s, loss=2.24e+15]\n"
     ]
    },
    {
     "name": "stdout",
     "output_type": "stream",
     "text": [
      "Epoch [165/3000]: Train loss: 2247700650880438.7500, Valid loss: 2243561797976064.0000\n"
     ]
    },
    {
     "name": "stderr",
     "output_type": "stream",
     "text": [
      "Epoch [166/3000]: 100%|███████████████████| 7/7 [00:00<00:00, 163.26it/s, loss=2.24e+15]\n"
     ]
    },
    {
     "name": "stdout",
     "output_type": "stream",
     "text": [
      "Epoch [166/3000]: Train loss: 2241400470728118.7500, Valid loss: 2237293897187328.0000\n"
     ]
    },
    {
     "name": "stderr",
     "output_type": "stream",
     "text": [
      "Epoch [167/3000]: 100%|███████████████████| 7/7 [00:00<00:00, 170.61it/s, loss=2.23e+15]\n"
     ]
    },
    {
     "name": "stdout",
     "output_type": "stream",
     "text": [
      "Epoch [167/3000]: Train loss: 2235124430592877.7500, Valid loss: 2231056329605120.0000\n"
     ]
    },
    {
     "name": "stderr",
     "output_type": "stream",
     "text": [
      "Epoch [168/3000]: 100%|███████████████████| 7/7 [00:00<00:00, 174.78it/s, loss=2.23e+15]\n"
     ]
    },
    {
     "name": "stdout",
     "output_type": "stream",
     "text": [
      "Epoch [168/3000]: Train loss: 2228867180939556.5000, Valid loss: 2224826009780224.0000\n"
     ]
    },
    {
     "name": "stderr",
     "output_type": "stream",
     "text": [
      "Epoch [169/3000]: 100%|███████████████████| 7/7 [00:00<00:00, 246.90it/s, loss=2.22e+15]\n"
     ]
    },
    {
     "name": "stdout",
     "output_type": "stream",
     "text": [
      "Epoch [169/3000]: Train loss: 2222621148053504.0000, Valid loss: 2218515696189440.0000\n"
     ]
    },
    {
     "name": "stderr",
     "output_type": "stream",
     "text": [
      "Epoch [170/3000]: 100%|███████████████████| 7/7 [00:00<00:00, 158.07it/s, loss=2.21e+15]\n"
     ]
    },
    {
     "name": "stdout",
     "output_type": "stream",
     "text": [
      "Epoch [170/3000]: Train loss: 2216402188800585.2500, Valid loss: 2212322420457472.0000\n"
     ]
    },
    {
     "name": "stderr",
     "output_type": "stream",
     "text": [
      "Epoch [171/3000]: 100%|███████████████████| 7/7 [00:00<00:00, 152.82it/s, loss=2.21e+15]\n"
     ]
    },
    {
     "name": "stdout",
     "output_type": "stream",
     "text": [
      "Epoch [171/3000]: Train loss: 2210187390297234.2500, Valid loss: 2206122031185920.0000\n"
     ]
    },
    {
     "name": "stderr",
     "output_type": "stream",
     "text": [
      "Epoch [172/3000]: 100%|████████████████████| 7/7 [00:00<00:00, 177.51it/s, loss=2.2e+15]\n"
     ]
    },
    {
     "name": "stdout",
     "output_type": "stream",
     "text": [
      "Epoch [172/3000]: Train loss: 2204002349781577.2500, Valid loss: 2199974389481472.0000\n"
     ]
    },
    {
     "name": "stderr",
     "output_type": "stream",
     "text": [
      "Epoch [173/3000]: 100%|████████████████████| 7/7 [00:00<00:00, 164.58it/s, loss=2.2e+15]\n"
     ]
    },
    {
     "name": "stdout",
     "output_type": "stream",
     "text": [
      "Epoch [173/3000]: Train loss: 2197818958226578.2500, Valid loss: 2193721789513728.0000\n"
     ]
    },
    {
     "name": "stderr",
     "output_type": "stream",
     "text": [
      "Epoch [174/3000]: 100%|███████████████████| 7/7 [00:00<00:00, 169.46it/s, loss=2.19e+15]\n"
     ]
    },
    {
     "name": "stdout",
     "output_type": "stream",
     "text": [
      "Epoch [174/3000]: Train loss: 2191646821786770.2500, Valid loss: 2187557974573056.0000\n"
     ]
    },
    {
     "name": "stderr",
     "output_type": "stream",
     "text": [
      "Epoch [175/3000]: 100%|███████████████████| 7/7 [00:00<00:00, 165.62it/s, loss=2.18e+15]\n"
     ]
    },
    {
     "name": "stdout",
     "output_type": "stream",
     "text": [
      "Epoch [175/3000]: Train loss: 2185533702799360.0000, Valid loss: 2181427378520064.0000\n"
     ]
    },
    {
     "name": "stderr",
     "output_type": "stream",
     "text": [
      "Epoch [176/3000]: 100%|███████████████████| 7/7 [00:00<00:00, 180.62it/s, loss=2.18e+15]\n"
     ]
    },
    {
     "name": "stdout",
     "output_type": "stream",
     "text": [
      "Epoch [176/3000]: Train loss: 2179398265321179.5000, Valid loss: 2175324632645632.0000\n"
     ]
    },
    {
     "name": "stderr",
     "output_type": "stream",
     "text": [
      "Epoch [177/3000]: 100%|███████████████████| 7/7 [00:00<00:00, 159.25it/s, loss=2.17e+15]\n"
     ]
    },
    {
     "name": "stdout",
     "output_type": "stream",
     "text": [
      "Epoch [177/3000]: Train loss: 2173301022373595.5000, Valid loss: 2169208397889536.0000\n"
     ]
    },
    {
     "name": "stderr",
     "output_type": "stream",
     "text": [
      "Epoch [178/3000]: 100%|███████████████████| 7/7 [00:00<00:00, 167.45it/s, loss=2.16e+15]\n"
     ]
    },
    {
     "name": "stdout",
     "output_type": "stream",
     "text": [
      "Epoch [178/3000]: Train loss: 2167208860525714.2500, Valid loss: 2163096122556416.0000\n"
     ]
    },
    {
     "name": "stderr",
     "output_type": "stream",
     "text": [
      "Epoch [179/3000]: 100%|███████████████████| 7/7 [00:00<00:00, 164.17it/s, loss=2.16e+15]\n"
     ]
    },
    {
     "name": "stdout",
     "output_type": "stream",
     "text": [
      "Epoch [179/3000]: Train loss: 2161138441949769.2500, Valid loss: 2157080148443136.0000\n"
     ]
    },
    {
     "name": "stderr",
     "output_type": "stream",
     "text": [
      "Epoch [180/3000]: 100%|███████████████████| 7/7 [00:00<00:00, 150.94it/s, loss=2.15e+15]\n"
     ]
    },
    {
     "name": "stdout",
     "output_type": "stream",
     "text": [
      "Epoch [180/3000]: Train loss: 2155083362542738.2500, Valid loss: 2151110613663744.0000\n"
     ]
    },
    {
     "name": "stderr",
     "output_type": "stream",
     "text": [
      "Epoch [181/3000]: 100%|███████████████████| 7/7 [00:00<00:00, 124.77it/s, loss=2.15e+15]\n"
     ]
    },
    {
     "name": "stdout",
     "output_type": "stream",
     "text": [
      "Epoch [181/3000]: Train loss: 2149051694542262.7500, Valid loss: 2145028872863744.0000\n"
     ]
    },
    {
     "name": "stderr",
     "output_type": "stream",
     "text": [
      "Epoch [182/3000]: 100%|███████████████████| 7/7 [00:00<00:00, 168.58it/s, loss=2.14e+15]\n"
     ]
    },
    {
     "name": "stdout",
     "output_type": "stream",
     "text": [
      "Epoch [182/3000]: Train loss: 2143020851022116.5000, Valid loss: 2139093362278400.0000\n"
     ]
    },
    {
     "name": "stderr",
     "output_type": "stream",
     "text": [
      "Epoch [183/3000]: 100%|███████████████████| 7/7 [00:00<00:00, 172.15it/s, loss=2.13e+15]\n"
     ]
    },
    {
     "name": "stdout",
     "output_type": "stream",
     "text": [
      "Epoch [183/3000]: Train loss: 2137019803837586.2500, Valid loss: 2133095977320448.0000\n"
     ]
    },
    {
     "name": "stderr",
     "output_type": "stream",
     "text": [
      "Epoch [184/3000]: 100%|███████████████████| 7/7 [00:00<00:00, 174.18it/s, loss=2.13e+15]\n"
     ]
    },
    {
     "name": "stdout",
     "output_type": "stream",
     "text": [
      "Epoch [184/3000]: Train loss: 2131036070739968.0000, Valid loss: 2127147648942080.0000\n"
     ]
    },
    {
     "name": "stderr",
     "output_type": "stream",
     "text": [
      "Epoch [185/3000]: 100%|███████████████████| 7/7 [00:00<00:00, 171.18it/s, loss=2.12e+15]\n"
     ]
    },
    {
     "name": "stdout",
     "output_type": "stream",
     "text": [
      "Epoch [185/3000]: Train loss: 2125063976236763.5000, Valid loss: 2121162477797376.0000\n"
     ]
    },
    {
     "name": "stderr",
     "output_type": "stream",
     "text": [
      "Epoch [186/3000]: 100%|███████████████████| 7/7 [00:00<00:00, 162.34it/s, loss=2.12e+15]\n"
     ]
    },
    {
     "name": "stdout",
     "output_type": "stream",
     "text": [
      "Epoch [186/3000]: Train loss: 2119109004080859.5000, Valid loss: 2115132880584704.0000\n"
     ]
    },
    {
     "name": "stderr",
     "output_type": "stream",
     "text": [
      "Epoch [187/3000]: 100%|███████████████████| 7/7 [00:00<00:00, 176.14it/s, loss=2.11e+15]\n"
     ]
    },
    {
     "name": "stdout",
     "output_type": "stream",
     "text": [
      "Epoch [187/3000]: Train loss: 2113165574649563.5000, Valid loss: 2109197101563904.0000\n"
     ]
    },
    {
     "name": "stderr",
     "output_type": "stream",
     "text": [
      "Epoch [188/3000]: 100%|████████████████████| 7/7 [00:00<00:00, 157.60it/s, loss=2.1e+15]\n"
     ]
    },
    {
     "name": "stdout",
     "output_type": "stream",
     "text": [
      "Epoch [188/3000]: Train loss: 2107260761576009.2500, Valid loss: 2103372454821888.0000\n"
     ]
    },
    {
     "name": "stderr",
     "output_type": "stream",
     "text": [
      "Epoch [189/3000]: 100%|████████████████████| 7/7 [00:00<00:00, 170.00it/s, loss=2.1e+15]\n"
     ]
    },
    {
     "name": "stdout",
     "output_type": "stream",
     "text": [
      "Epoch [189/3000]: Train loss: 2101364960264192.0000, Valid loss: 2097389095616512.0000\n"
     ]
    },
    {
     "name": "stderr",
     "output_type": "stream",
     "text": [
      "Epoch [190/3000]: 100%|███████████████████| 7/7 [00:00<00:00, 164.46it/s, loss=2.09e+15]\n"
     ]
    },
    {
     "name": "stdout",
     "output_type": "stream",
     "text": [
      "Epoch [190/3000]: Train loss: 2095470060128548.5000, Valid loss: 2091593574121472.0000\n"
     ]
    },
    {
     "name": "stderr",
     "output_type": "stream",
     "text": [
      "Epoch [191/3000]: 100%|███████████████████| 7/7 [00:00<00:00, 152.76it/s, loss=2.09e+15]\n"
     ]
    },
    {
     "name": "stdout",
     "output_type": "stream",
     "text": [
      "Epoch [191/3000]: Train loss: 2089602214452077.7500, Valid loss: 2085678330413056.0000\n"
     ]
    },
    {
     "name": "stderr",
     "output_type": "stream",
     "text": [
      "Epoch [192/3000]: 100%|███████████████████| 7/7 [00:00<00:00, 164.35it/s, loss=2.08e+15]\n"
     ]
    },
    {
     "name": "stdout",
     "output_type": "stream",
     "text": [
      "Epoch [192/3000]: Train loss: 2083746179935670.7500, Valid loss: 2079940388323328.0000\n"
     ]
    },
    {
     "name": "stderr",
     "output_type": "stream",
     "text": [
      "Epoch [193/3000]: 100%|███████████████████| 7/7 [00:00<00:00, 181.20it/s, loss=2.08e+15]\n"
     ]
    },
    {
     "name": "stdout",
     "output_type": "stream",
     "text": [
      "Epoch [193/3000]: Train loss: 2077912329692306.2500, Valid loss: 2074051317071872.0000\n"
     ]
    },
    {
     "name": "stderr",
     "output_type": "stream",
     "text": [
      "Epoch [194/3000]: 100%|███████████████████| 7/7 [00:00<00:00, 167.86it/s, loss=2.07e+15]\n"
     ]
    },
    {
     "name": "stdout",
     "output_type": "stream",
     "text": [
      "Epoch [194/3000]: Train loss: 2072085727206253.7500, Valid loss: 2068238682816512.0000\n"
     ]
    },
    {
     "name": "stderr",
     "output_type": "stream",
     "text": [
      "Epoch [195/3000]: 100%|███████████████████| 7/7 [00:00<00:00, 168.48it/s, loss=2.06e+15]\n"
     ]
    },
    {
     "name": "stdout",
     "output_type": "stream",
     "text": [
      "Epoch [195/3000]: Train loss: 2066274502237037.7500, Valid loss: 2062454771154944.0000\n"
     ]
    },
    {
     "name": "stderr",
     "output_type": "stream",
     "text": [
      "Epoch [196/3000]: 100%|███████████████████| 7/7 [00:00<00:00, 161.92it/s, loss=2.06e+15]\n"
     ]
    },
    {
     "name": "stdout",
     "output_type": "stream",
     "text": [
      "Epoch [196/3000]: Train loss: 2060477542694912.0000, Valid loss: 2056702870421504.0000\n"
     ]
    },
    {
     "name": "stderr",
     "output_type": "stream",
     "text": [
      "Epoch [197/3000]: 100%|███████████████████| 7/7 [00:00<00:00, 177.00it/s, loss=2.05e+15]\n"
     ]
    },
    {
     "name": "stdout",
     "output_type": "stream",
     "text": [
      "Epoch [197/3000]: Train loss: 2054721922213010.2500, Valid loss: 2050877351264256.0000\n"
     ]
    },
    {
     "name": "stderr",
     "output_type": "stream",
     "text": [
      "Epoch [198/3000]: 100%|███████████████████| 7/7 [00:00<00:00, 152.91it/s, loss=2.05e+15]\n"
     ]
    },
    {
     "name": "stdout",
     "output_type": "stream",
     "text": [
      "Epoch [198/3000]: Train loss: 2048963751594276.5000, Valid loss: 2045093506711552.0000\n"
     ]
    },
    {
     "name": "stderr",
     "output_type": "stream",
     "text": [
      "Epoch [199/3000]: 100%|███████████████████| 7/7 [00:00<00:00, 172.80it/s, loss=2.04e+15]\n"
     ]
    },
    {
     "name": "stdout",
     "output_type": "stream",
     "text": [
      "Epoch [199/3000]: Train loss: 2043206788935094.7500, Valid loss: 2039501593509888.0000\n"
     ]
    },
    {
     "name": "stderr",
     "output_type": "stream",
     "text": [
      "Epoch [200/3000]: 100%|███████████████████| 7/7 [00:00<00:00, 171.99it/s, loss=2.03e+15]\n"
     ]
    },
    {
     "name": "stdout",
     "output_type": "stream",
     "text": [
      "Epoch [200/3000]: Train loss: 2037493562081280.0000, Valid loss: 2033606214025216.0000\n"
     ]
    },
    {
     "name": "stderr",
     "output_type": "stream",
     "text": [
      "Epoch [201/3000]: 100%|███████████████████| 7/7 [00:00<00:00, 173.72it/s, loss=2.03e+15]\n"
     ]
    },
    {
     "name": "stdout",
     "output_type": "stream",
     "text": [
      "Epoch [201/3000]: Train loss: 2031790785036288.0000, Valid loss: 2028048996106240.0000\n"
     ]
    },
    {
     "name": "stderr",
     "output_type": "stream",
     "text": [
      "Epoch [202/3000]: 100%|███████████████████| 7/7 [00:00<00:00, 172.51it/s, loss=2.02e+15]\n"
     ]
    },
    {
     "name": "stdout",
     "output_type": "stream",
     "text": [
      "Epoch [202/3000]: Train loss: 2026111611137462.7500, Valid loss: 2022337226473472.0000\n"
     ]
    },
    {
     "name": "stderr",
     "output_type": "stream",
     "text": [
      "Epoch [203/3000]: 100%|███████████████████| 7/7 [00:00<00:00, 169.11it/s, loss=2.02e+15]\n"
     ]
    },
    {
     "name": "stdout",
     "output_type": "stream",
     "text": [
      "Epoch [203/3000]: Train loss: 2020428583272448.0000, Valid loss: 2016699746353152.0000\n"
     ]
    },
    {
     "name": "stderr",
     "output_type": "stream",
     "text": [
      "Epoch [204/3000]: 100%|███████████████████| 7/7 [00:00<00:00, 170.79it/s, loss=2.01e+15]\n"
     ]
    },
    {
     "name": "stdout",
     "output_type": "stream",
     "text": [
      "Epoch [204/3000]: Train loss: 2014755832650605.7500, Valid loss: 2011023074656256.0000\n"
     ]
    },
    {
     "name": "stderr",
     "output_type": "stream",
     "text": [
      "Epoch [205/3000]: 100%|███████████████████| 7/7 [00:00<00:00, 173.91it/s, loss=2.01e+15]\n"
     ]
    },
    {
     "name": "stdout",
     "output_type": "stream",
     "text": [
      "Epoch [205/3000]: Train loss: 2009117365071286.7500, Valid loss: 2005349087313920.0000\n"
     ]
    },
    {
     "name": "stderr",
     "output_type": "stream",
     "text": [
      "Epoch [206/3000]: 100%|██████████████████████| 7/7 [00:00<00:00, 172.46it/s, loss=2e+15]\n"
     ]
    },
    {
     "name": "stdout",
     "output_type": "stream",
     "text": [
      "Epoch [206/3000]: Train loss: 2003491303044827.5000, Valid loss: 1999780527996928.0000\n"
     ]
    },
    {
     "name": "stderr",
     "output_type": "stream",
     "text": [
      "Epoch [207/3000]: 100%|██████████████████████| 7/7 [00:00<00:00, 135.45it/s, loss=2e+15]\n"
     ]
    },
    {
     "name": "stdout",
     "output_type": "stream",
     "text": [
      "Epoch [207/3000]: Train loss: 1997881979886445.7500, Valid loss: 1994170898055168.0000\n"
     ]
    },
    {
     "name": "stderr",
     "output_type": "stream",
     "text": [
      "Epoch [208/3000]: 100%|███████████████████| 7/7 [00:00<00:00, 117.50it/s, loss=1.99e+15]\n"
     ]
    },
    {
     "name": "stdout",
     "output_type": "stream",
     "text": [
      "Epoch [208/3000]: Train loss: 1992282262882596.5000, Valid loss: 1988557577125888.0000\n"
     ]
    },
    {
     "name": "stderr",
     "output_type": "stream",
     "text": [
      "Epoch [209/3000]: 100%|███████████████████| 7/7 [00:00<00:00, 153.63it/s, loss=1.98e+15]\n"
     ]
    },
    {
     "name": "stdout",
     "output_type": "stream",
     "text": [
      "Epoch [209/3000]: Train loss: 1986701585622162.2500, Valid loss: 1982986534780928.0000\n"
     ]
    },
    {
     "name": "stderr",
     "output_type": "stream",
     "text": [
      "Epoch [210/3000]: 100%|███████████████████| 7/7 [00:00<00:00, 170.07it/s, loss=1.98e+15]\n"
     ]
    },
    {
     "name": "stdout",
     "output_type": "stream",
     "text": [
      "Epoch [210/3000]: Train loss: 1981138049882989.7500, Valid loss: 1977411935666176.0000\n"
     ]
    },
    {
     "name": "stderr",
     "output_type": "stream",
     "text": [
      "Epoch [211/3000]: 100%|███████████████████| 7/7 [00:00<00:00, 132.97it/s, loss=1.97e+15]\n"
     ]
    },
    {
     "name": "stdout",
     "output_type": "stream",
     "text": [
      "Epoch [211/3000]: Train loss: 1975581435943789.7500, Valid loss: 1971867669757952.0000\n"
     ]
    },
    {
     "name": "stderr",
     "output_type": "stream",
     "text": [
      "Epoch [212/3000]: 100%|███████████████████| 7/7 [00:00<00:00, 205.66it/s, loss=1.97e+15]\n"
     ]
    },
    {
     "name": "stdout",
     "output_type": "stream",
     "text": [
      "Epoch [212/3000]: Train loss: 1970052202421101.7500, Valid loss: 1966415074557952.0000\n"
     ]
    },
    {
     "name": "stderr",
     "output_type": "stream",
     "text": [
      "Epoch [213/3000]: 100%|███████████████████| 7/7 [00:00<00:00, 214.20it/s, loss=1.96e+15]\n"
     ]
    },
    {
     "name": "stdout",
     "output_type": "stream",
     "text": [
      "Epoch [213/3000]: Train loss: 1964532210747684.5000, Valid loss: 1960871412629504.0000\n"
     ]
    },
    {
     "name": "stderr",
     "output_type": "stream",
     "text": [
      "Epoch [214/3000]: 100%|███████████████████| 7/7 [00:00<00:00, 165.42it/s, loss=1.96e+15]\n"
     ]
    },
    {
     "name": "stdout",
     "output_type": "stream",
     "text": [
      "Epoch [214/3000]: Train loss: 1959037145223753.2500, Valid loss: 1955284868136960.0000\n"
     ]
    },
    {
     "name": "stderr",
     "output_type": "stream",
     "text": [
      "Epoch [215/3000]: 100%|███████████████████| 7/7 [00:00<00:00, 167.65it/s, loss=1.95e+15]\n"
     ]
    },
    {
     "name": "stdout",
     "output_type": "stream",
     "text": [
      "Epoch [215/3000]: Train loss: 1953547774366281.2500, Valid loss: 1949869853900800.0000\n"
     ]
    },
    {
     "name": "stderr",
     "output_type": "stream",
     "text": [
      "Epoch [216/3000]: 100%|███████████████████| 7/7 [00:00<00:00, 178.21it/s, loss=1.95e+15]\n"
     ]
    },
    {
     "name": "stdout",
     "output_type": "stream",
     "text": [
      "Epoch [216/3000]: Train loss: 1948065267786898.2500, Valid loss: 1944512955940864.0000\n"
     ]
    },
    {
     "name": "stderr",
     "output_type": "stream",
     "text": [
      "Epoch [217/3000]: 100%|███████████████████| 7/7 [00:00<00:00, 164.01it/s, loss=1.94e+15]\n"
     ]
    },
    {
     "name": "stdout",
     "output_type": "stream",
     "text": [
      "Epoch [217/3000]: Train loss: 1942603296519899.5000, Valid loss: 1939033651412992.0000\n"
     ]
    },
    {
     "name": "stderr",
     "output_type": "stream",
     "text": [
      "Epoch [218/3000]: 100%|███████████████████| 7/7 [00:00<00:00, 169.62it/s, loss=1.93e+15]\n"
     ]
    },
    {
     "name": "stdout",
     "output_type": "stream",
     "text": [
      "Epoch [218/3000]: Train loss: 1937155993333174.7500, Valid loss: 1933562802601984.0000\n"
     ]
    },
    {
     "name": "stderr",
     "output_type": "stream",
     "text": [
      "Epoch [219/3000]: 100%|███████████████████| 7/7 [00:00<00:00, 164.95it/s, loss=1.93e+15]\n"
     ]
    },
    {
     "name": "stdout",
     "output_type": "stream",
     "text": [
      "Epoch [219/3000]: Train loss: 1931739521875968.0000, Valid loss: 1928141882785792.0000\n"
     ]
    },
    {
     "name": "stderr",
     "output_type": "stream",
     "text": [
      "Epoch [220/3000]: 100%|███████████████████| 7/7 [00:00<00:00, 170.49it/s, loss=1.92e+15]\n"
     ]
    },
    {
     "name": "stdout",
     "output_type": "stream",
     "text": [
      "Epoch [220/3000]: Train loss: 1926340172766061.7500, Valid loss: 1922754450292736.0000\n"
     ]
    },
    {
     "name": "stderr",
     "output_type": "stream",
     "text": [
      "Epoch [221/3000]: 100%|███████████████████| 7/7 [00:00<00:00, 166.85it/s, loss=1.92e+15]\n"
     ]
    },
    {
     "name": "stdout",
     "output_type": "stream",
     "text": [
      "Epoch [221/3000]: Train loss: 1920946211539236.5000, Valid loss: 1917408893730816.0000\n"
     ]
    },
    {
     "name": "stderr",
     "output_type": "stream",
     "text": [
      "Epoch [222/3000]: 100%|███████████████████| 7/7 [00:00<00:00, 170.83it/s, loss=1.91e+15]\n"
     ]
    },
    {
     "name": "stdout",
     "output_type": "stream",
     "text": [
      "Epoch [222/3000]: Train loss: 1915543468638208.0000, Valid loss: 1911985356668928.0000\n"
     ]
    },
    {
     "name": "stderr",
     "output_type": "stream",
     "text": [
      "Epoch [223/3000]: 100%|███████████████████| 7/7 [00:00<00:00, 137.46it/s, loss=1.91e+15]\n"
     ]
    },
    {
     "name": "stdout",
     "output_type": "stream",
     "text": [
      "Epoch [223/3000]: Train loss: 1910178613484397.7500, Valid loss: 1906618459488256.0000\n"
     ]
    },
    {
     "name": "stderr",
     "output_type": "stream",
     "text": [
      "Epoch [224/3000]: 100%|████████████████████| 7/7 [00:00<00:00, 139.53it/s, loss=1.9e+15]\n"
     ]
    },
    {
     "name": "stdout",
     "output_type": "stream",
     "text": [
      "Epoch [224/3000]: Train loss: 1904827736148260.5000, Valid loss: 1901340011790336.0000\n"
     ]
    },
    {
     "name": "stderr",
     "output_type": "stream",
     "text": [
      "Epoch [225/3000]: 100%|████████████████████| 7/7 [00:00<00:00, 129.67it/s, loss=1.9e+15]\n"
     ]
    },
    {
     "name": "stdout",
     "output_type": "stream",
     "text": [
      "Epoch [225/3000]: Train loss: 1899494115377152.0000, Valid loss: 1895940701028352.0000\n"
     ]
    },
    {
     "name": "stderr",
     "output_type": "stream",
     "text": [
      "Epoch [226/3000]: 100%|███████████████████| 7/7 [00:00<00:00, 171.23it/s, loss=1.89e+15]\n"
     ]
    },
    {
     "name": "stdout",
     "output_type": "stream",
     "text": [
      "Epoch [226/3000]: Train loss: 1894189696548864.0000, Valid loss: 1890646080094208.0000\n"
     ]
    },
    {
     "name": "stderr",
     "output_type": "stream",
     "text": [
      "Epoch [227/3000]: 100%|███████████████████| 7/7 [00:00<00:00, 170.19it/s, loss=1.89e+15]\n"
     ]
    },
    {
     "name": "stdout",
     "output_type": "stream",
     "text": [
      "Epoch [227/3000]: Train loss: 1888872411992649.2500, Valid loss: 1885293477101568.0000\n"
     ]
    },
    {
     "name": "stderr",
     "output_type": "stream",
     "text": [
      "Epoch [228/3000]: 100%|███████████████████| 7/7 [00:00<00:00, 165.51it/s, loss=1.88e+15]\n"
     ]
    },
    {
     "name": "stdout",
     "output_type": "stream",
     "text": [
      "Epoch [228/3000]: Train loss: 1883574608180955.5000, Valid loss: 1880060126560256.0000\n"
     ]
    },
    {
     "name": "stderr",
     "output_type": "stream",
     "text": [
      "Epoch [229/3000]: 100%|███████████████████| 7/7 [00:00<00:00, 165.99it/s, loss=1.88e+15]\n"
     ]
    },
    {
     "name": "stdout",
     "output_type": "stream",
     "text": [
      "Epoch [229/3000]: Train loss: 1878302919304338.2500, Valid loss: 1874749466607616.0000\n"
     ]
    },
    {
     "name": "stderr",
     "output_type": "stream",
     "text": [
      "Epoch [230/3000]: 100%|███████████████████| 7/7 [00:00<00:00, 165.12it/s, loss=1.87e+15]\n"
     ]
    },
    {
     "name": "stdout",
     "output_type": "stream",
     "text": [
      "Epoch [230/3000]: Train loss: 1873045706768384.0000, Valid loss: 1869517726679040.0000\n"
     ]
    },
    {
     "name": "stderr",
     "output_type": "stream",
     "text": [
      "Epoch [231/3000]: 100%|███████████████████| 7/7 [00:00<00:00, 166.10it/s, loss=1.87e+15]\n"
     ]
    },
    {
     "name": "stdout",
     "output_type": "stream",
     "text": [
      "Epoch [231/3000]: Train loss: 1867793997159277.7500, Valid loss: 1864375174430720.0000\n"
     ]
    },
    {
     "name": "stderr",
     "output_type": "stream",
     "text": [
      "Epoch [232/3000]: 100%|███████████████████| 7/7 [00:00<00:00, 136.82it/s, loss=1.86e+15]\n"
     ]
    },
    {
     "name": "stdout",
     "output_type": "stream",
     "text": [
      "Epoch [232/3000]: Train loss: 1862569380357266.2500, Valid loss: 1859002975649792.0000\n"
     ]
    },
    {
     "name": "stderr",
     "output_type": "stream",
     "text": [
      "Epoch [233/3000]: 100%|███████████████████| 7/7 [00:00<00:00, 164.61it/s, loss=1.86e+15]\n"
     ]
    },
    {
     "name": "stdout",
     "output_type": "stream",
     "text": [
      "Epoch [233/3000]: Train loss: 1857350554091520.0000, Valid loss: 1853935249784832.0000\n"
     ]
    },
    {
     "name": "stderr",
     "output_type": "stream",
     "text": [
      "Epoch [234/3000]: 100%|███████████████████| 7/7 [00:00<00:00, 179.24it/s, loss=1.85e+15]\n"
     ]
    },
    {
     "name": "stdout",
     "output_type": "stream",
     "text": [
      "Epoch [234/3000]: Train loss: 1852144977032923.5000, Valid loss: 1848645930450944.0000\n"
     ]
    },
    {
     "name": "stderr",
     "output_type": "stream",
     "text": [
      "Epoch [235/3000]: 100%|███████████████████| 7/7 [00:00<00:00, 159.94it/s, loss=1.85e+15]\n"
     ]
    },
    {
     "name": "stdout",
     "output_type": "stream",
     "text": [
      "Epoch [235/3000]: Train loss: 1846962907250688.0000, Valid loss: 1843541496037376.0000\n"
     ]
    },
    {
     "name": "stderr",
     "output_type": "stream",
     "text": [
      "Epoch [236/3000]: 100%|███████████████████| 7/7 [00:00<00:00, 145.85it/s, loss=1.84e+15]\n"
     ]
    },
    {
     "name": "stdout",
     "output_type": "stream",
     "text": [
      "Epoch [236/3000]: Train loss: 1841780722424685.7500, Valid loss: 1838437330059264.0000\n"
     ]
    },
    {
     "name": "stderr",
     "output_type": "stream",
     "text": [
      "Epoch [237/3000]: 100%|███████████████████| 7/7 [00:00<00:00, 168.79it/s, loss=1.83e+15]\n"
     ]
    },
    {
     "name": "stdout",
     "output_type": "stream",
     "text": [
      "Epoch [237/3000]: Train loss: 1836626608277796.5000, Valid loss: 1833237735276544.0000\n"
     ]
    },
    {
     "name": "stderr",
     "output_type": "stream",
     "text": [
      "Epoch [238/3000]: 100%|███████████████████| 7/7 [00:00<00:00, 174.10it/s, loss=1.83e+15]\n"
     ]
    },
    {
     "name": "stdout",
     "output_type": "stream",
     "text": [
      "Epoch [238/3000]: Train loss: 1831460069404086.7500, Valid loss: 1828034181070848.0000\n"
     ]
    },
    {
     "name": "stderr",
     "output_type": "stream",
     "text": [
      "Epoch [239/3000]: 100%|███████████████████| 7/7 [00:00<00:00, 160.13it/s, loss=1.82e+15]\n"
     ]
    },
    {
     "name": "stdout",
     "output_type": "stream",
     "text": [
      "Epoch [239/3000]: Train loss: 1826337266335744.0000, Valid loss: 1822909546889216.0000\n"
     ]
    },
    {
     "name": "stderr",
     "output_type": "stream",
     "text": [
      "Epoch [240/3000]: 100%|███████████████████| 7/7 [00:00<00:00, 160.62it/s, loss=1.82e+15]\n"
     ]
    },
    {
     "name": "stdout",
     "output_type": "stream",
     "text": [
      "Epoch [240/3000]: Train loss: 1821219525193142.7500, Valid loss: 1817755787460608.0000\n"
     ]
    },
    {
     "name": "stderr",
     "output_type": "stream",
     "text": [
      "Epoch [241/3000]: 100%|███████████████████| 7/7 [00:00<00:00, 149.71it/s, loss=1.81e+15]\n"
     ]
    },
    {
     "name": "stdout",
     "output_type": "stream",
     "text": [
      "Epoch [241/3000]: Train loss: 1816131426994468.5000, Valid loss: 1812687122071552.0000\n"
     ]
    },
    {
     "name": "stderr",
     "output_type": "stream",
     "text": [
      "Epoch [242/3000]: 100%|███████████████████| 7/7 [00:00<00:00, 145.18it/s, loss=1.81e+15]\n"
     ]
    },
    {
     "name": "stdout",
     "output_type": "stream",
     "text": [
      "Epoch [242/3000]: Train loss: 1811039992526555.5000, Valid loss: 1807549200334848.0000\n"
     ]
    },
    {
     "name": "stderr",
     "output_type": "stream",
     "text": [
      "Epoch [243/3000]: 100%|████████████████████| 7/7 [00:00<00:00, 161.93it/s, loss=1.8e+15]\n"
     ]
    },
    {
     "name": "stdout",
     "output_type": "stream",
     "text": [
      "Epoch [243/3000]: Train loss: 1805962976877421.7500, Valid loss: 1802643072614400.0000\n"
     ]
    },
    {
     "name": "stderr",
     "output_type": "stream",
     "text": [
      "Epoch [244/3000]: 100%|████████████████████| 7/7 [00:00<00:00, 167.48it/s, loss=1.8e+15]\n"
     ]
    },
    {
     "name": "stdout",
     "output_type": "stream",
     "text": [
      "Epoch [244/3000]: Train loss: 1800894416945152.0000, Valid loss: 1797660507897856.0000\n"
     ]
    },
    {
     "name": "stderr",
     "output_type": "stream",
     "text": [
      "Epoch [245/3000]: 100%|███████████████████| 7/7 [00:00<00:00, 157.95it/s, loss=1.79e+15]\n"
     ]
    },
    {
     "name": "stdout",
     "output_type": "stream",
     "text": [
      "Epoch [245/3000]: Train loss: 1795854483736868.5000, Valid loss: 1792466483150848.0000\n"
     ]
    },
    {
     "name": "stderr",
     "output_type": "stream",
     "text": [
      "Epoch [246/3000]: 100%|███████████████████| 7/7 [00:00<00:00, 181.87it/s, loss=1.79e+15]\n"
     ]
    },
    {
     "name": "stdout",
     "output_type": "stream",
     "text": [
      "Epoch [246/3000]: Train loss: 1790838019457024.0000, Valid loss: 1787410568445952.0000\n"
     ]
    },
    {
     "name": "stderr",
     "output_type": "stream",
     "text": [
      "Epoch [247/3000]: 100%|███████████████████| 7/7 [00:00<00:00, 125.90it/s, loss=1.78e+15]\n"
     ]
    },
    {
     "name": "stdout",
     "output_type": "stream",
     "text": [
      "Epoch [247/3000]: Train loss: 1785809935756726.7500, Valid loss: 1782491086061568.0000\n"
     ]
    },
    {
     "name": "stderr",
     "output_type": "stream",
     "text": [
      "Epoch [248/3000]: 100%|███████████████████| 7/7 [00:00<00:00, 161.69it/s, loss=1.78e+15]\n"
     ]
    },
    {
     "name": "stdout",
     "output_type": "stream",
     "text": [
      "Epoch [248/3000]: Train loss: 1780823497900032.0000, Valid loss: 1777530063290368.0000\n"
     ]
    },
    {
     "name": "stderr",
     "output_type": "stream",
     "text": [
      "Epoch [249/3000]: 100%|███████████████████| 7/7 [00:00<00:00, 161.95it/s, loss=1.77e+15]\n"
     ]
    },
    {
     "name": "stdout",
     "output_type": "stream",
     "text": [
      "Epoch [249/3000]: Train loss: 1775807532143177.2500, Valid loss: 1772366103314432.0000\n"
     ]
    },
    {
     "name": "stderr",
     "output_type": "stream",
     "text": [
      "Epoch [250/3000]: 100%|███████████████████| 7/7 [00:00<00:00, 145.61it/s, loss=1.77e+15]\n"
     ]
    },
    {
     "name": "stdout",
     "output_type": "stream",
     "text": [
      "Epoch [250/3000]: Train loss: 1770843393603291.5000, Valid loss: 1767467626004480.0000\n"
     ]
    },
    {
     "name": "stderr",
     "output_type": "stream",
     "text": [
      "Epoch [251/3000]: 100%|████████████████████| 7/7 [00:00<00:00, 48.62it/s, loss=1.76e+15]\n"
     ]
    },
    {
     "name": "stdout",
     "output_type": "stream",
     "text": [
      "Epoch [251/3000]: Train loss: 1765879561846784.0000, Valid loss: 1762484524417024.0000\n"
     ]
    },
    {
     "name": "stderr",
     "output_type": "stream",
     "text": [
      "Epoch [252/3000]: 100%|███████████████████| 7/7 [00:00<00:00, 143.17it/s, loss=1.76e+15]\n"
     ]
    },
    {
     "name": "stdout",
     "output_type": "stream",
     "text": [
      "Epoch [252/3000]: Train loss: 1760944165074651.5000, Valid loss: 1757706708844544.0000\n"
     ]
    },
    {
     "name": "stderr",
     "output_type": "stream",
     "text": [
      "Epoch [253/3000]: 100%|███████████████████| 7/7 [00:00<00:00, 174.27it/s, loss=1.75e+15]\n"
     ]
    },
    {
     "name": "stdout",
     "output_type": "stream",
     "text": [
      "Epoch [253/3000]: Train loss: 1756006103121920.0000, Valid loss: 1752777428566016.0000\n"
     ]
    },
    {
     "name": "stderr",
     "output_type": "stream",
     "text": [
      "Epoch [254/3000]: 100%|███████████████████| 7/7 [00:00<00:00, 169.47it/s, loss=1.75e+15]\n"
     ]
    },
    {
     "name": "stdout",
     "output_type": "stream",
     "text": [
      "Epoch [254/3000]: Train loss: 1751081117810688.0000, Valid loss: 1747795534938112.0000\n"
     ]
    },
    {
     "name": "stderr",
     "output_type": "stream",
     "text": [
      "Epoch [255/3000]: 100%|███████████████████| 7/7 [00:00<00:00, 172.66it/s, loss=1.74e+15]\n"
     ]
    },
    {
     "name": "stdout",
     "output_type": "stream",
     "text": [
      "Epoch [255/3000]: Train loss: 1746170321230701.7500, Valid loss: 1742843638972416.0000\n"
     ]
    },
    {
     "name": "stderr",
     "output_type": "stream",
     "text": [
      "Epoch [256/3000]: 100%|███████████████████| 7/7 [00:00<00:00, 168.72it/s, loss=1.74e+15]\n"
     ]
    },
    {
     "name": "stdout",
     "output_type": "stream",
     "text": [
      "Epoch [256/3000]: Train loss: 1741294363738112.0000, Valid loss: 1738058776969216.0000\n"
     ]
    },
    {
     "name": "stderr",
     "output_type": "stream",
     "text": [
      "Epoch [257/3000]: 100%|███████████████████| 7/7 [00:00<00:00, 169.47it/s, loss=1.73e+15]\n"
     ]
    },
    {
     "name": "stdout",
     "output_type": "stream",
     "text": [
      "Epoch [257/3000]: Train loss: 1736404006600704.0000, Valid loss: 1733222576685056.0000\n"
     ]
    },
    {
     "name": "stderr",
     "output_type": "stream",
     "text": [
      "Epoch [258/3000]: 100%|███████████████████| 7/7 [00:00<00:00, 156.42it/s, loss=1.73e+15]\n"
     ]
    },
    {
     "name": "stdout",
     "output_type": "stream",
     "text": [
      "Epoch [258/3000]: Train loss: 1731551192079213.7500, Valid loss: 1728209477435392.0000\n"
     ]
    },
    {
     "name": "stderr",
     "output_type": "stream",
     "text": [
      "Epoch [259/3000]: 100%|███████████████████| 7/7 [00:00<00:00, 158.01it/s, loss=1.72e+15]\n"
     ]
    },
    {
     "name": "stdout",
     "output_type": "stream",
     "text": [
      "Epoch [259/3000]: Train loss: 1726698971950518.7500, Valid loss: 1723491657187328.0000\n"
     ]
    },
    {
     "name": "stderr",
     "output_type": "stream",
     "text": [
      "Epoch [260/3000]: 100%|███████████████████| 7/7 [00:00<00:00, 174.01it/s, loss=1.72e+15]\n"
     ]
    },
    {
     "name": "stdout",
     "output_type": "stream",
     "text": [
      "Epoch [260/3000]: Train loss: 1721851775399643.5000, Valid loss: 1718615996891136.0000\n"
     ]
    },
    {
     "name": "stderr",
     "output_type": "stream",
     "text": [
      "Epoch [261/3000]: 100%|███████████████████| 7/7 [00:00<00:00, 218.07it/s, loss=1.71e+15]\n"
     ]
    },
    {
     "name": "stdout",
     "output_type": "stream",
     "text": [
      "Epoch [261/3000]: Train loss: 1717030502044233.2500, Valid loss: 1713781876981760.0000\n"
     ]
    },
    {
     "name": "stderr",
     "output_type": "stream",
     "text": [
      "Epoch [262/3000]: 100%|███████████████████| 7/7 [00:00<00:00, 177.93it/s, loss=1.71e+15]\n"
     ]
    },
    {
     "name": "stdout",
     "output_type": "stream",
     "text": [
      "Epoch [262/3000]: Train loss: 1712221787633371.5000, Valid loss: 1709024932265984.0000\n"
     ]
    },
    {
     "name": "stderr",
     "output_type": "stream",
     "text": [
      "Epoch [263/3000]: 100%|███████████████████| 7/7 [00:00<00:00, 165.52it/s, loss=1.71e+15]\n"
     ]
    },
    {
     "name": "stdout",
     "output_type": "stream",
     "text": [
      "Epoch [263/3000]: Train loss: 1707430061352082.2500, Valid loss: 1704210072600576.0000\n"
     ]
    },
    {
     "name": "stderr",
     "output_type": "stream",
     "text": [
      "Epoch [264/3000]: 100%|████████████████████| 7/7 [00:00<00:00, 154.63it/s, loss=1.7e+15]\n"
     ]
    },
    {
     "name": "stdout",
     "output_type": "stream",
     "text": [
      "Epoch [264/3000]: Train loss: 1702644854217581.7500, Valid loss: 1699413131001856.0000\n"
     ]
    },
    {
     "name": "stderr",
     "output_type": "stream",
     "text": [
      "Epoch [265/3000]: 100%|████████████████████| 7/7 [00:00<00:00, 132.89it/s, loss=1.7e+15]\n"
     ]
    },
    {
     "name": "stdout",
     "output_type": "stream",
     "text": [
      "Epoch [265/3000]: Train loss: 1697872110157824.0000, Valid loss: 1694798792622080.0000\n"
     ]
    },
    {
     "name": "stderr",
     "output_type": "stream",
     "text": [
      "Epoch [266/3000]: 100%|███████████████████| 7/7 [00:00<00:00, 155.63it/s, loss=1.69e+15]\n"
     ]
    },
    {
     "name": "stdout",
     "output_type": "stream",
     "text": [
      "Epoch [266/3000]: Train loss: 1693120495803245.7500, Valid loss: 1689957223628800.0000\n"
     ]
    },
    {
     "name": "stderr",
     "output_type": "stream",
     "text": [
      "Epoch [267/3000]: 100%|███████████████████| 7/7 [00:00<00:00, 195.54it/s, loss=1.69e+15]\n"
     ]
    },
    {
     "name": "stdout",
     "output_type": "stream",
     "text": [
      "Epoch [267/3000]: Train loss: 1688380194085741.7500, Valid loss: 1685145115426816.0000\n"
     ]
    },
    {
     "name": "stderr",
     "output_type": "stream",
     "text": [
      "Epoch [268/3000]: 100%|███████████████████| 7/7 [00:00<00:00, 173.17it/s, loss=1.68e+15]\n"
     ]
    },
    {
     "name": "stdout",
     "output_type": "stream",
     "text": [
      "Epoch [268/3000]: Train loss: 1683645778774308.5000, Valid loss: 1680466755190784.0000\n"
     ]
    },
    {
     "name": "stderr",
     "output_type": "stream",
     "text": [
      "Epoch [269/3000]: 100%|███████████████████| 7/7 [00:00<00:00, 152.69it/s, loss=1.68e+15]\n"
     ]
    },
    {
     "name": "stdout",
     "output_type": "stream",
     "text": [
      "Epoch [269/3000]: Train loss: 1678927833895497.2500, Valid loss: 1675801548292096.0000\n"
     ]
    },
    {
     "name": "stderr",
     "output_type": "stream",
     "text": [
      "Epoch [270/3000]: 100%|███████████████████| 7/7 [00:00<00:00, 141.40it/s, loss=1.67e+15]\n"
     ]
    },
    {
     "name": "stdout",
     "output_type": "stream",
     "text": [
      "Epoch [270/3000]: Train loss: 1674225151489755.5000, Valid loss: 1671117819346944.0000\n"
     ]
    },
    {
     "name": "stderr",
     "output_type": "stream",
     "text": [
      "Epoch [271/3000]: 100%|███████████████████| 7/7 [00:00<00:00, 140.29it/s, loss=1.67e+15]\n"
     ]
    },
    {
     "name": "stdout",
     "output_type": "stream",
     "text": [
      "Epoch [271/3000]: Train loss: 1669530330408082.2500, Valid loss: 1666322756796416.0000\n"
     ]
    },
    {
     "name": "stderr",
     "output_type": "stream",
     "text": [
      "Epoch [272/3000]: 100%|███████████████████| 7/7 [00:00<00:00, 120.15it/s, loss=1.66e+15]\n"
     ]
    },
    {
     "name": "stdout",
     "output_type": "stream",
     "text": [
      "Epoch [272/3000]: Train loss: 1664855737855414.7500, Valid loss: 1661700700897280.0000\n"
     ]
    },
    {
     "name": "stderr",
     "output_type": "stream",
     "text": [
      "Epoch [273/3000]: 100%|███████████████████| 7/7 [00:00<00:00, 138.78it/s, loss=1.66e+15]\n"
     ]
    },
    {
     "name": "stdout",
     "output_type": "stream",
     "text": [
      "Epoch [273/3000]: Train loss: 1660184155614646.7500, Valid loss: 1657120655147008.0000\n"
     ]
    },
    {
     "name": "stderr",
     "output_type": "stream",
     "text": [
      "Epoch [274/3000]: 100%|███████████████████| 7/7 [00:00<00:00, 152.55it/s, loss=1.65e+15]\n"
     ]
    },
    {
     "name": "stdout",
     "output_type": "stream",
     "text": [
      "Epoch [274/3000]: Train loss: 1655553931608064.0000, Valid loss: 1652402834898944.0000\n"
     ]
    },
    {
     "name": "stderr",
     "output_type": "stream",
     "text": [
      "Epoch [275/3000]: 100%|███████████████████| 7/7 [00:00<00:00, 120.48it/s, loss=1.65e+15]\n"
     ]
    },
    {
     "name": "stdout",
     "output_type": "stream",
     "text": [
      "Epoch [275/3000]: Train loss: 1650906144253074.2500, Valid loss: 1647818494181376.0000\n"
     ]
    },
    {
     "name": "stderr",
     "output_type": "stream",
     "text": [
      "Epoch [276/3000]: 100%|███████████████████| 7/7 [00:00<00:00, 155.04it/s, loss=1.64e+15]\n"
     ]
    },
    {
     "name": "stdout",
     "output_type": "stream",
     "text": [
      "Epoch [276/3000]: Train loss: 1646280406953398.7500, Valid loss: 1643173688377344.0000\n"
     ]
    },
    {
     "name": "stderr",
     "output_type": "stream",
     "text": [
      "Epoch [277/3000]: 100%|███████████████████| 7/7 [00:00<00:00, 115.21it/s, loss=1.64e+15]\n"
     ]
    },
    {
     "name": "stdout",
     "output_type": "stream",
     "text": [
      "Epoch [277/3000]: Train loss: 1641665809725147.5000, Valid loss: 1638586797522944.0000\n"
     ]
    },
    {
     "name": "stderr",
     "output_type": "stream",
     "text": [
      "Epoch [278/3000]: 100%|███████████████████| 7/7 [00:00<00:00, 128.31it/s, loss=1.63e+15]\n"
     ]
    },
    {
     "name": "stdout",
     "output_type": "stream",
     "text": [
      "Epoch [278/3000]: Train loss: 1637062697699620.5000, Valid loss: 1634035877019648.0000\n"
     ]
    },
    {
     "name": "stderr",
     "output_type": "stream",
     "text": [
      "Epoch [279/3000]: 100%|███████████████████| 7/7 [00:00<00:00, 149.77it/s, loss=1.63e+15]\n"
     ]
    },
    {
     "name": "stdout",
     "output_type": "stream",
     "text": [
      "Epoch [279/3000]: Train loss: 1632475595931648.0000, Valid loss: 1629354832429056.0000\n"
     ]
    },
    {
     "name": "stderr",
     "output_type": "stream",
     "text": [
      "Epoch [280/3000]: 100%|███████████████████| 7/7 [00:00<00:00, 125.57it/s, loss=1.63e+15]\n"
     ]
    },
    {
     "name": "stdout",
     "output_type": "stream",
     "text": [
      "Epoch [280/3000]: Train loss: 1627904657812918.7500, Valid loss: 1624789617737728.0000\n"
     ]
    },
    {
     "name": "stderr",
     "output_type": "stream",
     "text": [
      "Epoch [281/3000]: 100%|███████████████████| 7/7 [00:00<00:00, 149.19it/s, loss=1.62e+15]\n"
     ]
    },
    {
     "name": "stdout",
     "output_type": "stream",
     "text": [
      "Epoch [281/3000]: Train loss: 1623352510176109.7500, Valid loss: 1620259702308864.0000\n"
     ]
    },
    {
     "name": "stderr",
     "output_type": "stream",
     "text": [
      "Epoch [282/3000]: 100%|███████████████████| 7/7 [00:00<00:00, 102.40it/s, loss=1.62e+15]\n"
     ]
    },
    {
     "name": "stdout",
     "output_type": "stream",
     "text": [
      "Epoch [282/3000]: Train loss: 1618810390520978.2500, Valid loss: 1615726163001344.0000\n"
     ]
    },
    {
     "name": "stderr",
     "output_type": "stream",
     "text": [
      "Epoch [283/3000]: 100%|███████████████████| 7/7 [00:00<00:00, 129.61it/s, loss=1.61e+15]\n"
     ]
    },
    {
     "name": "stdout",
     "output_type": "stream",
     "text": [
      "Epoch [283/3000]: Train loss: 1614257322534034.2500, Valid loss: 1611261947150336.0000\n"
     ]
    },
    {
     "name": "stderr",
     "output_type": "stream",
     "text": [
      "Epoch [284/3000]: 100%|███████████████████| 7/7 [00:00<00:00, 126.07it/s, loss=1.61e+15]\n"
     ]
    },
    {
     "name": "stdout",
     "output_type": "stream",
     "text": [
      "Epoch [284/3000]: Train loss: 1609749811878765.7500, Valid loss: 1606704919740416.0000\n"
     ]
    },
    {
     "name": "stderr",
     "output_type": "stream",
     "text": [
      "Epoch [285/3000]: 100%|████████████████████| 7/7 [00:00<00:00, 117.24it/s, loss=1.6e+15]\n"
     ]
    },
    {
     "name": "stdout",
     "output_type": "stream",
     "text": [
      "Epoch [285/3000]: Train loss: 1605223069740470.7500, Valid loss: 1602221242318848.0000\n"
     ]
    },
    {
     "name": "stderr",
     "output_type": "stream",
     "text": [
      "Epoch [286/3000]: 100%|████████████████████| 7/7 [00:00<00:00, 132.44it/s, loss=1.6e+15]\n"
     ]
    },
    {
     "name": "stdout",
     "output_type": "stream",
     "text": [
      "Epoch [286/3000]: Train loss: 1600733601782637.7500, Valid loss: 1597687971446784.0000\n"
     ]
    },
    {
     "name": "stderr",
     "output_type": "stream",
     "text": [
      "Epoch [287/3000]: 100%|███████████████████| 7/7 [00:00<00:00, 142.75it/s, loss=1.59e+15]\n"
     ]
    },
    {
     "name": "stdout",
     "output_type": "stream",
     "text": [
      "Epoch [287/3000]: Train loss: 1596247355050276.5000, Valid loss: 1593195167219712.0000\n"
     ]
    },
    {
     "name": "stderr",
     "output_type": "stream",
     "text": [
      "Epoch [288/3000]: 100%|███████████████████| 7/7 [00:00<00:00, 135.11it/s, loss=1.59e+15]\n"
     ]
    },
    {
     "name": "stdout",
     "output_type": "stream",
     "text": [
      "Epoch [288/3000]: Train loss: 1591773341305124.5000, Valid loss: 1588901743427584.0000\n"
     ]
    },
    {
     "name": "stderr",
     "output_type": "stream",
     "text": [
      "Epoch [289/3000]: 100%|███████████████████| 7/7 [00:00<00:00, 156.59it/s, loss=1.59e+15]\n"
     ]
    },
    {
     "name": "stdout",
     "output_type": "stream",
     "text": [
      "Epoch [289/3000]: Train loss: 1587329373157083.5000, Valid loss: 1584406187737088.0000\n"
     ]
    },
    {
     "name": "stderr",
     "output_type": "stream",
     "text": [
      "Epoch [290/3000]: 100%|███████████████████| 7/7 [00:00<00:00, 153.86it/s, loss=1.58e+15]\n"
     ]
    },
    {
     "name": "stdout",
     "output_type": "stream",
     "text": [
      "Epoch [290/3000]: Train loss: 1582863105692233.2500, Valid loss: 1579814599262208.0000\n"
     ]
    },
    {
     "name": "stderr",
     "output_type": "stream",
     "text": [
      "Epoch [291/3000]: 100%|███████████████████| 7/7 [00:00<00:00, 155.59it/s, loss=1.58e+15]\n"
     ]
    },
    {
     "name": "stdout",
     "output_type": "stream",
     "text": [
      "Epoch [291/3000]: Train loss: 1578446307047131.5000, Valid loss: 1575488292126720.0000\n"
     ]
    },
    {
     "name": "stderr",
     "output_type": "stream",
     "text": [
      "Epoch [292/3000]: 100%|███████████████████| 7/7 [00:00<00:00, 158.41it/s, loss=1.57e+15]\n"
     ]
    },
    {
     "name": "stdout",
     "output_type": "stream",
     "text": [
      "Epoch [292/3000]: Train loss: 1574015281322861.7500, Valid loss: 1571083333402624.0000\n"
     ]
    },
    {
     "name": "stderr",
     "output_type": "stream",
     "text": [
      "Epoch [293/3000]: 100%|███████████████████| 7/7 [00:00<00:00, 155.80it/s, loss=1.57e+15]\n"
     ]
    },
    {
     "name": "stdout",
     "output_type": "stream",
     "text": [
      "Epoch [293/3000]: Train loss: 1569601282076086.7500, Valid loss: 1566608178806784.0000\n"
     ]
    },
    {
     "name": "stderr",
     "output_type": "stream",
     "text": [
      "Epoch [294/3000]: 100%|███████████████████| 7/7 [00:00<00:00, 157.11it/s, loss=1.56e+15]\n"
     ]
    },
    {
     "name": "stdout",
     "output_type": "stream",
     "text": [
      "Epoch [294/3000]: Train loss: 1565218632255780.5000, Valid loss: 1562348913426432.0000\n"
     ]
    },
    {
     "name": "stderr",
     "output_type": "stream",
     "text": [
      "Epoch [295/3000]: 100%|███████████████████| 7/7 [00:00<00:00, 132.69it/s, loss=1.56e+15]\n"
     ]
    },
    {
     "name": "stdout",
     "output_type": "stream",
     "text": [
      "Epoch [295/3000]: Train loss: 1560826395454902.7500, Valid loss: 1557942880960512.0000\n"
     ]
    },
    {
     "name": "stderr",
     "output_type": "stream",
     "text": [
      "Epoch [296/3000]: 100%|███████████████████| 7/7 [00:00<00:00, 174.23it/s, loss=1.55e+15]\n"
     ]
    },
    {
     "name": "stdout",
     "output_type": "stream",
     "text": [
      "Epoch [296/3000]: Train loss: 1556462651160283.5000, Valid loss: 1553508125900800.0000\n"
     ]
    },
    {
     "name": "stderr",
     "output_type": "stream",
     "text": [
      "Epoch [297/3000]: 100%|███████████████████| 7/7 [00:00<00:00, 155.41it/s, loss=1.55e+15]\n"
     ]
    },
    {
     "name": "stdout",
     "output_type": "stream",
     "text": [
      "Epoch [297/3000]: Train loss: 1552093288895049.2500, Valid loss: 1549198327545856.0000\n"
     ]
    },
    {
     "name": "stderr",
     "output_type": "stream",
     "text": [
      "Epoch [298/3000]: 100%|███████████████████| 7/7 [00:00<00:00, 153.68it/s, loss=1.55e+15]\n"
     ]
    },
    {
     "name": "stdout",
     "output_type": "stream",
     "text": [
      "Epoch [298/3000]: Train loss: 1547741355760493.7500, Valid loss: 1544822561177600.0000\n"
     ]
    },
    {
     "name": "stderr",
     "output_type": "stream",
     "text": [
      "Epoch [299/3000]: 100%|███████████████████| 7/7 [00:00<00:00, 158.78it/s, loss=1.54e+15]\n"
     ]
    },
    {
     "name": "stdout",
     "output_type": "stream",
     "text": [
      "Epoch [299/3000]: Train loss: 1543414118687890.2500, Valid loss: 1540546652798976.0000\n"
     ]
    },
    {
     "name": "stderr",
     "output_type": "stream",
     "text": [
      "Epoch [300/3000]: 100%|███████████████████| 7/7 [00:00<00:00, 148.07it/s, loss=1.54e+15]\n"
     ]
    },
    {
     "name": "stdout",
     "output_type": "stream",
     "text": [
      "Epoch [300/3000]: Train loss: 1539081493732205.7500, Valid loss: 1536116930904064.0000\n"
     ]
    },
    {
     "name": "stderr",
     "output_type": "stream",
     "text": [
      "Epoch [301/3000]: 100%|███████████████████| 7/7 [00:00<00:00, 168.15it/s, loss=1.53e+15]\n"
     ]
    },
    {
     "name": "stdout",
     "output_type": "stream",
     "text": [
      "Epoch [301/3000]: Train loss: 1534779566288310.7500, Valid loss: 1531856658890752.0000\n"
     ]
    },
    {
     "name": "stderr",
     "output_type": "stream",
     "text": [
      "Epoch [302/3000]: 100%|███████████████████| 7/7 [00:00<00:00, 160.96it/s, loss=1.53e+15]\n"
     ]
    },
    {
     "name": "stdout",
     "output_type": "stream",
     "text": [
      "Epoch [302/3000]: Train loss: 1530479134413385.2500, Valid loss: 1527578603028480.0000\n"
     ]
    },
    {
     "name": "stderr",
     "output_type": "stream",
     "text": [
      "Epoch [303/3000]: 100%|███████████████████| 7/7 [00:00<00:00, 138.90it/s, loss=1.52e+15]\n"
     ]
    },
    {
     "name": "stdout",
     "output_type": "stream",
     "text": [
      "Epoch [303/3000]: Train loss: 1526183994551734.7500, Valid loss: 1523229344661504.0000\n"
     ]
    },
    {
     "name": "stderr",
     "output_type": "stream",
     "text": [
      "Epoch [304/3000]: 100%|███████████████████| 7/7 [00:00<00:00, 129.02it/s, loss=1.52e+15]\n"
     ]
    },
    {
     "name": "stdout",
     "output_type": "stream",
     "text": [
      "Epoch [304/3000]: Train loss: 1521924019734820.5000, Valid loss: 1518933437841408.0000\n"
     ]
    },
    {
     "name": "stderr",
     "output_type": "stream",
     "text": [
      "Epoch [305/3000]: 100%|███████████████████| 7/7 [00:00<00:00, 160.18it/s, loss=1.52e+15]\n"
     ]
    },
    {
     "name": "stdout",
     "output_type": "stream",
     "text": [
      "Epoch [305/3000]: Train loss: 1517655052330130.2500, Valid loss: 1514756917690368.0000\n"
     ]
    },
    {
     "name": "stderr",
     "output_type": "stream",
     "text": [
      "Epoch [306/3000]: 100%|███████████████████| 7/7 [00:00<00:00, 210.49it/s, loss=1.51e+15]\n"
     ]
    },
    {
     "name": "stdout",
     "output_type": "stream",
     "text": [
      "Epoch [306/3000]: Train loss: 1513397090779136.0000, Valid loss: 1510541138853888.0000\n"
     ]
    },
    {
     "name": "stderr",
     "output_type": "stream",
     "text": [
      "Epoch [307/3000]: 100%|███████████████████| 7/7 [00:00<00:00, 164.46it/s, loss=1.51e+15]\n"
     ]
    },
    {
     "name": "stdout",
     "output_type": "stream",
     "text": [
      "Epoch [307/3000]: Train loss: 1509160584890660.5000, Valid loss: 1506344687370240.0000\n"
     ]
    },
    {
     "name": "stderr",
     "output_type": "stream",
     "text": [
      "Epoch [308/3000]: 100%|████████████████████| 7/7 [00:00<00:00, 171.00it/s, loss=1.5e+15]\n"
     ]
    },
    {
     "name": "stdout",
     "output_type": "stream",
     "text": [
      "Epoch [308/3000]: Train loss: 1504923887262573.7500, Valid loss: 1502108641656832.0000\n"
     ]
    },
    {
     "name": "stderr",
     "output_type": "stream",
     "text": [
      "Epoch [309/3000]: 100%|████████████████████| 7/7 [00:00<00:00, 162.81it/s, loss=1.5e+15]\n"
     ]
    },
    {
     "name": "stdout",
     "output_type": "stream",
     "text": [
      "Epoch [309/3000]: Train loss: 1500713783918592.0000, Valid loss: 1497780791017472.0000\n"
     ]
    },
    {
     "name": "stderr",
     "output_type": "stream",
     "text": [
      "Epoch [310/3000]: 100%|███████████████████| 7/7 [00:00<00:00, 151.03it/s, loss=1.49e+15]\n"
     ]
    },
    {
     "name": "stdout",
     "output_type": "stream",
     "text": [
      "Epoch [310/3000]: Train loss: 1496508435716973.7500, Valid loss: 1493598499504128.0000\n"
     ]
    },
    {
     "name": "stderr",
     "output_type": "stream",
     "text": [
      "Epoch [311/3000]: 100%|███████████████████| 7/7 [00:00<00:00, 148.59it/s, loss=1.49e+15]\n"
     ]
    },
    {
     "name": "stdout",
     "output_type": "stream",
     "text": [
      "Epoch [311/3000]: Train loss: 1492318330814464.0000, Valid loss: 1489457882595328.0000\n"
     ]
    },
    {
     "name": "stderr",
     "output_type": "stream",
     "text": [
      "Epoch [312/3000]: 100%|███████████████████| 7/7 [00:00<00:00, 153.85it/s, loss=1.49e+15]\n"
     ]
    },
    {
     "name": "stdout",
     "output_type": "stream",
     "text": [
      "Epoch [312/3000]: Train loss: 1488143584254829.7500, Valid loss: 1485341961748480.0000\n"
     ]
    },
    {
     "name": "stderr",
     "output_type": "stream",
     "text": [
      "Epoch [313/3000]: 100%|███████████████████| 7/7 [00:00<00:00, 165.41it/s, loss=1.48e+15]\n"
     ]
    },
    {
     "name": "stdout",
     "output_type": "stream",
     "text": [
      "Epoch [313/3000]: Train loss: 1483972154790473.2500, Valid loss: 1481211411169280.0000\n"
     ]
    },
    {
     "name": "stderr",
     "output_type": "stream",
     "text": [
      "Epoch [314/3000]: 100%|███████████████████| 7/7 [00:00<00:00, 168.42it/s, loss=1.48e+15]\n"
     ]
    },
    {
     "name": "stdout",
     "output_type": "stream",
     "text": [
      "Epoch [314/3000]: Train loss: 1479808030605312.0000, Valid loss: 1477020798156800.0000\n"
     ]
    },
    {
     "name": "stderr",
     "output_type": "stream",
     "text": [
      "Epoch [315/3000]: 100%|███████████████████| 7/7 [00:00<00:00, 155.06it/s, loss=1.47e+15]\n"
     ]
    },
    {
     "name": "stdout",
     "output_type": "stream",
     "text": [
      "Epoch [315/3000]: Train loss: 1475661853247780.5000, Valid loss: 1472834144567296.0000\n"
     ]
    },
    {
     "name": "stderr",
     "output_type": "stream",
     "text": [
      "Epoch [316/3000]: 100%|███████████████████| 7/7 [00:00<00:00, 156.29it/s, loss=1.47e+15]\n"
     ]
    },
    {
     "name": "stdout",
     "output_type": "stream",
     "text": [
      "Epoch [316/3000]: Train loss: 1471532874933394.2500, Valid loss: 1468777145303040.0000\n"
     ]
    },
    {
     "name": "stderr",
     "output_type": "stream",
     "text": [
      "Epoch [317/3000]: 100%|███████████████████| 7/7 [00:00<00:00, 125.51it/s, loss=1.47e+15]\n"
     ]
    },
    {
     "name": "stdout",
     "output_type": "stream",
     "text": [
      "Epoch [317/3000]: Train loss: 1467416052910372.5000, Valid loss: 1464693302493184.0000\n"
     ]
    },
    {
     "name": "stderr",
     "output_type": "stream",
     "text": [
      "Epoch [318/3000]: 100%|███████████████████| 7/7 [00:00<00:00, 152.11it/s, loss=1.46e+15]\n"
     ]
    },
    {
     "name": "stdout",
     "output_type": "stream",
     "text": [
      "Epoch [318/3000]: Train loss: 1463310677742153.2500, Valid loss: 1460564698071040.0000\n"
     ]
    },
    {
     "name": "stderr",
     "output_type": "stream",
     "text": [
      "Epoch [319/3000]: 100%|███████████████████| 7/7 [00:00<00:00, 151.80it/s, loss=1.46e+15]\n"
     ]
    },
    {
     "name": "stdout",
     "output_type": "stream",
     "text": [
      "Epoch [319/3000]: Train loss: 1459207986928493.7500, Valid loss: 1456372944207872.0000\n"
     ]
    },
    {
     "name": "stderr",
     "output_type": "stream",
     "text": [
      "Epoch [320/3000]: 100%|███████████████████| 7/7 [00:00<00:00, 148.34it/s, loss=1.45e+15]\n"
     ]
    },
    {
     "name": "stdout",
     "output_type": "stream",
     "text": [
      "Epoch [320/3000]: Train loss: 1455109821169664.0000, Valid loss: 1452421104533504.0000\n"
     ]
    },
    {
     "name": "stderr",
     "output_type": "stream",
     "text": [
      "Epoch [321/3000]: 100%|███████████████████| 7/7 [00:00<00:00, 154.95it/s, loss=1.45e+15]\n"
     ]
    },
    {
     "name": "stdout",
     "output_type": "stream",
     "text": [
      "Epoch [321/3000]: Train loss: 1451030465066715.5000, Valid loss: 1448246530539520.0000\n"
     ]
    },
    {
     "name": "stderr",
     "output_type": "stream",
     "text": [
      "Epoch [322/3000]: 100%|███████████████████| 7/7 [00:00<00:00, 151.93it/s, loss=1.45e+15]\n"
     ]
    },
    {
     "name": "stdout",
     "output_type": "stream",
     "text": [
      "Epoch [322/3000]: Train loss: 1446973791759798.7500, Valid loss: 1444234494214144.0000\n"
     ]
    },
    {
     "name": "stderr",
     "output_type": "stream",
     "text": [
      "Epoch [323/3000]: 100%|███████████████████| 7/7 [00:00<00:00, 158.61it/s, loss=1.44e+15]\n"
     ]
    },
    {
     "name": "stdout",
     "output_type": "stream",
     "text": [
      "Epoch [323/3000]: Train loss: 1442919457676141.7500, Valid loss: 1440154342391808.0000\n"
     ]
    },
    {
     "name": "stderr",
     "output_type": "stream",
     "text": [
      "Epoch [324/3000]: 100%|███████████████████| 7/7 [00:00<00:00, 144.60it/s, loss=1.44e+15]\n"
     ]
    },
    {
     "name": "stdout",
     "output_type": "stream",
     "text": [
      "Epoch [324/3000]: Train loss: 1438871642739273.2500, Valid loss: 1436178075090944.0000\n"
     ]
    },
    {
     "name": "stderr",
     "output_type": "stream",
     "text": [
      "Epoch [325/3000]: 100%|███████████████████| 7/7 [00:00<00:00, 155.46it/s, loss=1.43e+15]\n"
     ]
    },
    {
     "name": "stdout",
     "output_type": "stream",
     "text": [
      "Epoch [325/3000]: Train loss: 1434843251025042.2500, Valid loss: 1432075576016896.0000\n"
     ]
    },
    {
     "name": "stderr",
     "output_type": "stream",
     "text": [
      "Epoch [326/3000]: 100%|███████████████████| 7/7 [00:00<00:00, 147.50it/s, loss=1.43e+15]\n"
     ]
    },
    {
     "name": "stdout",
     "output_type": "stream",
     "text": [
      "Epoch [326/3000]: Train loss: 1430823583463131.5000, Valid loss: 1428206615789568.0000\n"
     ]
    },
    {
     "name": "stderr",
     "output_type": "stream",
     "text": [
      "Epoch [327/3000]: 100%|███████████████████| 7/7 [00:00<00:00, 160.67it/s, loss=1.42e+15]\n"
     ]
    },
    {
     "name": "stdout",
     "output_type": "stream",
     "text": [
      "Epoch [327/3000]: Train loss: 1426815094320566.7500, Valid loss: 1424107740594176.0000\n"
     ]
    },
    {
     "name": "stderr",
     "output_type": "stream",
     "text": [
      "Epoch [328/3000]: 100%|███████████████████| 7/7 [00:00<00:00, 178.00it/s, loss=1.42e+15]\n"
     ]
    },
    {
     "name": "stdout",
     "output_type": "stream",
     "text": [
      "Epoch [328/3000]: Train loss: 1422827600665453.7500, Valid loss: 1420135164280832.0000\n"
     ]
    },
    {
     "name": "stderr",
     "output_type": "stream",
     "text": [
      "Epoch [329/3000]: 100%|███████████████████| 7/7 [00:00<00:00, 165.04it/s, loss=1.42e+15]\n"
     ]
    },
    {
     "name": "stdout",
     "output_type": "stream",
     "text": [
      "Epoch [329/3000]: Train loss: 1418841947710610.2500, Valid loss: 1416115209109504.0000\n"
     ]
    },
    {
     "name": "stderr",
     "output_type": "stream",
     "text": [
      "Epoch [330/3000]: 100%|███████████████████| 7/7 [00:00<00:00, 178.91it/s, loss=1.41e+15]\n"
     ]
    },
    {
     "name": "stdout",
     "output_type": "stream",
     "text": [
      "Epoch [330/3000]: Train loss: 1414863638382884.5000, Valid loss: 1412170214539264.0000\n"
     ]
    },
    {
     "name": "stderr",
     "output_type": "stream",
     "text": [
      "Epoch [331/3000]: 100%|███████████████████| 7/7 [00:00<00:00, 216.41it/s, loss=1.41e+15]\n"
     ]
    },
    {
     "name": "stdout",
     "output_type": "stream",
     "text": [
      "Epoch [331/3000]: Train loss: 1410892826073965.7500, Valid loss: 1408223408029696.0000\n"
     ]
    },
    {
     "name": "stderr",
     "output_type": "stream",
     "text": [
      "Epoch [332/3000]: 100%|███████████████████| 7/7 [00:00<00:00, 165.35it/s, loss=1.41e+15]\n"
     ]
    },
    {
     "name": "stdout",
     "output_type": "stream",
     "text": [
      "Epoch [332/3000]: Train loss: 1406949221615908.5000, Valid loss: 1404244053721088.0000\n"
     ]
    },
    {
     "name": "stderr",
     "output_type": "stream",
     "text": [
      "Epoch [333/3000]: 100%|████████████████████| 7/7 [00:00<00:00, 187.43it/s, loss=1.4e+15]\n"
     ]
    },
    {
     "name": "stdout",
     "output_type": "stream",
     "text": [
      "Epoch [333/3000]: Train loss: 1402999673229897.2500, Valid loss: 1400291744284672.0000\n"
     ]
    },
    {
     "name": "stderr",
     "output_type": "stream",
     "text": [
      "Epoch [334/3000]: 100%|████████████████████| 7/7 [00:00<00:00, 158.31it/s, loss=1.4e+15]\n"
     ]
    },
    {
     "name": "stdout",
     "output_type": "stream",
     "text": [
      "Epoch [334/3000]: Train loss: 1399073095249334.7500, Valid loss: 1396387015032832.0000\n"
     ]
    },
    {
     "name": "stderr",
     "output_type": "stream",
     "text": [
      "Epoch [335/3000]: 100%|███████████████████| 7/7 [00:00<00:00, 169.85it/s, loss=1.39e+15]\n"
     ]
    },
    {
     "name": "stdout",
     "output_type": "stream",
     "text": [
      "Epoch [335/3000]: Train loss: 1395153515764589.7500, Valid loss: 1392469937750016.0000\n"
     ]
    },
    {
     "name": "stderr",
     "output_type": "stream",
     "text": [
      "Epoch [336/3000]: 100%|███████████████████| 7/7 [00:00<00:00, 182.78it/s, loss=1.39e+15]\n"
     ]
    },
    {
     "name": "stdout",
     "output_type": "stream",
     "text": [
      "Epoch [336/3000]: Train loss: 1391246188441014.7500, Valid loss: 1388613593989120.0000\n"
     ]
    },
    {
     "name": "stderr",
     "output_type": "stream",
     "text": [
      "Epoch [337/3000]: 100%|███████████████████| 7/7 [00:00<00:00, 167.48it/s, loss=1.39e+15]\n"
     ]
    },
    {
     "name": "stdout",
     "output_type": "stream",
     "text": [
      "Epoch [337/3000]: Train loss: 1387340164946797.7500, Valid loss: 1384803018473472.0000\n"
     ]
    },
    {
     "name": "stderr",
     "output_type": "stream",
     "text": [
      "Epoch [338/3000]: 100%|███████████████████| 7/7 [00:00<00:00, 147.98it/s, loss=1.38e+15]\n"
     ]
    },
    {
     "name": "stdout",
     "output_type": "stream",
     "text": [
      "Epoch [338/3000]: Train loss: 1383458089730048.0000, Valid loss: 1380784808132608.0000\n"
     ]
    },
    {
     "name": "stderr",
     "output_type": "stream",
     "text": [
      "Epoch [339/3000]: 100%|███████████████████| 7/7 [00:00<00:00, 188.17it/s, loss=1.38e+15]\n"
     ]
    },
    {
     "name": "stdout",
     "output_type": "stream",
     "text": [
      "Epoch [339/3000]: Train loss: 1379581364048457.2500, Valid loss: 1376913499095040.0000\n"
     ]
    },
    {
     "name": "stderr",
     "output_type": "stream",
     "text": [
      "Epoch [340/3000]: 100%|███████████████████| 7/7 [00:00<00:00, 174.66it/s, loss=1.37e+15]\n"
     ]
    },
    {
     "name": "stdout",
     "output_type": "stream",
     "text": [
      "Epoch [340/3000]: Train loss: 1375708338941366.7500, Valid loss: 1373115070283776.0000\n"
     ]
    },
    {
     "name": "stderr",
     "output_type": "stream",
     "text": [
      "Epoch [341/3000]: 100%|███████████████████| 7/7 [00:00<00:00, 174.67it/s, loss=1.37e+15]\n"
     ]
    },
    {
     "name": "stdout",
     "output_type": "stream",
     "text": [
      "Epoch [341/3000]: Train loss: 1371846722341156.5000, Valid loss: 1369252082745344.0000\n"
     ]
    },
    {
     "name": "stderr",
     "output_type": "stream",
     "text": [
      "Epoch [342/3000]: 100%|███████████████████| 7/7 [00:00<00:00, 162.29it/s, loss=1.37e+15]\n"
     ]
    },
    {
     "name": "stdout",
     "output_type": "stream",
     "text": [
      "Epoch [342/3000]: Train loss: 1368025045102006.7500, Valid loss: 1365468350775296.0000\n"
     ]
    },
    {
     "name": "stderr",
     "output_type": "stream",
     "text": [
      "Epoch [343/3000]: 100%|███████████████████| 7/7 [00:00<00:00, 167.25it/s, loss=1.36e+15]\n"
     ]
    },
    {
     "name": "stdout",
     "output_type": "stream",
     "text": [
      "Epoch [343/3000]: Train loss: 1364201642206354.2500, Valid loss: 1361605832998912.0000\n"
     ]
    },
    {
     "name": "stderr",
     "output_type": "stream",
     "text": [
      "Epoch [344/3000]: 100%|███████████████████| 7/7 [00:00<00:00, 174.76it/s, loss=1.36e+15]\n"
     ]
    },
    {
     "name": "stdout",
     "output_type": "stream",
     "text": [
      "Epoch [344/3000]: Train loss: 1360368441416557.7500, Valid loss: 1357716404568064.0000\n"
     ]
    },
    {
     "name": "stderr",
     "output_type": "stream",
     "text": [
      "Epoch [345/3000]: 100%|███████████████████| 7/7 [00:00<00:00, 141.58it/s, loss=1.35e+15]\n"
     ]
    },
    {
     "name": "stdout",
     "output_type": "stream",
     "text": [
      "Epoch [345/3000]: Train loss: 1356554280370176.0000, Valid loss: 1353967099445248.0000\n"
     ]
    },
    {
     "name": "stderr",
     "output_type": "stream",
     "text": [
      "Epoch [346/3000]: 100%|███████████████████| 7/7 [00:00<00:00, 171.30it/s, loss=1.35e+15]\n"
     ]
    },
    {
     "name": "stdout",
     "output_type": "stream",
     "text": [
      "Epoch [346/3000]: Train loss: 1352762322770797.7500, Valid loss: 1350142028414976.0000\n"
     ]
    },
    {
     "name": "stderr",
     "output_type": "stream",
     "text": [
      "Epoch [347/3000]: 100%|███████████████████| 7/7 [00:00<00:00, 155.15it/s, loss=1.35e+15]\n"
     ]
    },
    {
     "name": "stdout",
     "output_type": "stream",
     "text": [
      "Epoch [347/3000]: Train loss: 1348958400619666.2500, Valid loss: 1346434666332160.0000\n"
     ]
    },
    {
     "name": "stderr",
     "output_type": "stream",
     "text": [
      "Epoch [348/3000]: 100%|███████████████████| 7/7 [00:00<00:00, 170.73it/s, loss=1.34e+15]\n"
     ]
    },
    {
     "name": "stdout",
     "output_type": "stream",
     "text": [
      "Epoch [348/3000]: Train loss: 1345189681861193.2500, Valid loss: 1342603219959808.0000\n"
     ]
    },
    {
     "name": "stderr",
     "output_type": "stream",
     "text": [
      "Epoch [349/3000]: 100%|███████████████████| 7/7 [00:00<00:00, 165.91it/s, loss=1.34e+15]\n"
     ]
    },
    {
     "name": "stdout",
     "output_type": "stream",
     "text": [
      "Epoch [349/3000]: Train loss: 1341408519201938.2500, Valid loss: 1338836869185536.0000\n"
     ]
    },
    {
     "name": "stderr",
     "output_type": "stream",
     "text": [
      "Epoch [350/3000]: 100%|███████████████████| 7/7 [00:00<00:00, 158.99it/s, loss=1.34e+15]\n"
     ]
    },
    {
     "name": "stdout",
     "output_type": "stream",
     "text": [
      "Epoch [350/3000]: Train loss: 1337667583513161.2500, Valid loss: 1335094073622528.0000\n"
     ]
    },
    {
     "name": "stderr",
     "output_type": "stream",
     "text": [
      "Epoch [351/3000]: 100%|███████████████████| 7/7 [00:00<00:00, 171.61it/s, loss=1.33e+15]\n"
     ]
    },
    {
     "name": "stdout",
     "output_type": "stream",
     "text": [
      "Epoch [351/3000]: Train loss: 1333912171483721.2500, Valid loss: 1331397851611136.0000\n"
     ]
    },
    {
     "name": "stderr",
     "output_type": "stream",
     "text": [
      "Epoch [352/3000]: 100%|███████████████████| 7/7 [00:00<00:00, 193.06it/s, loss=1.33e+15]\n"
     ]
    },
    {
     "name": "stdout",
     "output_type": "stream",
     "text": [
      "Epoch [352/3000]: Train loss: 1330180094164992.0000, Valid loss: 1327558150848512.0000\n"
     ]
    },
    {
     "name": "stderr",
     "output_type": "stream",
     "text": [
      "Epoch [353/3000]: 100%|███████████████████| 7/7 [00:00<00:00, 173.00it/s, loss=1.33e+15]\n"
     ]
    },
    {
     "name": "stdout",
     "output_type": "stream",
     "text": [
      "Epoch [353/3000]: Train loss: 1326455437169225.2500, Valid loss: 1323937359200256.0000\n"
     ]
    },
    {
     "name": "stderr",
     "output_type": "stream",
     "text": [
      "Epoch [354/3000]: 100%|███████████████████| 7/7 [00:00<00:00, 182.48it/s, loss=1.32e+15]\n"
     ]
    },
    {
     "name": "stdout",
     "output_type": "stream",
     "text": [
      "Epoch [354/3000]: Train loss: 1322735381924132.5000, Valid loss: 1320238452834304.0000\n"
     ]
    },
    {
     "name": "stderr",
     "output_type": "stream",
     "text": [
      "Epoch [355/3000]: 100%|███████████████████| 7/7 [00:00<00:00, 178.53it/s, loss=1.32e+15]\n"
     ]
    },
    {
     "name": "stdout",
     "output_type": "stream",
     "text": [
      "Epoch [355/3000]: Train loss: 1319037913605266.2500, Valid loss: 1316477806313472.0000\n"
     ]
    },
    {
     "name": "stderr",
     "output_type": "stream",
     "text": [
      "Epoch [356/3000]: 100%|███████████████████| 7/7 [00:00<00:00, 162.65it/s, loss=1.31e+15]\n"
     ]
    },
    {
     "name": "stdout",
     "output_type": "stream",
     "text": [
      "Epoch [356/3000]: Train loss: 1315331606090313.2500, Valid loss: 1312895937806336.0000\n"
     ]
    },
    {
     "name": "stderr",
     "output_type": "stream",
     "text": [
      "Epoch [357/3000]: 100%|███████████████████| 7/7 [00:00<00:00, 168.48it/s, loss=1.31e+15]\n"
     ]
    },
    {
     "name": "stdout",
     "output_type": "stream",
     "text": [
      "Epoch [357/3000]: Train loss: 1311663301366345.2500, Valid loss: 1309095965491200.0000\n"
     ]
    },
    {
     "name": "stderr",
     "output_type": "stream",
     "text": [
      "Epoch [358/3000]: 100%|███████████████████| 7/7 [00:00<00:00, 146.82it/s, loss=1.31e+15]\n"
     ]
    },
    {
     "name": "stdout",
     "output_type": "stream",
     "text": [
      "Epoch [358/3000]: Train loss: 1307973732719469.7500, Valid loss: 1305545369714688.0000\n"
     ]
    },
    {
     "name": "stderr",
     "output_type": "stream",
     "text": [
      "Epoch [359/3000]: 100%|████████████████████| 7/7 [00:00<00:00, 146.44it/s, loss=1.3e+15]\n"
     ]
    },
    {
     "name": "stdout",
     "output_type": "stream",
     "text": [
      "Epoch [359/3000]: Train loss: 1304309454527341.7500, Valid loss: 1301732982259712.0000\n"
     ]
    },
    {
     "name": "stderr",
     "output_type": "stream",
     "text": [
      "Epoch [360/3000]: 100%|████████████████████| 7/7 [00:00<00:00, 160.09it/s, loss=1.3e+15]\n"
     ]
    },
    {
     "name": "stdout",
     "output_type": "stream",
     "text": [
      "Epoch [360/3000]: Train loss: 1300648781039908.5000, Valid loss: 1298173997875200.0000\n"
     ]
    },
    {
     "name": "stderr",
     "output_type": "stream",
     "text": [
      "Epoch [361/3000]: 100%|████████████████████| 7/7 [00:00<00:00, 172.57it/s, loss=1.3e+15]\n"
     ]
    },
    {
     "name": "stdout",
     "output_type": "stream",
     "text": [
      "Epoch [361/3000]: Train loss: 1297012132525787.5000, Valid loss: 1294452408713216.0000\n"
     ]
    },
    {
     "name": "stderr",
     "output_type": "stream",
     "text": [
      "Epoch [362/3000]: 100%|███████████████████| 7/7 [00:00<00:00, 152.96it/s, loss=1.29e+15]\n"
     ]
    },
    {
     "name": "stdout",
     "output_type": "stream",
     "text": [
      "Epoch [362/3000]: Train loss: 1293381907288649.2500, Valid loss: 1290868996702208.0000\n"
     ]
    },
    {
     "name": "stderr",
     "output_type": "stream",
     "text": [
      "Epoch [363/3000]: 100%|███████████████████| 7/7 [00:00<00:00, 157.21it/s, loss=1.29e+15]\n"
     ]
    },
    {
     "name": "stdout",
     "output_type": "stream",
     "text": [
      "Epoch [363/3000]: Train loss: 1289753848709120.0000, Valid loss: 1287275317035008.0000\n"
     ]
    },
    {
     "name": "stderr",
     "output_type": "stream",
     "text": [
      "Epoch [364/3000]: 100%|███████████████████| 7/7 [00:00<00:00, 151.76it/s, loss=1.28e+15]\n"
     ]
    },
    {
     "name": "stdout",
     "output_type": "stream",
     "text": [
      "Epoch [364/3000]: Train loss: 1286147341661915.5000, Valid loss: 1283706199212032.0000\n"
     ]
    },
    {
     "name": "stderr",
     "output_type": "stream",
     "text": [
      "Epoch [365/3000]: 100%|███████████████████| 7/7 [00:00<00:00, 162.50it/s, loss=1.28e+15]\n"
     ]
    },
    {
     "name": "stdout",
     "output_type": "stream",
     "text": [
      "Epoch [365/3000]: Train loss: 1282543308055698.2500, Valid loss: 1280131041591296.0000\n"
     ]
    },
    {
     "name": "stderr",
     "output_type": "stream",
     "text": [
      "Epoch [366/3000]: 100%|███████████████████| 7/7 [00:00<00:00, 171.46it/s, loss=1.28e+15]\n"
     ]
    },
    {
     "name": "stdout",
     "output_type": "stream",
     "text": [
      "Epoch [366/3000]: Train loss: 1278943684460544.0000, Valid loss: 1276495217557504.0000\n"
     ]
    },
    {
     "name": "stderr",
     "output_type": "stream",
     "text": [
      "Epoch [367/3000]: 100%|███████████████████| 7/7 [00:00<00:00, 170.69it/s, loss=1.27e+15]\n"
     ]
    },
    {
     "name": "stdout",
     "output_type": "stream",
     "text": [
      "Epoch [367/3000]: Train loss: 1275369197928448.0000, Valid loss: 1272926099734528.0000\n"
     ]
    },
    {
     "name": "stderr",
     "output_type": "stream",
     "text": [
      "Epoch [368/3000]: 100%|███████████████████| 7/7 [00:00<00:00, 153.49it/s, loss=1.27e+15]\n"
     ]
    },
    {
     "name": "stdout",
     "output_type": "stream",
     "text": [
      "Epoch [368/3000]: Train loss: 1271803416374710.7500, Valid loss: 1269340070477824.0000\n"
     ]
    },
    {
     "name": "stderr",
     "output_type": "stream",
     "text": [
      "Epoch [369/3000]: 100%|███████████████████| 7/7 [00:00<00:00, 170.55it/s, loss=1.27e+15]\n"
     ]
    },
    {
     "name": "stdout",
     "output_type": "stream",
     "text": [
      "Epoch [369/3000]: Train loss: 1268232457851465.2500, Valid loss: 1265783904665600.0000\n"
     ]
    },
    {
     "name": "stderr",
     "output_type": "stream",
     "text": [
      "Epoch [370/3000]: 100%|███████████████████| 7/7 [00:00<00:00, 167.12it/s, loss=1.26e+15]\n"
     ]
    },
    {
     "name": "stdout",
     "output_type": "stream",
     "text": [
      "Epoch [370/3000]: Train loss: 1264676838497133.7500, Valid loss: 1262191701393408.0000\n"
     ]
    },
    {
     "name": "stderr",
     "output_type": "stream",
     "text": [
      "Epoch [371/3000]: 100%|███████████████████| 7/7 [00:00<00:00, 162.25it/s, loss=1.26e+15]\n"
     ]
    },
    {
     "name": "stdout",
     "output_type": "stream",
     "text": [
      "Epoch [371/3000]: Train loss: 1261131649777664.0000, Valid loss: 1258686940971008.0000\n"
     ]
    },
    {
     "name": "stderr",
     "output_type": "stream",
     "text": [
      "Epoch [372/3000]: 100%|███████████████████| 7/7 [00:00<00:00, 175.10it/s, loss=1.26e+15]\n"
     ]
    },
    {
     "name": "stdout",
     "output_type": "stream",
     "text": [
      "Epoch [372/3000]: Train loss: 1257600419701906.2500, Valid loss: 1255203923820544.0000\n"
     ]
    },
    {
     "name": "stderr",
     "output_type": "stream",
     "text": [
      "Epoch [373/3000]: 100%|███████████████████| 7/7 [00:00<00:00, 172.05it/s, loss=1.25e+15]\n"
     ]
    },
    {
     "name": "stdout",
     "output_type": "stream",
     "text": [
      "Epoch [373/3000]: Train loss: 1254076111426121.2500, Valid loss: 1251652925390848.0000\n"
     ]
    },
    {
     "name": "stderr",
     "output_type": "stream",
     "text": [
      "Epoch [374/3000]: 100%|███████████████████| 7/7 [00:00<00:00, 174.57it/s, loss=1.25e+15]\n"
     ]
    },
    {
     "name": "stdout",
     "output_type": "stream",
     "text": [
      "Epoch [374/3000]: Train loss: 1250561792784091.5000, Valid loss: 1248094612094976.0000\n"
     ]
    },
    {
     "name": "stderr",
     "output_type": "stream",
     "text": [
      "Epoch [375/3000]: 100%|███████████████████| 7/7 [00:00<00:00, 166.16it/s, loss=1.25e+15]\n"
     ]
    },
    {
     "name": "stdout",
     "output_type": "stream",
     "text": [
      "Epoch [375/3000]: Train loss: 1247056735165293.7500, Valid loss: 1244618238722048.0000\n"
     ]
    },
    {
     "name": "stderr",
     "output_type": "stream",
     "text": [
      "Epoch [376/3000]: 100%|███████████████████| 7/7 [00:00<00:00, 161.66it/s, loss=1.24e+15]\n"
     ]
    },
    {
     "name": "stdout",
     "output_type": "stream",
     "text": [
      "Epoch [376/3000]: Train loss: 1243565827929819.5000, Valid loss: 1241176560631808.0000\n"
     ]
    },
    {
     "name": "stderr",
     "output_type": "stream",
     "text": [
      "Epoch [377/3000]: 100%|███████████████████| 7/7 [00:00<00:00, 159.11it/s, loss=1.24e+15]\n"
     ]
    },
    {
     "name": "stdout",
     "output_type": "stream",
     "text": [
      "Epoch [377/3000]: Train loss: 1240075687652790.7500, Valid loss: 1237686228615168.0000\n"
     ]
    },
    {
     "name": "stderr",
     "output_type": "stream",
     "text": [
      "Epoch [378/3000]: 100%|███████████████████| 7/7 [00:00<00:00, 177.94it/s, loss=1.24e+15]\n"
     ]
    },
    {
     "name": "stdout",
     "output_type": "stream",
     "text": [
      "Epoch [378/3000]: Train loss: 1236625294997211.5000, Valid loss: 1234224417865728.0000\n"
     ]
    },
    {
     "name": "stderr",
     "output_type": "stream",
     "text": [
      "Epoch [379/3000]: 100%|███████████████████| 7/7 [00:00<00:00, 166.32it/s, loss=1.23e+15]\n"
     ]
    },
    {
     "name": "stdout",
     "output_type": "stream",
     "text": [
      "Epoch [379/3000]: Train loss: 1233148269709604.5000, Valid loss: 1230814415159296.0000\n"
     ]
    },
    {
     "name": "stderr",
     "output_type": "stream",
     "text": [
      "Epoch [380/3000]: 100%|███████████████████| 7/7 [00:00<00:00, 165.31it/s, loss=1.23e+15]\n"
     ]
    },
    {
     "name": "stdout",
     "output_type": "stream",
     "text": [
      "Epoch [380/3000]: Train loss: 1229698356403053.7500, Valid loss: 1227350389817344.0000\n"
     ]
    },
    {
     "name": "stderr",
     "output_type": "stream",
     "text": [
      "Epoch [381/3000]: 100%|████████████████████| 7/7 [00:00<00:00, 92.38it/s, loss=1.22e+15]\n"
     ]
    },
    {
     "name": "stdout",
     "output_type": "stream",
     "text": [
      "Epoch [381/3000]: Train loss: 1226237571460534.7500, Valid loss: 1223878848282624.0000\n"
     ]
    },
    {
     "name": "stderr",
     "output_type": "stream",
     "text": [
      "Epoch [382/3000]: 100%|███████████████████| 7/7 [00:00<00:00, 110.78it/s, loss=1.22e+15]\n"
     ]
    },
    {
     "name": "stdout",
     "output_type": "stream",
     "text": [
      "Epoch [382/3000]: Train loss: 1222810245080210.2500, Valid loss: 1220502936879104.0000\n"
     ]
    },
    {
     "name": "stderr",
     "output_type": "stream",
     "text": [
      "Epoch [383/3000]: 100%|███████████████████| 7/7 [00:00<00:00, 154.24it/s, loss=1.22e+15]\n"
     ]
    },
    {
     "name": "stdout",
     "output_type": "stream",
     "text": [
      "Epoch [383/3000]: Train loss: 1219381384782994.2500, Valid loss: 1217040522149888.0000\n"
     ]
    },
    {
     "name": "stderr",
     "output_type": "stream",
     "text": [
      "Epoch [384/3000]: 100%|███████████████████| 7/7 [00:00<00:00, 157.74it/s, loss=1.21e+15]\n"
     ]
    },
    {
     "name": "stdout",
     "output_type": "stream",
     "text": [
      "Epoch [384/3000]: Train loss: 1215977028808118.7500, Valid loss: 1213579718033408.0000\n"
     ]
    },
    {
     "name": "stderr",
     "output_type": "stream",
     "text": [
      "Epoch [385/3000]: 100%|███████████████████| 7/7 [00:00<00:00, 169.18it/s, loss=1.21e+15]\n"
     ]
    },
    {
     "name": "stdout",
     "output_type": "stream",
     "text": [
      "Epoch [385/3000]: Train loss: 1212572883746816.0000, Valid loss: 1210223066873856.0000\n"
     ]
    },
    {
     "name": "stderr",
     "output_type": "stream",
     "text": [
      "Epoch [386/3000]: 100%|███████████████████| 7/7 [00:00<00:00, 168.39it/s, loss=1.21e+15]\n"
     ]
    },
    {
     "name": "stdout",
     "output_type": "stream",
     "text": [
      "Epoch [386/3000]: Train loss: 1209168259336484.5000, Valid loss: 1206829774274560.0000\n"
     ]
    },
    {
     "name": "stderr",
     "output_type": "stream",
     "text": [
      "Epoch [387/3000]: 100%|████████████████████| 7/7 [00:00<00:00, 169.81it/s, loss=1.2e+15]\n"
     ]
    },
    {
     "name": "stdout",
     "output_type": "stream",
     "text": [
      "Epoch [387/3000]: Train loss: 1205777612743826.2500, Valid loss: 1203399437582336.0000\n"
     ]
    },
    {
     "name": "stderr",
     "output_type": "stream",
     "text": [
      "Epoch [388/3000]: 100%|████████████████████| 7/7 [00:00<00:00, 161.30it/s, loss=1.2e+15]\n"
     ]
    },
    {
     "name": "stdout",
     "output_type": "stream",
     "text": [
      "Epoch [388/3000]: Train loss: 1202398221266358.7500, Valid loss: 1200124189474816.0000\n"
     ]
    },
    {
     "name": "stderr",
     "output_type": "stream",
     "text": [
      "Epoch [389/3000]: 100%|████████████████████| 7/7 [00:00<00:00, 162.45it/s, loss=1.2e+15]\n"
     ]
    },
    {
     "name": "stdout",
     "output_type": "stream",
     "text": [
      "Epoch [389/3000]: Train loss: 1199039460971081.2500, Valid loss: 1196764786851840.0000\n"
     ]
    },
    {
     "name": "stderr",
     "output_type": "stream",
     "text": [
      "Epoch [390/3000]: 100%|███████████████████| 7/7 [00:00<00:00, 156.84it/s, loss=1.19e+15]\n"
     ]
    },
    {
     "name": "stdout",
     "output_type": "stream",
     "text": [
      "Epoch [390/3000]: Train loss: 1195684535468032.0000, Valid loss: 1193455648768000.0000\n"
     ]
    },
    {
     "name": "stderr",
     "output_type": "stream",
     "text": [
      "Epoch [391/3000]: 100%|███████████████████| 7/7 [00:00<00:00, 164.30it/s, loss=1.19e+15]\n"
     ]
    },
    {
     "name": "stdout",
     "output_type": "stream",
     "text": [
      "Epoch [391/3000]: Train loss: 1192320310593828.5000, Valid loss: 1190013769351168.0000\n"
     ]
    },
    {
     "name": "stderr",
     "output_type": "stream",
     "text": [
      "Epoch [392/3000]: 100%|███████████████████| 7/7 [00:00<00:00, 174.09it/s, loss=1.19e+15]\n"
     ]
    },
    {
     "name": "stdout",
     "output_type": "stream",
     "text": [
      "Epoch [392/3000]: Train loss: 1188993935118921.2500, Valid loss: 1186711342153728.0000\n"
     ]
    },
    {
     "name": "stderr",
     "output_type": "stream",
     "text": [
      "Epoch [393/3000]: 100%|███████████████████| 7/7 [00:00<00:00, 157.69it/s, loss=1.18e+15]\n"
     ]
    },
    {
     "name": "stdout",
     "output_type": "stream",
     "text": [
      "Epoch [393/3000]: Train loss: 1185657301574802.2500, Valid loss: 1183318116663296.0000\n"
     ]
    },
    {
     "name": "stderr",
     "output_type": "stream",
     "text": [
      "Epoch [394/3000]: 100%|███████████████████| 7/7 [00:00<00:00, 162.25it/s, loss=1.18e+15]\n"
     ]
    },
    {
     "name": "stdout",
     "output_type": "stream",
     "text": [
      "Epoch [394/3000]: Train loss: 1182337100115382.7500, Valid loss: 1179999717556224.0000\n"
     ]
    },
    {
     "name": "stderr",
     "output_type": "stream",
     "text": [
      "Epoch [395/3000]: 100%|███████████████████| 7/7 [00:00<00:00, 153.65it/s, loss=1.18e+15]\n"
     ]
    },
    {
     "name": "stdout",
     "output_type": "stream",
     "text": [
      "Epoch [395/3000]: Train loss: 1179024088891392.0000, Valid loss: 1176757487009792.0000\n"
     ]
    },
    {
     "name": "stderr",
     "output_type": "stream",
     "text": [
      "Epoch [396/3000]: 100%|███████████████████| 7/7 [00:00<00:00, 159.48it/s, loss=1.17e+15]\n"
     ]
    },
    {
     "name": "stdout",
     "output_type": "stream",
     "text": [
      "Epoch [396/3000]: Train loss: 1175719820993682.2500, Valid loss: 1173413116772352.0000\n"
     ]
    },
    {
     "name": "stderr",
     "output_type": "stream",
     "text": [
      "Epoch [397/3000]: 100%|███████████████████| 7/7 [00:00<00:00, 172.96it/s, loss=1.17e+15]\n"
     ]
    },
    {
     "name": "stdout",
     "output_type": "stream",
     "text": [
      "Epoch [397/3000]: Train loss: 1172429185782345.2500, Valid loss: 1170254369652736.0000\n"
     ]
    },
    {
     "name": "stderr",
     "output_type": "stream",
     "text": [
      "Epoch [398/3000]: 100%|███████████████████| 7/7 [00:00<00:00, 145.50it/s, loss=1.17e+15]\n"
     ]
    },
    {
     "name": "stdout",
     "output_type": "stream",
     "text": [
      "Epoch [398/3000]: Train loss: 1169144015149933.7500, Valid loss: 1166893289308160.0000\n"
     ]
    },
    {
     "name": "stderr",
     "output_type": "stream",
     "text": [
      "Epoch [399/3000]: 100%|███████████████████| 7/7 [00:00<00:00, 169.38it/s, loss=1.16e+15]\n"
     ]
    },
    {
     "name": "stdout",
     "output_type": "stream",
     "text": [
      "Epoch [399/3000]: Train loss: 1165862986093129.2500, Valid loss: 1163571601866752.0000\n"
     ]
    },
    {
     "name": "stderr",
     "output_type": "stream",
     "text": [
      "Epoch [400/3000]: 100%|███████████████████| 7/7 [00:00<00:00, 177.43it/s, loss=1.16e+15]\n"
     ]
    },
    {
     "name": "stdout",
     "output_type": "stream",
     "text": [
      "Epoch [400/3000]: Train loss: 1162601207693312.0000, Valid loss: 1160358093914112.0000\n"
     ]
    },
    {
     "name": "stderr",
     "output_type": "stream",
     "text": [
      "Epoch [401/3000]: 100%|███████████████████| 7/7 [00:00<00:00, 171.05it/s, loss=1.16e+15]\n"
     ]
    },
    {
     "name": "stdout",
     "output_type": "stream",
     "text": [
      "Epoch [401/3000]: Train loss: 1159344970568265.2500, Valid loss: 1157083718221824.0000\n",
      "\n",
      "Model is not improving, so we halt the training session.\n"
     ]
    }
   ],
   "source": [
    "model = My_Model(input_dim=x_train.shape[1]).to(device) # put your model and data on the same computation device.\n",
    "trainer(train_loader, valid_loader, model, config, device)"
   ]
  },
  {
   "cell_type": "code",
   "execution_count": 31,
   "id": "13e9fa7e-1ae9-4245-9257-4c554beeea64",
   "metadata": {},
   "outputs": [
    {
     "data": {
      "text/plain": [
       "Reusing TensorBoard on port 6006 (pid 19776), started 0:23:53 ago. (Use '!kill 19776' to kill it.)"
      ]
     },
     "metadata": {},
     "output_type": "display_data"
    },
    {
     "data": {
      "text/html": [
       "\n",
       "      <iframe id=\"tensorboard-frame-f66b927a6e95a667\" width=\"100%\" height=\"800\" frameborder=\"0\">\n",
       "      </iframe>\n",
       "      <script>\n",
       "        (function() {\n",
       "          const frame = document.getElementById(\"tensorboard-frame-f66b927a6e95a667\");\n",
       "          const url = new URL(\"/\", window.location);\n",
       "          const port = 6006;\n",
       "          if (port) {\n",
       "            url.port = port;\n",
       "          }\n",
       "          frame.src = url;\n",
       "        })();\n",
       "      </script>\n",
       "    "
      ],
      "text/plain": [
       "<IPython.core.display.HTML object>"
      ]
     },
     "metadata": {},
     "output_type": "display_data"
    }
   ],
   "source": [
    "%reload_ext tensorboard\n",
    "%tensorboard --logdir=./runs/"
   ]
  },
  {
   "cell_type": "code",
   "execution_count": 34,
   "id": "a88fb2e6-784b-4449-bfb7-29e6013281df",
   "metadata": {},
   "outputs": [
    {
     "name": "stderr",
     "output_type": "stream",
     "text": [
      "100%|████████████████████████████████████████████████████| 8/8 [00:00<00:00, 504.15it/s]"
     ]
    },
    {
     "name": "stdout",
     "output_type": "stream",
     "text": [
      "(2000, 1) (2000,)\n"
     ]
    },
    {
     "name": "stderr",
     "output_type": "stream",
     "text": [
      "\n"
     ]
    }
   ],
   "source": [
    "def save_pred(preds, file):\n",
    "    ''' Save predictions to specified file '''\n",
    "    with open(file, 'w') as fp:\n",
    "        writer = csv.writer(fp)\n",
    "        writer.writerow(['id', 'tested_positive'])\n",
    "        for i, p in enumerate(preds):\n",
    "            writer.writerow([i, p])\n",
    "\n",
    "model = My_Model(input_dim=x_train.shape[1]).to(device)\n",
    "model.load_state_dict(torch.load(config['save_path']))\n",
    "preds = predict(test_loader, model, device)\n",
    "print(X_test.shape, preds.shape)"
   ]
  },
  {
   "cell_type": "code",
   "execution_count": 37,
   "id": "27b6dccf-33f7-433c-8900-9722107253a8",
   "metadata": {},
   "outputs": [
    {
     "data": {
      "image/png": "[encoded data removed]",
      "text/plain": [
       "<Figure size 640x480 with 1 Axes>"
      ]
     },
     "metadata": {},
     "output_type": "display_data"
    }
   ],
   "source": [
    "# 可视化结果\n",
    "plt.scatter(X_test, preds)\n",
    "# plt.plot(X_test, nn.sequential(X_test.T).flatten(), color='red')\n",
    "plt.xlabel('X')\n",
    "plt.ylabel('y')\n",
    "plt.title('Neural Network Regression')\n",
    "plt.show()"
   ]
  },
  {
   "cell_type": "code",
   "execution_count": null,
   "id": "18c03b4b-41c5-49a2-a57f-c6c7c3d946ef",
   "metadata": {},
   "outputs": [],
   "source": []
  }
 ],
 "metadata": {
  "kernelspec": {
   "display_name": "Python 3 (ipykernel)",
   "language": "python",
   "name": "python3"
  },
  "language_info": {
   "codemirror_mode": {
    "name": "ipython",
    "version": 3
   },
   "file_extension": ".py",
   "mimetype": "text/x-python",
   "name": "python",
   "nbconvert_exporter": "python",
   "pygments_lexer": "ipython3",
   "version": "3.9.18"
  },
  "widgets": {
   "application/vnd.jupyter.widget-state+json": {
    "state": {},
    "version_major": 2,
    "version_minor": 0
   }
  }
 },
 "nbformat": 4,
 "nbformat_minor": 5
}
