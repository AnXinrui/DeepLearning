{
 "cells": [
  {
   "cell_type": "code",
   "execution_count": 1,
   "id": "986ee77a-c8df-42a3-a5e0-0c244bd7e1b4",
   "metadata": {},
   "outputs": [],
   "source": [
    "import numpy as np\n",
    "import matplotlib.pyplot as plt\n",
    "import tensorflow as tf"
   ]
  },
  {
   "cell_type": "code",
   "execution_count": 2,
   "id": "66f08dad-fd56-4a67-9878-a615dbd73605",
   "metadata": {},
   "outputs": [],
   "source": [
    "def load_data(path):\n",
    "    with np.load(path) as f:\n",
    "        x_train, y_train = f['x_train'], f['y_train']\n",
    "        x_test, y_test = f['x_test'], f['y_test']\n",
    "        return (x_train, y_train), (x_test, y_test)"
   ]
  },
  {
   "cell_type": "code",
   "execution_count": 3,
   "id": "181ecbb3-df8c-4f66-b4eb-61f51df6c638",
   "metadata": {},
   "outputs": [],
   "source": [
    "((x_train, y_train), (x_test, y_test)) = load_data(\"mnist.npz\")\n",
    "x_train = x_train.astype(\"float32\") / 255.0\n",
    "x_test = x_test.astype(\"float32\") / 255.0"
   ]
  },
  {
   "cell_type": "code",
   "execution_count": 4,
   "id": "100d2d82-9fb9-4950-9e26-ec03fc8c0fbc",
   "metadata": {},
   "outputs": [
    {
     "name": "stdout",
     "output_type": "stream",
     "text": [
      "(60000, 28, 28) <class 'numpy.ndarray'>\n",
      "(60000,) <class 'numpy.ndarray'>\n"
     ]
    }
   ],
   "source": [
    "print(x_train.shape, type(x_train))\n",
    "print(y_train.shape, type(y_train))"
   ]
  },
  {
   "cell_type": "code",
   "execution_count": 5,
   "id": "9ee452db-982d-4d4f-b1a7-1b6127f27be3",
   "metadata": {},
   "outputs": [
    {
     "name": "stdout",
     "output_type": "stream",
     "text": [
      "4\n"
     ]
    },
    {
     "data": {
      "image/png": "[encoded data removed]",
      "text/plain": [
       "<Figure size 640x480 with 1 Axes>"
      ]
     },
     "metadata": {},
     "output_type": "display_data"
    }
   ],
   "source": [
    "plt.imshow(x_train[2])\n",
    "print(y_train[2])"
   ]
  },
  {
   "cell_type": "code",
   "execution_count": 6,
   "id": "ae2747af-9486-4692-9cc3-4df30d1ecd54",
   "metadata": {
    "scrolled": true
   },
   "outputs": [],
   "source": [
    "from collections import Counter\n",
    "cnt = Counter()\n",
    "c = 0\n",
    "trainX1k = []  \n",
    "trainY1k = [] \n",
    "for i in range(6000):\n",
    "    t = y_train[i]\n",
    "    if cnt[t] < 10:\n",
    "        cnt[t] += 1\n",
    "        # np.append(trainX1k, x_train[i])\n",
    "        trainX1k.append(x_train[i])\n",
    "        trainY1k.append(t)\n",
    "        if cnt[t] == 10:\n",
    "            c += 1\n",
    "    if c == 10:\n",
    "        break \n",
    "trainX1k = np.array(trainX1k)\n",
    "trainY1k = np.array(trainY1k)"
   ]
  },
  {
   "cell_type": "code",
   "execution_count": 7,
   "id": "7f6f73c8-544f-44df-a12a-c45402d88471",
   "metadata": {},
   "outputs": [
    {
     "name": "stdout",
     "output_type": "stream",
     "text": [
      "(100, 28, 28) <class 'numpy.ndarray'>\n",
      "(100,) <class 'numpy.ndarray'>\n"
     ]
    }
   ],
   "source": [
    "print(trainX1k.shape, type(x_train))\n",
    "print(trainY1k.shape, type(y_train))"
   ]
  },
  {
   "cell_type": "code",
   "execution_count": 8,
   "id": "69f415d1-e29d-4f54-8fe3-e1e13b13c8c4",
   "metadata": {},
   "outputs": [],
   "source": [
    "model = tf.keras.models.Sequential([\n",
    "  tf.keras.layers.Flatten(input_shape=(28, 28)),\n",
    "  tf.keras.layers.Dense(128, activation='relu'),\n",
    "  tf.keras.layers.Dropout(0.2),\n",
    "  tf.keras.layers.Dense(10, activation='softmax')\n",
    "])"
   ]
  },
  {
   "cell_type": "code",
   "execution_count": 9,
   "id": "a80a5e18-db24-4788-96bb-a27ed7e3a1ef",
   "metadata": {},
   "outputs": [],
   "source": [
    "model.compile(optimizer='adam',\n",
    "              loss='sparse_categorical_crossentropy',\n",
    "              metrics=['accuracy'] )"
   ]
  },
  {
   "cell_type": "code",
   "execution_count": 10,
   "id": "991e349c-c7c9-486a-b61d-a790e5bbfafc",
   "metadata": {},
   "outputs": [],
   "source": [
    "tf_callback1 = tf.keras.callbacks.TensorBoard(log_dir=\"./logs1\")\n",
    "tf_callback2 = tf.keras.callbacks.TensorBoard(log_dir=\"./logs2\")"
   ]
  },
  {
   "cell_type": "code",
   "execution_count": 11,
   "id": "23dfde15-f40f-4ba1-8c88-6fd0bf0bd2c9",
   "metadata": {
    "scrolled": true
   },
   "outputs": [
    {
     "name": "stdout",
     "output_type": "stream",
     "text": [
      "Epoch 1/50\n",
      "   1/1875 [..............................] - ETA: 0s - loss: 2.6490 - accuracy: 0.0312WARNING:tensorflow:From A:\\software\\miniconda\\envs\\tf\\lib\\site-packages\\tensorflow\\python\\ops\\summary_ops_v2.py:1277: stop (from tensorflow.python.eager.profiler) is deprecated and will be removed after 2020-07-01.\n",
      "Instructions for updating:\n",
      "use `tf.profiler.experimental.stop` instead.\n",
      "WARNING:tensorflow:Callbacks method `on_train_batch_end` is slow compared to the batch time (batch time: 0.0000s vs `on_train_batch_end` time: 0.0219s). Check your callbacks.\n",
      "1875/1875 [==============================] - 1s 606us/step - loss: 0.2944 - accuracy: 0.9153\n",
      "Epoch 2/50\n",
      "1875/1875 [==============================] - 1s 606us/step - loss: 0.1413 - accuracy: 0.9574\n",
      "Epoch 3/50\n",
      "1875/1875 [==============================] - 1s 583us/step - loss: 0.1069 - accuracy: 0.9678\n",
      "Epoch 4/50\n",
      "1875/1875 [==============================] - 1s 582us/step - loss: 0.0889 - accuracy: 0.9719\n",
      "Epoch 5/50\n",
      "1875/1875 [==============================] - 1s 585us/step - loss: 0.0761 - accuracy: 0.9767\n",
      "Epoch 6/50\n",
      "1875/1875 [==============================] - 1s 588us/step - loss: 0.0656 - accuracy: 0.9783\n",
      "Epoch 7/50\n",
      "1875/1875 [==============================] - 1s 592us/step - loss: 0.0597 - accuracy: 0.9809\n",
      "Epoch 8/50\n",
      "1875/1875 [==============================] - 1s 602us/step - loss: 0.0525 - accuracy: 0.9831\n",
      "Epoch 9/50\n",
      "1875/1875 [==============================] - 1s 586us/step - loss: 0.0485 - accuracy: 0.9838\n",
      "Epoch 10/50\n",
      "1875/1875 [==============================] - 1s 606us/step - loss: 0.0445 - accuracy: 0.9850\n",
      "Epoch 11/50\n",
      "1875/1875 [==============================] - 1s 584us/step - loss: 0.0411 - accuracy: 0.9864\n",
      "Epoch 12/50\n",
      "1875/1875 [==============================] - 1s 590us/step - loss: 0.0378 - accuracy: 0.9872\n",
      "Epoch 13/50\n",
      "1875/1875 [==============================] - 1s 604us/step - loss: 0.0348 - accuracy: 0.9884\n",
      "Epoch 14/50\n",
      "1875/1875 [==============================] - 1s 595us/step - loss: 0.0339 - accuracy: 0.9885\n",
      "Epoch 15/50\n",
      "1875/1875 [==============================] - 1s 598us/step - loss: 0.0335 - accuracy: 0.9887\n",
      "Epoch 16/50\n",
      "1875/1875 [==============================] - 1s 623us/step - loss: 0.0310 - accuracy: 0.9897\n",
      "Epoch 17/50\n",
      "1875/1875 [==============================] - 1s 605us/step - loss: 0.0299 - accuracy: 0.9899\n",
      "Epoch 18/50\n",
      "1875/1875 [==============================] - 1s 599us/step - loss: 0.0272 - accuracy: 0.9905\n",
      "Epoch 19/50\n",
      "1875/1875 [==============================] - 1s 615us/step - loss: 0.0274 - accuracy: 0.9908\n",
      "Epoch 20/50\n",
      "1875/1875 [==============================] - 1s 632us/step - loss: 0.0262 - accuracy: 0.9911\n",
      "Epoch 21/50\n",
      "1875/1875 [==============================] - 1s 613us/step - loss: 0.0239 - accuracy: 0.9916\n",
      "Epoch 22/50\n",
      "1875/1875 [==============================] - 1s 609us/step - loss: 0.0246 - accuracy: 0.9918\n",
      "Epoch 23/50\n",
      "1875/1875 [==============================] - 1s 609us/step - loss: 0.0241 - accuracy: 0.9919\n",
      "Epoch 24/50\n",
      "1875/1875 [==============================] - 1s 623us/step - loss: 0.0226 - accuracy: 0.9921\n",
      "Epoch 25/50\n",
      "1875/1875 [==============================] - 1s 598us/step - loss: 0.0224 - accuracy: 0.9921\n",
      "Epoch 26/50\n",
      "1875/1875 [==============================] - 1s 589us/step - loss: 0.0206 - accuracy: 0.9929\n",
      "Epoch 27/50\n",
      "1875/1875 [==============================] - 1s 609us/step - loss: 0.0211 - accuracy: 0.9927\n",
      "Epoch 28/50\n",
      "1875/1875 [==============================] - 1s 598us/step - loss: 0.0214 - accuracy: 0.9930\n",
      "Epoch 29/50\n",
      "1875/1875 [==============================] - 1s 609us/step - loss: 0.0208 - accuracy: 0.9927\n",
      "Epoch 30/50\n",
      "1875/1875 [==============================] - 1s 601us/step - loss: 0.0205 - accuracy: 0.9929\n",
      "Epoch 31/50\n",
      "1875/1875 [==============================] - 1s 610us/step - loss: 0.0201 - accuracy: 0.9929\n",
      "Epoch 32/50\n",
      "1875/1875 [==============================] - 1s 619us/step - loss: 0.0187 - accuracy: 0.9934\n",
      "Epoch 33/50\n",
      "1875/1875 [==============================] - 1s 630us/step - loss: 0.0171 - accuracy: 0.9944\n",
      "Epoch 34/50\n",
      "1875/1875 [==============================] - 1s 608us/step - loss: 0.0212 - accuracy: 0.9928\n",
      "Epoch 35/50\n",
      "1875/1875 [==============================] - 1s 628us/step - loss: 0.0184 - accuracy: 0.9938\n",
      "Epoch 36/50\n",
      "1875/1875 [==============================] - 1s 611us/step - loss: 0.0179 - accuracy: 0.9937\n",
      "Epoch 37/50\n",
      "1875/1875 [==============================] - 1s 618us/step - loss: 0.0171 - accuracy: 0.9937\n",
      "Epoch 38/50\n",
      "1875/1875 [==============================] - 1s 613us/step - loss: 0.0188 - accuracy: 0.9937\n",
      "Epoch 39/50\n",
      "1875/1875 [==============================] - 1s 606us/step - loss: 0.0175 - accuracy: 0.9937\n",
      "Epoch 40/50\n",
      "1875/1875 [==============================] - 1s 606us/step - loss: 0.0165 - accuracy: 0.9943\n",
      "Epoch 41/50\n",
      "1875/1875 [==============================] - 1s 644us/step - loss: 0.0153 - accuracy: 0.9948\n",
      "Epoch 42/50\n",
      "1875/1875 [==============================] - 1s 654us/step - loss: 0.0167 - accuracy: 0.9942\n",
      "Epoch 43/50\n",
      "1875/1875 [==============================] - 1s 755us/step - loss: 0.0188 - accuracy: 0.9937\n",
      "Epoch 44/50\n",
      "1875/1875 [==============================] - 1s 624us/step - loss: 0.0146 - accuracy: 0.9951\n",
      "Epoch 45/50\n",
      "1875/1875 [==============================] - 1s 604us/step - loss: 0.0160 - accuracy: 0.9944\n",
      "Epoch 46/50\n",
      "1875/1875 [==============================] - 1s 676us/step - loss: 0.0159 - accuracy: 0.9945\n",
      "Epoch 47/50\n",
      "1875/1875 [==============================] - 1s 657us/step - loss: 0.0149 - accuracy: 0.9948\n",
      "Epoch 48/50\n",
      "1875/1875 [==============================] - 1s 659us/step - loss: 0.0164 - accuracy: 0.9944\n",
      "Epoch 49/50\n",
      "1875/1875 [==============================] - 1s 598us/step - loss: 0.0173 - accuracy: 0.9940\n",
      "Epoch 50/50\n",
      "1875/1875 [==============================] - 1s 626us/step - loss: 0.0143 - accuracy: 0.9954\n"
     ]
    },
    {
     "data": {
      "text/plain": [
       "<tensorflow.python.keras.callbacks.History at 0x1f80552a520>"
      ]
     },
     "execution_count": 11,
     "metadata": {},
     "output_type": "execute_result"
    }
   ],
   "source": [
    "model.fit(x_train, y_train, epochs=50, callbacks=[tf_callback1])"
   ]
  },
  {
   "cell_type": "code",
   "execution_count": 12,
   "id": "11cba741-68ca-47c1-803b-f9563942945b",
   "metadata": {},
   "outputs": [
    {
     "name": "stdout",
     "output_type": "stream",
     "text": [
      "313/313 - 0s - loss: 0.1191 - accuracy: 0.9800\n"
     ]
    },
    {
     "data": {
      "text/plain": [
       "[0.11913862079381943, 0.9800000190734863]"
      ]
     },
     "execution_count": 12,
     "metadata": {},
     "output_type": "execute_result"
    }
   ],
   "source": [
    "model.evaluate(x_test,  y_test, verbose=2)"
   ]
  },
  {
   "cell_type": "code",
   "execution_count": 13,
   "id": "1fb7e04a-74eb-4d88-a2c6-e4501e20f44d",
   "metadata": {},
   "outputs": [],
   "source": [
    "%load_ext tensorboard"
   ]
  },
  {
   "cell_type": "code",
   "execution_count": 22,
   "id": "fcc1108e-3c10-4638-a669-db9440f44242",
   "metadata": {},
   "outputs": [
    {
     "data": {
      "text/html": [
       "\n",
       "      <iframe id=\"tensorboard-frame-ef555f8e3b313a84\" width=\"100%\" height=\"800\" frameborder=\"0\">\n",
       "      </iframe>\n",
       "      <script>\n",
       "        (function() {\n",
       "          const frame = document.getElementById(\"tensorboard-frame-ef555f8e3b313a84\");\n",
       "          const url = new URL(\"/\", window.location);\n",
       "          const port = 6006;\n",
       "          if (port) {\n",
       "            url.port = port;\n",
       "          }\n",
       "          frame.src = url;\n",
       "        })();\n",
       "      </script>\n",
       "    "
      ],
      "text/plain": [
       "<IPython.core.display.HTML object>"
      ]
     },
     "metadata": {},
     "output_type": "display_data"
    }
   ],
   "source": [
    "%tensorboard --logdir logs1 --host localhost"
   ]
  },
  {
   "cell_type": "code",
   "execution_count": 15,
   "id": "60914181-2c2b-43f0-b2f5-60be57438a81",
   "metadata": {
    "scrolled": true
   },
   "outputs": [
    {
     "name": "stdout",
     "output_type": "stream",
     "text": [
      "Epoch 1/50\n",
      "1/4 [======>.......................] - ETA: 0s - loss: 0.0019 - accuracy: 1.0000WARNING:tensorflow:Callbacks method `on_train_batch_end` is slow compared to the batch time (batch time: 0.0000s vs `on_train_batch_end` time: 0.0304s). Check your callbacks.\n",
      "4/4 [==============================] - 0s 9ms/step - loss: 0.0086 - accuracy: 0.9900\n",
      "Epoch 2/50\n",
      "4/4 [==============================] - 0s 1ms/step - loss: 0.0298 - accuracy: 0.9800\n",
      "Epoch 3/50\n",
      "4/4 [==============================] - 0s 999us/step - loss: 0.0139 - accuracy: 0.9900\n",
      "Epoch 4/50\n",
      "4/4 [==============================] - 0s 1ms/step - loss: 0.0221 - accuracy: 0.9900\n",
      "Epoch 5/50\n",
      "4/4 [==============================] - 0s 998us/step - loss: 2.9852e-04 - accuracy: 1.0000\n",
      "Epoch 6/50\n",
      "4/4 [==============================] - 0s 1ms/step - loss: 0.0036 - accuracy: 1.0000\n",
      "Epoch 7/50\n",
      "4/4 [==============================] - 0s 1ms/step - loss: 0.0047 - accuracy: 1.0000\n",
      "Epoch 8/50\n",
      "4/4 [==============================] - 0s 999us/step - loss: 0.0033 - accuracy: 1.0000\n",
      "Epoch 9/50\n",
      "4/4 [==============================] - 0s 2ms/step - loss: 3.7713e-04 - accuracy: 1.0000\n",
      "Epoch 10/50\n",
      "4/4 [==============================] - 0s 1ms/step - loss: 5.8603e-04 - accuracy: 1.0000\n",
      "Epoch 11/50\n",
      "4/4 [==============================] - 0s 1ms/step - loss: 0.0027 - accuracy: 1.0000\n",
      "Epoch 12/50\n",
      "4/4 [==============================] - 0s 1ms/step - loss: 0.0020 - accuracy: 1.0000\n",
      "Epoch 13/50\n",
      "4/4 [==============================] - 0s 1ms/step - loss: 8.3925e-05 - accuracy: 1.0000\n",
      "Epoch 14/50\n",
      "4/4 [==============================] - 0s 1ms/step - loss: 4.9995e-04 - accuracy: 1.0000\n",
      "Epoch 15/50\n",
      "4/4 [==============================] - 0s 1ms/step - loss: 0.0039 - accuracy: 1.0000\n",
      "Epoch 16/50\n",
      "4/4 [==============================] - 0s 1ms/step - loss: 0.0017 - accuracy: 1.0000\n",
      "Epoch 17/50\n",
      "4/4 [==============================] - 0s 1ms/step - loss: 3.9546e-04 - accuracy: 1.0000\n",
      "Epoch 18/50\n",
      "4/4 [==============================] - 0s 1ms/step - loss: 4.2132e-04 - accuracy: 1.0000\n",
      "Epoch 19/50\n",
      "4/4 [==============================] - 0s 999us/step - loss: 0.0035 - accuracy: 1.0000\n",
      "Epoch 20/50\n",
      "4/4 [==============================] - 0s 1ms/step - loss: 1.2497e-04 - accuracy: 1.0000\n",
      "Epoch 21/50\n",
      "4/4 [==============================] - 0s 1ms/step - loss: 3.6309e-04 - accuracy: 1.0000\n",
      "Epoch 22/50\n",
      "4/4 [==============================] - 0s 2ms/step - loss: 0.0021 - accuracy: 1.0000\n",
      "Epoch 23/50\n",
      "4/4 [==============================] - 0s 2ms/step - loss: 1.3622e-04 - accuracy: 1.0000\n",
      "Epoch 24/50\n",
      "4/4 [==============================] - 0s 1ms/step - loss: 1.5700e-05 - accuracy: 1.0000\n",
      "Epoch 25/50\n",
      "4/4 [==============================] - 0s 1ms/step - loss: 5.7643e-04 - accuracy: 1.0000\n",
      "Epoch 26/50\n",
      "4/4 [==============================] - 0s 1ms/step - loss: 0.0025 - accuracy: 1.0000\n",
      "Epoch 27/50\n",
      "4/4 [==============================] - 0s 889us/step - loss: 9.7142e-05 - accuracy: 1.0000\n",
      "Epoch 28/50\n",
      "4/4 [==============================] - 0s 1ms/step - loss: 0.0018 - accuracy: 1.0000\n",
      "Epoch 29/50\n",
      "4/4 [==============================] - 0s 2ms/step - loss: 0.0012 - accuracy: 1.0000\n",
      "Epoch 30/50\n",
      "4/4 [==============================] - 0s 1ms/step - loss: 1.9149e-04 - accuracy: 1.0000\n",
      "Epoch 31/50\n",
      "4/4 [==============================] - 0s 1ms/step - loss: 0.0058 - accuracy: 1.0000\n",
      "Epoch 32/50\n",
      "4/4 [==============================] - 0s 171us/step - loss: 0.0118 - accuracy: 0.9900\n",
      "Epoch 33/50\n",
      "4/4 [==============================] - 0s 1ms/step - loss: 0.0088 - accuracy: 0.9900\n",
      "Epoch 34/50\n",
      "4/4 [==============================] - 0s 875us/step - loss: 9.6168e-05 - accuracy: 1.0000\n",
      "Epoch 35/50\n",
      "4/4 [==============================] - 0s 1ms/step - loss: 7.8358e-05 - accuracy: 1.0000\n",
      "Epoch 36/50\n",
      "4/4 [==============================] - 0s 2ms/step - loss: 1.3704e-04 - accuracy: 1.0000\n",
      "Epoch 37/50\n",
      "4/4 [==============================] - 0s 1ms/step - loss: 6.8572e-04 - accuracy: 1.0000\n",
      "Epoch 38/50\n",
      "4/4 [==============================] - 0s 1ms/step - loss: 6.7339e-05 - accuracy: 1.0000\n",
      "Epoch 39/50\n",
      "4/4 [==============================] - 0s 1ms/step - loss: 2.8524e-04 - accuracy: 1.0000\n",
      "Epoch 40/50\n",
      "4/4 [==============================] - 0s 751us/step - loss: 0.0104 - accuracy: 0.9900\n",
      "Epoch 41/50\n",
      "4/4 [==============================] - 0s 1ms/step - loss: 9.8441e-05 - accuracy: 1.0000\n",
      "Epoch 42/50\n",
      "4/4 [==============================] - 0s 1ms/step - loss: 2.2424e-04 - accuracy: 1.0000\n",
      "Epoch 43/50\n",
      "4/4 [==============================] - 0s 1ms/step - loss: 0.0077 - accuracy: 0.9900\n",
      "Epoch 44/50\n",
      "4/4 [==============================] - 0s 1ms/step - loss: 5.8201e-04 - accuracy: 1.0000\n",
      "Epoch 45/50\n",
      "4/4 [==============================] - 0s 1ms/step - loss: 8.2942e-04 - accuracy: 1.0000\n",
      "Epoch 46/50\n",
      "4/4 [==============================] - 0s 1ms/step - loss: 3.9998e-05 - accuracy: 1.0000\n",
      "Epoch 47/50\n",
      "4/4 [==============================] - 0s 1ms/step - loss: 7.9107e-05 - accuracy: 1.0000\n",
      "Epoch 48/50\n",
      "4/4 [==============================] - 0s 2ms/step - loss: 3.7836e-04 - accuracy: 1.0000\n",
      "Epoch 49/50\n",
      "4/4 [==============================] - 0s 2ms/step - loss: 1.3147e-04 - accuracy: 1.0000\n",
      "Epoch 50/50\n",
      "4/4 [==============================] - 0s 2ms/step - loss: 0.0017 - accuracy: 1.0000\n"
     ]
    },
    {
     "data": {
      "text/plain": [
       "<tensorflow.python.keras.callbacks.History at 0x1f807907370>"
      ]
     },
     "execution_count": 15,
     "metadata": {},
     "output_type": "execute_result"
    }
   ],
   "source": [
    "model.fit(trainX1k, trainY1k, epochs=50, callbacks=[tf_callback2])"
   ]
  },
  {
   "cell_type": "code",
   "execution_count": 16,
   "id": "5eaf1f67-ccb9-42a6-b9c7-509f401966ae",
   "metadata": {},
   "outputs": [
    {
     "name": "stdout",
     "output_type": "stream",
     "text": [
      "313/313 - 0s - loss: 0.1167 - accuracy: 0.9806\n"
     ]
    },
    {
     "data": {
      "text/plain": [
       "[0.11670375615358353, 0.9805999994277954]"
      ]
     },
     "execution_count": 16,
     "metadata": {},
     "output_type": "execute_result"
    }
   ],
   "source": [
    "model.evaluate(x_test,  y_test, verbose=2)"
   ]
  },
  {
   "cell_type": "code",
   "execution_count": 17,
   "id": "2dcbbb4f-1e23-4ea5-b5ae-a795a28b4fc8",
   "metadata": {},
   "outputs": [
    {
     "name": "stdout",
     "output_type": "stream",
     "text": [
      "The tensorboard extension is already loaded. To reload it, use:\n",
      "  %reload_ext tensorboard\n"
     ]
    }
   ],
   "source": [
    "%load_ext tensorboard"
   ]
  },
  {
   "cell_type": "code",
   "execution_count": 23,
   "id": "771140f8-d4a5-4ae3-b7db-efe59be26d46",
   "metadata": {},
   "outputs": [
    {
     "data": {
      "text/html": [
       "\n",
       "      <iframe id=\"tensorboard-frame-d19e005969db0012\" width=\"100%\" height=\"800\" frameborder=\"0\">\n",
       "      </iframe>\n",
       "      <script>\n",
       "        (function() {\n",
       "          const frame = document.getElementById(\"tensorboard-frame-d19e005969db0012\");\n",
       "          const url = new URL(\"/\", window.location);\n",
       "          const port = 6006;\n",
       "          if (port) {\n",
       "            url.port = port;\n",
       "          }\n",
       "          frame.src = url;\n",
       "        })();\n",
       "      </script>\n",
       "    "
      ],
      "text/plain": [
       "<IPython.core.display.HTML object>"
      ]
     },
     "metadata": {},
     "output_type": "display_data"
    }
   ],
   "source": [
    "%tensorboard --logdir logs2 --host localhost"
   ]
  },
  {
   "cell_type": "code",
   "execution_count": null,
   "id": "5fecd350-279b-464c-9bfc-c452f9e50e21",
   "metadata": {},
   "outputs": [],
   "source": []
  }
 ],
 "metadata": {
  "kernelspec": {
   "display_name": "Python 3 (ipykernel)",
   "language": "python",
   "name": "python3"
  },
  "language_info": {
   "codemirror_mode": {
    "name": "ipython",
    "version": 3
   },
   "file_extension": ".py",
   "mimetype": "text/x-python",
   "name": "python",
   "nbconvert_exporter": "python",
   "pygments_lexer": "ipython3",
   "version": "3.8.18"
  },
  "widgets": {
   "application/vnd.jupyter.widget-state+json": {
    "state": {},
    "version_major": 2,
    "version_minor": 0
   }
  }
 },
 "nbformat": 4,
 "nbformat_minor": 5
}
