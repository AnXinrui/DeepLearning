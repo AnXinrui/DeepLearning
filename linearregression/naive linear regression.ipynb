{
 "cells": [
  {
   "cell_type": "markdown",
   "id": "4e4d82e9-4e4e-4d7c-b8d6-38ff01c58f83",
   "metadata": {},
   "source": [
    "### Simple implementation of linear regression"
   ]
  },
  {
   "cell_type": "code",
   "execution_count": 1,
   "id": "f68e41bf-b7ba-4e1b-a9bc-49a78c4b4519",
   "metadata": {},
   "outputs": [],
   "source": [
    "%matplotlib inline\n",
    "import random\n",
    "import torch\n",
    "import numpy as np\n",
    "from torch.utils import data"
   ]
  },
  {
   "cell_type": "markdown",
   "id": "b208c5f8-3e49-4dbe-8d67-c0be585aa47b",
   "metadata": {},
   "source": [
    "- synthetic data set"
   ]
  },
  {
   "cell_type": "code",
   "execution_count": 2,
   "id": "ec2fc266-ce52-47ac-9c47-1853297c5bca",
   "metadata": {},
   "outputs": [],
   "source": [
    "def synthetic_data(w, b, nums):\n",
    "    # 生成一个形状为 (nums, len(w)) 的张量 X，\n",
    "    # 每个元素都是从均值为 0 和标准差为 1 的正态分布中采样的随机数\n",
    "    X = torch.normal(0, 1, (nums, len(w)))\n",
    "    y = torch.matmul(X, w) + b\n",
    "\n",
    "    y += torch.normal(0, 0.01, y.shape)\n",
    "    return X, y.reshape((-1, 1))\n",
    "\n",
    "real_w = torch.tensor([4.0, 8])\n",
    "real_b = 13\n",
    "\n",
    "features, labels = synthetic_data(real_w, real_b, 1000)"
   ]
  },
  {
   "cell_type": "markdown",
   "id": "15d124de-f350-45e8-9140-3af1b08f9706",
   "metadata": {},
   "source": [
    "- Read data set"
   ]
  },
  {
   "cell_type": "code",
   "execution_count": 3,
   "id": "2b153f55-fe24-4438-8a6d-a41c76f5e996",
   "metadata": {},
   "outputs": [],
   "source": [
    "def load_array(data_arrays, batch_size, is_train = True):\n",
    "    \"\"\"构造一个PyTorch数据迭代器\"\"\"\n",
    "    dataset = data.TensorDataset(*data_arrays)  # from torch.utils import data\n",
    "    # shuffle = True 代表随机打乱数据\n",
    "    return data.DataLoader(dataset, batch_size, shuffle=is_train)\n",
    "\n",
    "batch_size = 10\n",
    "data_iter = load_array((features, labels), batch_size)\n",
    "\n",
    "# next(iter(data_iter))"
   ]
  },
  {
   "cell_type": "markdown",
   "id": "8a6faf8e-533d-40b5-b545-845917340e81",
   "metadata": {},
   "source": [
    "- Definition model"
   ]
  },
  {
   "cell_type": "code",
   "execution_count": 4,
   "id": "a372ef9d-6d6b-41af-9113-6e61b64e45ba",
   "metadata": {},
   "outputs": [],
   "source": [
    "from torch import nn\n",
    "# nn是神经网络的缩写\n",
    "\n",
    " # 创建一个包含单个线性层（输入大小为2，输出大小为1）的顺序模型\n",
    "net = nn.Sequential(nn.Linear(2, 1))"
   ]
  },
  {
   "cell_type": "code",
   "execution_count": 5,
   "id": "45c7d764-530a-4e50-84f5-904f197e70e4",
   "metadata": {},
   "outputs": [
    {
     "data": {
      "text/plain": [
       "tensor([0.])"
      ]
     },
     "execution_count": 5,
     "metadata": {},
     "output_type": "execute_result"
    }
   ],
   "source": [
    "# 初始化随机参数\n",
    "\n",
    "net[0].weight.data.normal_(0, 0.01)  # 用均值为0、标准差为0.01的正态分布初始化权重\n",
    "net[0].bias.data.fill_(0)            # 将偏置初始化为0"
   ]
  },
  {
   "cell_type": "markdown",
   "id": "e8416073-b0f3-4245-9a9c-bed5525e977a",
   "metadata": {},
   "source": [
    "- Loss Function"
   ]
  },
  {
   "cell_type": "code",
   "execution_count": 6,
   "id": "15292723-09ef-4acb-8cd6-f2957a558fe1",
   "metadata": {},
   "outputs": [],
   "source": [
    "# loss = nn.MSELoss()\n",
    "# loss = nn.SmoothL1Loss()\n",
    "loss = nn.HuberLoss()"
   ]
  },
  {
   "cell_type": "markdown",
   "id": "7835feed-3e7f-4ae1-92b3-31941c65a4d8",
   "metadata": {},
   "source": [
    "- Define optimization algorithm"
   ]
  },
  {
   "cell_type": "code",
   "execution_count": 7,
   "id": "d91be84f-c49e-4378-b6c8-3d2a84728493",
   "metadata": {},
   "outputs": [],
   "source": [
    "trainer = torch.optim.SGD(net.parameters(), lr = 0.03)"
   ]
  },
  {
   "cell_type": "markdown",
   "id": "8fb8a9ad-21af-428e-a749-a7201c2464d4",
   "metadata": {},
   "source": [
    "- trainning"
   ]
  },
  {
   "cell_type": "code",
   "execution_count": 8,
   "id": "6625d7d0-8157-4400-b830-1e76a96b6349",
   "metadata": {},
   "outputs": [
    {
     "name": "stdout",
     "output_type": "stream",
     "text": [
      "epoch 1, loss 10.725412\n",
      "epoch 2, loss 8.448749\n",
      "epoch 3, loss 6.270616\n",
      "epoch 4, loss 4.186986\n",
      "epoch 5, loss 2.216776\n",
      "epoch 6, loss 0.465579\n",
      "epoch 7, loss 0.002158\n"
     ]
    }
   ],
   "source": [
    "num_epochs = 7\n",
    "for epoch in range(num_epochs):\n",
    "    for X, y in data_iter:\n",
    "        l = loss(net(X), y)\n",
    "        trainer.zero_grad()\n",
    "        l.backward()\n",
    "        trainer.step()\n",
    "    l = loss(net(features), labels)\n",
    "    print(f'epoch {epoch + 1}, loss {l:f}')"
   ]
  },
  {
   "cell_type": "code",
   "execution_count": 9,
   "id": "c728fecd-3b2c-4718-b205-b1cab900a59a",
   "metadata": {},
   "outputs": [
    {
     "name": "stdout",
     "output_type": "stream",
     "text": [
      "tensor([[3.9666, 7.9495]])\n",
      "tensor([12.9734])\n",
      "w的估计误差： tensor([0.0334, 0.0505])\n",
      "b的估计误差： tensor([0.0266])\n"
     ]
    }
   ],
   "source": [
    "w = net[0].weight.data\n",
    "b = net[0].bias.data\n",
    "print(w)\n",
    "print(b)\n",
    "print('w的估计误差：', real_w - w.reshape(real_w.shape))\n",
    "print('b的估计误差：', real_b - b)"
   ]
  }
 ],
 "metadata": {
  "kernelspec": {
   "display_name": "Python 3 (ipykernel)",
   "language": "python",
   "name": "python3"
  },
  "language_info": {
   "codemirror_mode": {
    "name": "ipython",
    "version": 3
   },
   "file_extension": ".py",
   "mimetype": "text/x-python",
   "name": "python",
   "nbconvert_exporter": "python",
   "pygments_lexer": "ipython3",
   "version": "3.9.18"
  }
 },
 "nbformat": 4,
 "nbformat_minor": 5
}
